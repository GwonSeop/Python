{
  "nbformat": 4,
  "nbformat_minor": 0,
  "metadata": {
    "colab": {
      "name": "U07출력.ipynb",
      "provenance": []
    },
    "kernelspec": {
      "name": "python3",
      "display_name": "Python 3"
    },
    "language_info": {
      "name": "python"
    }
  },
  "cells": [
    {
      "cell_type": "markdown",
      "metadata": {
        "id": "hhRBaWXdZ20R"
      },
      "source": [
        "# Unit 7.출력"
      ]
    },
    {
      "cell_type": "markdown",
      "metadata": {
        "id": "75GR1viLbEaM"
      },
      "source": [
        "## 7.1 여러개 값을 출력\n"
      ]
    },
    {
      "cell_type": "code",
      "metadata": {
        "colab": {
          "base_uri": "https://localhost:8080/"
        },
        "id": "aCQNMvLNZtGI",
        "outputId": "ab22cb53-18a4-4f52-c710-6c8cc89bf9d7"
      },
      "source": [
        "a ,b = map(int, input('정수 두개 입력> ').split())\n",
        "a\n",
        "b"
      ],
      "execution_count": 3,
      "outputs": [
        {
          "output_type": "stream",
          "text": [
            "정수 두개 입력> 10 11\n"
          ],
          "name": "stdout"
        },
        {
          "output_type": "execute_result",
          "data": {
            "text/plain": [
              "11"
            ]
          },
          "metadata": {
            "tags": []
          },
          "execution_count": 3
        }
      ]
    },
    {
      "cell_type": "code",
      "metadata": {
        "colab": {
          "base_uri": "https://localhost:8080/"
        },
        "id": "ey5_C5oRaQ1d",
        "outputId": "c75d7a2b-8dd9-4b92-9baf-055ac2f33de5"
      },
      "source": [
        "a ,b = map(int, input('정수 두개 입력> ').split())\n",
        "print(a)\n",
        "print(b)"
      ],
      "execution_count": 4,
      "outputs": [
        {
          "output_type": "stream",
          "text": [
            "정수 두개 입력> 10 20\n",
            "10\n",
            "20\n"
          ],
          "name": "stdout"
        }
      ]
    },
    {
      "cell_type": "code",
      "metadata": {
        "colab": {
          "base_uri": "https://localhost:8080/"
        },
        "id": "LiDqsmlhaAb7",
        "outputId": "7c1883d5-d2d3-4d32-aa72-dfa5a57b8e2c"
      },
      "source": [
        "print(a, b)"
      ],
      "execution_count": 5,
      "outputs": [
        {
          "output_type": "stream",
          "text": [
            "10 20\n"
          ],
          "name": "stdout"
        }
      ]
    },
    {
      "cell_type": "code",
      "metadata": {
        "colab": {
          "base_uri": "https://localhost:8080/"
        },
        "id": "75gyjqB5avwW",
        "outputId": "e7be39af-bea2-4722-f261-bd89a0ab4a08"
      },
      "source": [
        "print(a, b, sep='뿌지직') #sep 값과 값 사이에 구분짓는 기호"
      ],
      "execution_count": 10,
      "outputs": [
        {
          "output_type": "stream",
          "text": [
            "10뿌지직20\n"
          ],
          "name": "stdout"
        }
      ]
    },
    {
      "cell_type": "markdown",
      "metadata": {
        "id": "D6q0pMCwbHxU"
      },
      "source": [
        "## 7.2 줄바꿈 활용"
      ]
    },
    {
      "cell_type": "code",
      "metadata": {
        "colab": {
          "base_uri": "https://localhost:8080/"
        },
        "id": "xPv02z2QbKi-",
        "outputId": "21f0bbcb-2d7f-4b20-cb79-ff066e6e9d29"
      },
      "source": [
        "print(a, b , sep='\\n') #   \\n << 줄바꿈 "
      ],
      "execution_count": 11,
      "outputs": [
        {
          "output_type": "stream",
          "text": [
            "10\n",
            "20\n"
          ],
          "name": "stdout"
        }
      ]
    },
    {
      "cell_type": "code",
      "metadata": {
        "colab": {
          "base_uri": "https://localhost:8080/"
        },
        "id": "ZRUNF5wrbhhT",
        "outputId": "ca2a0bed-cc9c-4d33-8bcd-9a6eb69d04ac"
      },
      "source": [
        "print(a, b, sep='/\\\\') # \\는 특별하게 하나만으로는 표시가 되지 않는다"
      ],
      "execution_count": 12,
      "outputs": [
        {
          "output_type": "stream",
          "text": [
            "10/\\20\n"
          ],
          "name": "stdout"
        }
      ]
    },
    {
      "cell_type": "code",
      "metadata": {
        "id": "kaQft6POcHn2"
      },
      "source": [
        "with open('\\\\workspace\\\\01pythonprogramming')\n",
        "with open('/workspace/01pythonprogramming') #두개가 같다."
      ],
      "execution_count": null,
      "outputs": []
    },
    {
      "cell_type": "code",
      "metadata": {
        "colab": {
          "base_uri": "https://localhost:8080/"
        },
        "id": "kb0ekn8jcbCd",
        "outputId": "67afc8de-8894-4c66-c754-20cd7a3d6a4c"
      },
      "source": [
        "print(a, end=' ') # 줄바꿈이 싫을 때\n",
        "print(b)"
      ],
      "execution_count": 13,
      "outputs": [
        {
          "output_type": "stream",
          "text": [
            "10 20\n"
          ],
          "name": "stdout"
        }
      ]
    }
  ]
}