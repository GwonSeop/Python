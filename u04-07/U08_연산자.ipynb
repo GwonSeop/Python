{
  "nbformat": 4,
  "nbformat_minor": 0,
  "metadata": {
    "colab": {
      "name": "U08_연산자.ipynb",
      "provenance": [],
      "collapsed_sections": []
    },
    "kernelspec": {
      "name": "python3",
      "display_name": "Python 3"
    },
    "language_info": {
      "name": "python"
    }
  },
  "cells": [
    {
      "cell_type": "markdown",
      "metadata": {
        "id": "MOXbfUWdfewm"
      },
      "source": [
        "#Unit 8.불과 비교/논리 연산자"
      ]
    },
    {
      "cell_type": "markdown",
      "metadata": {
        "id": "_x9rBJeMgm26"
      },
      "source": [
        "## 8.1 불과 비교 연산자"
      ]
    },
    {
      "cell_type": "code",
      "metadata": {
        "colab": {
          "base_uri": "https://localhost:8080/"
        },
        "id": "vOdGMlk7fdkt",
        "outputId": "fa4fe506-c9a7-44df-efe8-cc481a054f81"
      },
      "source": [
        "True, False"
      ],
      "execution_count": 1,
      "outputs": [
        {
          "output_type": "execute_result",
          "data": {
            "text/plain": [
              "(True, False)"
            ]
          },
          "metadata": {
            "tags": []
          },
          "execution_count": 1
        }
      ]
    },
    {
      "cell_type": "code",
      "metadata": {
        "colab": {
          "base_uri": "https://localhost:8080/"
        },
        "id": "oX_8QQJlfx30",
        "outputId": "76e3e9e9-20fb-43c3-888c-98822f8f8885"
      },
      "source": [
        "# >, >=, <, <=, ==, != (같지않다)\n",
        "10 >= 5"
      ],
      "execution_count": 2,
      "outputs": [
        {
          "output_type": "execute_result",
          "data": {
            "text/plain": [
              "True"
            ]
          },
          "metadata": {
            "tags": []
          },
          "execution_count": 2
        }
      ]
    },
    {
      "cell_type": "code",
      "metadata": {
        "colab": {
          "base_uri": "https://localhost:8080/"
        },
        "id": "9zNwmO8Gf8gR",
        "outputId": "438c937e-fd4b-4ab8-9299-d466ed71a8e0"
      },
      "source": [
        "a = 10 !=5\n",
        "a"
      ],
      "execution_count": 3,
      "outputs": [
        {
          "output_type": "execute_result",
          "data": {
            "text/plain": [
              "True"
            ]
          },
          "metadata": {
            "tags": []
          },
          "execution_count": 3
        }
      ]
    },
    {
      "cell_type": "code",
      "metadata": {
        "colab": {
          "base_uri": "https://localhost:8080/"
        },
        "id": "Ne6A1xoxgLSN",
        "outputId": "93afd181-19cd-490b-c1a6-8f01a756a724"
      },
      "source": [
        "'Python' =='python'"
      ],
      "execution_count": 4,
      "outputs": [
        {
          "output_type": "execute_result",
          "data": {
            "text/plain": [
              "False"
            ]
          },
          "metadata": {
            "tags": []
          },
          "execution_count": 4
        }
      ]
    },
    {
      "cell_type": "markdown",
      "metadata": {
        "id": "PpUw7cVDgivD"
      },
      "source": [
        "## 8.2 논리 연산자"
      ]
    },
    {
      "cell_type": "markdown",
      "metadata": {
        "id": "NMkVvW08jg4A"
      },
      "source": [
        "- and, or, not"
      ]
    },
    {
      "cell_type": "code",
      "metadata": {
        "colab": {
          "base_uri": "https://localhost:8080/"
        },
        "id": "adCnNGnNgSra",
        "outputId": "1152010c-9e58-45b2-9028-d9d30718cac3"
      },
      "source": [
        "not True and False or not False"
      ],
      "execution_count": 5,
      "outputs": [
        {
          "output_type": "execute_result",
          "data": {
            "text/plain": [
              "True"
            ]
          },
          "metadata": {
            "tags": []
          },
          "execution_count": 5
        }
      ]
    },
    {
      "cell_type": "code",
      "metadata": {
        "colab": {
          "base_uri": "https://localhost:8080/"
        },
        "id": "v6JgUv-_kYy6",
        "outputId": "d9f8fa0a-90e9-471c-fa54-8946900f80b8"
      },
      "source": [
        "((not True) and False) or (not False)"
      ],
      "execution_count": 6,
      "outputs": [
        {
          "output_type": "execute_result",
          "data": {
            "text/plain": [
              "True"
            ]
          },
          "metadata": {
            "tags": []
          },
          "execution_count": 6
        }
      ]
    },
    {
      "cell_type": "code",
      "metadata": {
        "colab": {
          "base_uri": "https://localhost:8080/"
        },
        "id": "edXTcX0Jkd-x",
        "outputId": "7483682e-fba3-4c72-e1be-68855c3ea5a0"
      },
      "source": [
        "# x > 10, x < 5\n",
        "x = 6\n",
        "x > 10 or x < 5"
      ],
      "execution_count": 7,
      "outputs": [
        {
          "output_type": "execute_result",
          "data": {
            "text/plain": [
              "False"
            ]
          },
          "metadata": {
            "tags": []
          },
          "execution_count": 7
        }
      ]
    },
    {
      "cell_type": "code",
      "metadata": {
        "colab": {
          "base_uri": "https://localhost:8080/"
        },
        "id": "hoV4ppKHknV3",
        "outputId": "86f35bcf-a1e0-4d07-b15e-b448f2e0d061"
      },
      "source": [
        "# 5 < x < 10\n",
        "x > 5 and x < 10\n",
        "5 < x < 10 # 파이썬에서는 가능"
      ],
      "execution_count": 8,
      "outputs": [
        {
          "output_type": "execute_result",
          "data": {
            "text/plain": [
              "True"
            ]
          },
          "metadata": {
            "tags": []
          },
          "execution_count": 8
        }
      ]
    },
    {
      "cell_type": "markdown",
      "metadata": {
        "id": "6kRk7maYlGtS"
      },
      "source": [
        "### 정수, 실수, 문자열"
      ]
    },
    {
      "cell_type": "code",
      "metadata": {
        "colab": {
          "base_uri": "https://localhost:8080/"
        },
        "id": "QLZUMaa_lKex",
        "outputId": "f6817995-560d-4d42-b415-51eada58fa4d"
      },
      "source": [
        "bool (0), bool(1) # bool() << 0,공백은 False 나머지 수,글자는 True로 입력해줌"
      ],
      "execution_count": 11,
      "outputs": [
        {
          "output_type": "execute_result",
          "data": {
            "text/plain": [
              "(False, True)"
            ]
          },
          "metadata": {
            "tags": []
          },
          "execution_count": 11
        }
      ]
    },
    {
      "cell_type": "code",
      "metadata": {
        "colab": {
          "base_uri": "https://localhost:8080/"
        },
        "id": "1dUWmFvplo-U",
        "outputId": "c8eafac6-be33-41b3-ffaa-62c33f821dd6"
      },
      "source": [
        "int(True), int(False) # 참은 1, 거짓은 0의 값으로 대응"
      ],
      "execution_count": 12,
      "outputs": [
        {
          "output_type": "execute_result",
          "data": {
            "text/plain": [
              "(1, 0)"
            ]
          },
          "metadata": {
            "tags": []
          },
          "execution_count": 12
        }
      ]
    },
    {
      "cell_type": "code",
      "metadata": {
        "colab": {
          "base_uri": "https://localhost:8080/"
        },
        "id": "gQYZstu6mLyU",
        "outputId": "97d77f2c-5983-4f92-837a-94c197c75dfb"
      },
      "source": [
        "2 or 'python'  # 앞의 bool값이 참이므로 뒤와 상관없이 참(앞의 값을 출력)"
      ],
      "execution_count": 13,
      "outputs": [
        {
          "output_type": "execute_result",
          "data": {
            "text/plain": [
              "2"
            ]
          },
          "metadata": {
            "tags": []
          },
          "execution_count": 13
        }
      ]
    },
    {
      "cell_type": "code",
      "metadata": {
        "colab": {
          "base_uri": "https://localhost:8080/",
          "height": 35
        },
        "id": "2HOTmrHImcnj",
        "outputId": "0036987d-2ab0-421c-d3df-5bf3374d69ea"
      },
      "source": [
        "0 or 'python'  # 앞의 bool값이 거짓이므로 뒤에 의존(뒤의 값을 출력)"
      ],
      "execution_count": 14,
      "outputs": [
        {
          "output_type": "execute_result",
          "data": {
            "application/vnd.google.colaboratory.intrinsic+json": {
              "type": "string"
            },
            "text/plain": [
              "'python'"
            ]
          },
          "metadata": {
            "tags": []
          },
          "execution_count": 14
        }
      ]
    },
    {
      "cell_type": "code",
      "metadata": {
        "colab": {
          "base_uri": "https://localhost:8080/",
          "height": 35
        },
        "id": "GzBCguCImgXM",
        "outputId": "0e837ba3-221c-4d3e-ac79-2d75a0565678"
      },
      "source": [
        "1 and 'python' # 앞의 bool값이 참이므로 뒤에 의존(뒤의 값을 출력)"
      ],
      "execution_count": 15,
      "outputs": [
        {
          "output_type": "execute_result",
          "data": {
            "application/vnd.google.colaboratory.intrinsic+json": {
              "type": "string"
            },
            "text/plain": [
              "'python'"
            ]
          },
          "metadata": {
            "tags": []
          },
          "execution_count": 15
        }
      ]
    },
    {
      "cell_type": "code",
      "metadata": {
        "colab": {
          "base_uri": "https://localhost:8080/"
        },
        "id": "Vdz7km23mkxj",
        "outputId": "8750fb4b-6203-4424-ce5e-cea2c491d188"
      },
      "source": [
        "0 and 'python'  # 앞의 bool값이 거짓이므로 뒤와 상관없이 거짓(앞의 값을 출력)"
      ],
      "execution_count": 16,
      "outputs": [
        {
          "output_type": "execute_result",
          "data": {
            "text/plain": [
              "0"
            ]
          },
          "metadata": {
            "tags": []
          },
          "execution_count": 16
        }
      ]
    }
  ]
}