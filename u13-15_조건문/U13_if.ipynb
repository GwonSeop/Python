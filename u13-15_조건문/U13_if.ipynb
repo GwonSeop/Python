{
  "nbformat": 4,
  "nbformat_minor": 0,
  "metadata": {
    "colab": {
      "name": "U13_if.ipynb",
      "provenance": [],
      "collapsed_sections": []
    },
    "kernelspec": {
      "name": "python3",
      "display_name": "Python 3"
    },
    "language_info": {
      "name": "python"
    }
  },
  "cells": [
    {
      "cell_type": "markdown",
      "metadata": {
        "id": "SvXzW2RLguGx"
      },
      "source": [
        "# Unit 13. if조건문"
      ]
    },
    {
      "cell_type": "markdown",
      "metadata": {
        "id": "Nb7t-jmFhqoS"
      },
      "source": [
        "##13.1 if 조건문"
      ]
    },
    {
      "cell_type": "code",
      "metadata": {
        "colab": {
          "base_uri": "https://localhost:8080/"
        },
        "id": "s5ExbJi-gVb0",
        "outputId": "1ec92d07-2f3d-4824-becc-c5cbf68c5359"
      },
      "source": [
        "x = 10\n",
        "if x == 10:\n",
        "  print('It is 10.')"
      ],
      "execution_count": 2,
      "outputs": [
        {
          "output_type": "stream",
          "text": [
            "It is 10.\n"
          ],
          "name": "stdout"
        }
      ]
    },
    {
      "cell_type": "code",
      "metadata": {
        "colab": {
          "base_uri": "https://localhost:8080/"
        },
        "id": "Y4UYDP9IiGSK",
        "outputId": "4850d83a-7d34-4547-a913-fb226f692322"
      },
      "source": [
        "# 0 이외의 수는 참이기때문에 주의\n",
        "x = 9\n",
        "if x:\n",
        "  print('It is 10.')"
      ],
      "execution_count": 4,
      "outputs": [
        {
          "output_type": "stream",
          "text": [
            "It is 10.\n"
          ],
          "name": "stdout"
        }
      ]
    },
    {
      "cell_type": "markdown",
      "metadata": {
        "id": "-kXyxA89izS7"
      },
      "source": [
        "## 13.2 들여쓰기"
      ]
    },
    {
      "cell_type": "code",
      "metadata": {
        "colab": {
          "base_uri": "https://localhost:8080/"
        },
        "id": "JGfW1ruNi3wD",
        "outputId": "516e3fb2-b8d8-494d-d26a-9b7a065d370c"
      },
      "source": [
        "x = 9\n",
        "if x == 10:\n",
        "  print('x값은')\n",
        "  if x>5:\n",
        "    print('10입니다.')\n",
        "print('언제나 출력됩니다.')"
      ],
      "execution_count": 9,
      "outputs": [
        {
          "output_type": "stream",
          "text": [
            "언제나 출력됩니다.\n"
          ],
          "name": "stdout"
        }
      ]
    },
    {
      "cell_type": "markdown",
      "metadata": {
        "id": "ykLiOprkkIkE"
      },
      "source": [
        "##13.3 중첩 if 조건문"
      ]
    },
    {
      "cell_type": "code",
      "metadata": {
        "colab": {
          "base_uri": "https://localhost:8080/"
        },
        "id": "YBiJAPqQkMdm",
        "outputId": "519aed4b-60b0-4dae-e693-33a304c32d25"
      },
      "source": [
        "x = 15\n",
        "if x > 10:\n",
        "  print('10보다 큰 숫자입니다.')\n",
        "  if x == 15:\n",
        "        print('15 입니다.')\n",
        "  if x != 20:\n",
        "        print('20이 아닙니다.')"
      ],
      "execution_count": 13,
      "outputs": [
        {
          "output_type": "stream",
          "text": [
            "10보다 큰 숫자입니다.\n",
            "15 입니다.\n",
            "20이 아닙니다.\n"
          ],
          "name": "stdout"
        }
      ]
    },
    {
      "cell_type": "code",
      "metadata": {
        "colab": {
          "base_uri": "https://localhost:8080/"
        },
        "id": "v3seoz_Kk2YN",
        "outputId": "fc938090-4746-4531-f04b-9be5c8426535"
      },
      "source": [
        "x = int(input('정수를 입력하세요.>'))\n",
        "if x > 10:\n",
        "  print('10보다 큰 숫자입니다.')\n",
        "  if x == 15:\n",
        "      print('15 입니다.')\n",
        "  if x == 20:\n",
        "      print('20 입니다.')"
      ],
      "execution_count": 15,
      "outputs": [
        {
          "output_type": "stream",
          "text": [
            "정수를 입력하세요.>20\n",
            "10보다 큰 숫자입니다.\n",
            "20 입니다.\n"
          ],
          "name": "stdout"
        }
      ]
    }
  ]
}