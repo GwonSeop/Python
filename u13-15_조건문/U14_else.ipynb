{
  "nbformat": 4,
  "nbformat_minor": 0,
  "metadata": {
    "colab": {
      "name": "U14_else.ipynb",
      "provenance": [],
      "collapsed_sections": []
    },
    "kernelspec": {
      "name": "python3",
      "display_name": "Python 3"
    },
    "language_info": {
      "name": "python"
    }
  },
  "cells": [
    {
      "cell_type": "markdown",
      "metadata": {
        "id": "t0SFKl59l5iL"
      },
      "source": [
        "#Unit 14. else"
      ]
    },
    {
      "cell_type": "code",
      "metadata": {
        "colab": {
          "base_uri": "https://localhost:8080/"
        },
        "id": "dsoyYDWxl4fo",
        "outputId": "651d11ab-d223-4e8f-d33f-75e76238763c"
      },
      "source": [
        "x = 5\n",
        "if x == 10:\n",
        "  print('It is 10.')\n",
        "else:\n",
        "  print('It is not 10.')  "
      ],
      "execution_count": 1,
      "outputs": [
        {
          "output_type": "stream",
          "text": [
            "It is not 10.\n"
          ],
          "name": "stdout"
        }
      ]
    },
    {
      "cell_type": "markdown",
      "metadata": {
        "id": "4BkBfGpgmtqj"
      },
      "source": [
        "### 3항 연산자\n",
        "- Jave : a = (조건) ? 참일때의 값 : 거짓일때의 값"
      ]
    },
    {
      "cell_type": "code",
      "metadata": {
        "colab": {
          "base_uri": "https://localhost:8080/",
          "height": 35
        },
        "id": "fnXGs5pHmzsV",
        "outputId": "5b63e5fa-f037-495e-ed34-df3fbc5f35e9"
      },
      "source": [
        "if x % 2 == 0:\n",
        "  y = 'even'\n",
        "else:\n",
        "  y = 'odd'\n",
        "y"
      ],
      "execution_count": 6,
      "outputs": [
        {
          "output_type": "execute_result",
          "data": {
            "application/vnd.google.colaboratory.intrinsic+json": {
              "type": "string"
            },
            "text/plain": [
              "'odd'"
            ]
          },
          "metadata": {
            "tags": []
          },
          "execution_count": 6
        }
      ]
    },
    {
      "cell_type": "code",
      "metadata": {
        "colab": {
          "base_uri": "https://localhost:8080/",
          "height": 35
        },
        "id": "ebt3zSmPnJNI",
        "outputId": "b958faca-185e-4936-f60d-a8093ddbc61b"
      },
      "source": [
        "y = 'even' if x % 2 == 0 else 'odd'\n",
        "y"
      ],
      "execution_count": 9,
      "outputs": [
        {
          "output_type": "execute_result",
          "data": {
            "application/vnd.google.colaboratory.intrinsic+json": {
              "type": "string"
            },
            "text/plain": [
              "'odd'"
            ]
          },
          "metadata": {
            "tags": []
          },
          "execution_count": 9
        }
      ]
    },
    {
      "cell_type": "code",
      "metadata": {
        "colab": {
          "base_uri": "https://localhost:8080/"
        },
        "id": "kWr44k-0oXGv",
        "outputId": "a5fc7694-aea2-4df7-8586-99d878d70878"
      },
      "source": [
        "# 90점 이상이면 'A', 80 ~ 89 : B, 70 ~ 79 : C, 60 ~ 69 : D, ~ 59 : F\n",
        "score = int(input('점수 입력 >'))\n",
        "if score >= 90:\n",
        "  print('A')\n",
        "else: \n",
        "  if score >= 80:\n",
        "    print('B')\n",
        "  else: \n",
        "    if score >= 70:\n",
        "      print('C')\n",
        "    else:\n",
        "      if score >= 60:\n",
        "        print('D')\n",
        "      else:\n",
        "          print('F')\n"
      ],
      "execution_count": 19,
      "outputs": [
        {
          "output_type": "stream",
          "text": [
            "점수 입력 >99\n",
            "A\n"
          ],
          "name": "stdout"
        }
      ]
    },
    {
      "cell_type": "code",
      "metadata": {
        "colab": {
          "base_uri": "https://localhost:8080/",
          "height": 35
        },
        "id": "LjWiR1cnqkiu",
        "outputId": "2f399f13-6af9-4e3a-ae15-d97e926b5c17"
      },
      "source": [
        "grade = 'A' if score >= 90 else \\\n",
        "            'B' if score >= 80 else \\\n",
        "              'C' if score >= 70 else \\\n",
        "                'D'  if score >= 60 else 'F'\n",
        "\n",
        "grade"
      ],
      "execution_count": 20,
      "outputs": [
        {
          "output_type": "execute_result",
          "data": {
            "application/vnd.google.colaboratory.intrinsic+json": {
              "type": "string"
            },
            "text/plain": [
              "'A'"
            ]
          },
          "metadata": {
            "tags": []
          },
          "execution_count": 20
        }
      ]
    },
    {
      "cell_type": "markdown",
      "metadata": {
        "id": "-XjKsgdUuzMv"
      },
      "source": [
        "### 조건식에서의 논리연산자\n"
      ]
    },
    {
      "cell_type": "code",
      "metadata": {
        "colab": {
          "base_uri": "https://localhost:8080/"
        },
        "id": "5-LdLPE-u23V",
        "outputId": "41482c6a-9628-4858-cd24-444cd2ca7a3c"
      },
      "source": [
        "x = 5\n",
        "if x > 0 and x < 10:\n",
        "  print('10보다 작은 양의 정수입니다.')"
      ],
      "execution_count": 21,
      "outputs": [
        {
          "output_type": "stream",
          "text": [
            "10보다 작은 양의 정수입니다.\n"
          ],
          "name": "stdout"
        }
      ]
    },
    {
      "cell_type": "code",
      "metadata": {
        "colab": {
          "base_uri": "https://localhost:8080/"
        },
        "id": "maUoy5Cuu-QP",
        "outputId": "c42a7f01-774b-448f-ce39-d99538c1674a"
      },
      "source": [
        "if 0 < x < 10:\n",
        "  print('10보다 작은 양의 정수입니다.')"
      ],
      "execution_count": 22,
      "outputs": [
        {
          "output_type": "stream",
          "text": [
            "10보다 작은 양의 정수입니다.\n"
          ],
          "name": "stdout"
        }
      ]
    }
  ]
}