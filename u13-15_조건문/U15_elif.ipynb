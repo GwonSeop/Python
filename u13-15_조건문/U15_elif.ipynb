{
  "nbformat": 4,
  "nbformat_minor": 0,
  "metadata": {
    "colab": {
      "name": "U15_elif.ipynb",
      "provenance": []
    },
    "kernelspec": {
      "name": "python3",
      "display_name": "Python 3"
    },
    "language_info": {
      "name": "python"
    }
  },
  "cells": [
    {
      "cell_type": "code",
      "metadata": {
        "colab": {
          "base_uri": "https://localhost:8080/"
        },
        "id": "RckyIfCQj01q",
        "outputId": "0fbce256-6957-47ac-8028-2e4e041c0f9e"
      },
      "source": [
        "x = 15\n",
        "if x == 10:\n",
        "  print('It is 10.')\n",
        "elif x == 20:\n",
        "  print('It is 20.')\n",
        "else:\n",
        "  print('10,20이 아닙니다.')"
      ],
      "execution_count": 1,
      "outputs": [
        {
          "output_type": "stream",
          "text": [
            "10,20이 아닙니다.\n"
          ],
          "name": "stdout"
        }
      ]
    },
    {
      "cell_type": "code",
      "metadata": {
        "colab": {
          "base_uri": "https://localhost:8080/"
        },
        "id": "9bOOe9DYpAwW",
        "outputId": "0145f2fd-c2f9-487d-a6e7-e15c73d7d68a"
      },
      "source": [
        "# 숫자 - 입력, 3의 배수면 fizz, 5의 배수면 buzz, 15의 배수면 fizzbuzz\n",
        "x=int(input())\n",
        "if x % 3 == 0:\n",
        "  if x % 5 ==0:\n",
        "    print('fizzbuzz')\n",
        "  else:\n",
        "    print('fizz')\n",
        "elif x % 5 == 0:\n",
        "  print('buzz')\n",
        "else:\n",
        "  print(x)\n"
      ],
      "execution_count": 12,
      "outputs": [
        {
          "output_type": "stream",
          "text": [
            "4\n",
            "4\n"
          ],
          "name": "stdout"
        }
      ]
    },
    {
      "cell_type": "code",
      "metadata": {
        "colab": {
          "base_uri": "https://localhost:8080/"
        },
        "id": "eGQgR87hqho7",
        "outputId": "ba62f8b2-bc09-4ce1-91fa-6e01091a6e30"
      },
      "source": [
        "# 강사님의 풀이\n",
        "number = int(input())\n",
        "if number % 15 == 0:\n",
        "  print('FizzBuzz')\n",
        "elif number % 5 == 0:\n",
        "  print('Buzz')\n",
        "elif number % 3 == 0:\n",
        "  print('Fizz')\n",
        "else:\n",
        "  print(number) "
      ],
      "execution_count": 20,
      "outputs": [
        {
          "output_type": "stream",
          "text": [
            "30\n",
            "FizzBuzz\n"
          ],
          "name": "stdout"
        }
      ]
    },
    {
      "cell_type": "code",
      "metadata": {
        "colab": {
          "base_uri": "https://localhost:8080/"
        },
        "id": "rG_FyhVLq9mI",
        "outputId": "ef19e18a-48f3-465d-9aaa-9b5fde0f4af0"
      },
      "source": [
        "'Fizz' * False, 'Buzz' * True\n",
        "print('Fizz'*(number%3==0) + 'Buzz'*(number%5==0) or number)"
      ],
      "execution_count": 21,
      "outputs": [
        {
          "output_type": "stream",
          "text": [
            "FizzBuzz\n"
          ],
          "name": "stdout"
        }
      ]
    }
  ]
}