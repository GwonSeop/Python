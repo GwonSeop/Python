{
  "nbformat": 4,
  "nbformat_minor": 0,
  "metadata": {
    "colab": {
      "name": "5회차_신권섭",
      "provenance": []
    },
    "kernelspec": {
      "name": "python3",
      "display_name": "Python 3"
    },
    "language_info": {
      "name": "python"
    }
  },
  "cells": [
    {
      "cell_type": "markdown",
      "metadata": {
        "id": "FUYa6KVk_vlr"
      },
      "source": [
        "# 5장 심사문제"
      ]
    },
    {
      "cell_type": "markdown",
      "metadata": {
        "id": "WOd89Gpq_y6y"
      },
      "source": [
        "## 5-6"
      ]
    },
    {
      "cell_type": "code",
      "metadata": {
        "colab": {
          "base_uri": "https://localhost:8080/",
          "height": 136
        },
        "id": "jAN4Yild_0FP",
        "outputId": "6ade3bb0-1cf2-43d0-9987-1b5caeabc632"
      },
      "source": [
        "*0.6 + 225"
      ],
      "execution_count": 53,
      "outputs": [
        {
          "output_type": "error",
          "ename": "SyntaxError",
          "evalue": "ignored",
          "traceback": [
            "\u001b[0;36m  File \u001b[0;32m\"<ipython-input-53-f238a4314581>\"\u001b[0;36m, line \u001b[0;32m1\u001b[0m\n\u001b[0;31m    *0.6 + 225\u001b[0m\n\u001b[0m              ^\u001b[0m\n\u001b[0;31mSyntaxError\u001b[0m\u001b[0;31m:\u001b[0m can't use starred expression here\n"
          ]
        }
      ]
    },
    {
      "cell_type": "markdown",
      "metadata": {
        "id": "ObNWi10W_4Ze"
      },
      "source": [
        "#6장 심사문제"
      ]
    },
    {
      "cell_type": "markdown",
      "metadata": {
        "id": "UecrODi9AA-C"
      },
      "source": [
        "## 6-7\n"
      ]
    },
    {
      "cell_type": "code",
      "metadata": {
        "id": "1jVOwzqwAIvf"
      },
      "source": [
        "a=50\n",
        "b=100\n",
        "c=None\n"
      ],
      "execution_count": null,
      "outputs": []
    },
    {
      "cell_type": "markdown",
      "metadata": {
        "id": "QHlRMEkIAJQo"
      },
      "source": [
        "##6-8"
      ]
    },
    {
      "cell_type": "code",
      "metadata": {
        "id": "5Jc3AMINAKkv"
      },
      "source": [
        "a,b,c,d = map(int,input().split())\n",
        "print((a+b+c+d)//4)"
      ],
      "execution_count": null,
      "outputs": []
    },
    {
      "cell_type": "markdown",
      "metadata": {
        "id": "bjxvMSsHAOYr"
      },
      "source": [
        "#7장 심사문제"
      ]
    },
    {
      "cell_type": "markdown",
      "metadata": {
        "id": "IUVtd86tAP6h"
      },
      "source": [
        "##7-5"
      ]
    },
    {
      "cell_type": "code",
      "metadata": {
        "id": "UhLXknUgAWPG"
      },
      "source": [
        "print(year, month, day, sep='-', end='T')"
      ],
      "execution_count": null,
      "outputs": []
    },
    {
      "cell_type": "markdown",
      "metadata": {
        "id": "5hFP5l0UAZoC"
      },
      "source": [
        "#8장 심사문제\n"
      ]
    },
    {
      "cell_type": "markdown",
      "metadata": {
        "id": "5czNasnZAbAx"
      },
      "source": [
        "##8-5"
      ]
    },
    {
      "cell_type": "code",
      "metadata": {
        "id": "qCcq2pORAcOF"
      },
      "source": [
        "a,b,c,d = map(int,input().split())\n",
        "print(a>=90 and b>80 and c>85 and d>=80)"
      ],
      "execution_count": null,
      "outputs": []
    },
    {
      "cell_type": "markdown",
      "metadata": {
        "id": "3DjOGxNVAf5I"
      },
      "source": [
        "#9장 심사문제\n"
      ]
    },
    {
      "cell_type": "markdown",
      "metadata": {
        "id": "oz1k-XUjAhBv"
      },
      "source": [
        "9-4"
      ]
    },
    {
      "cell_type": "code",
      "metadata": {
        "id": "Lk6ivk6SAlCY"
      },
      "source": [
        "s = \"\"\"'Python' is a \"programming language\"\n",
        "that lets you work quickly \n",
        "and\n",
        "integrate systems more effectively.\"\"\""
      ],
      "execution_count": null,
      "outputs": []
    },
    {
      "cell_type": "markdown",
      "metadata": {
        "id": "vs9qxhWoAvgA"
      },
      "source": [
        "#10장 심사문제"
      ]
    },
    {
      "cell_type": "markdown",
      "metadata": {
        "id": "RVkVkZrVAxGd"
      },
      "source": [
        "##10-5"
      ]
    },
    {
      "cell_type": "code",
      "metadata": {
        "id": "0bYUMhm8AyLE"
      },
      "source": [
        "a=input()\n",
        "a = int(a)\n",
        "print(tuple(range(-10,10,a)))\n"
      ],
      "execution_count": null,
      "outputs": []
    },
    {
      "cell_type": "markdown",
      "metadata": {
        "id": "Lb_Zld2Bxgpj"
      },
      "source": [
        "#11장 심사문제\n"
      ]
    },
    {
      "cell_type": "markdown",
      "metadata": {
        "id": "Y5CNWlROyBEQ"
      },
      "source": [
        "##11-8 "
      ]
    },
    {
      "cell_type": "code",
      "metadata": {
        "colab": {
          "base_uri": "https://localhost:8080/"
        },
        "id": "CkBu3r2CwYFz",
        "outputId": "8efdfbf7-491d-499b-946a-567fa443bf14"
      },
      "source": [
        "x = input().split()\n",
        "del(x[-5:])\n",
        "print(tuple(x))"
      ],
      "execution_count": 5,
      "outputs": [
        {
          "output_type": "stream",
          "text": [
            "1 2 3 4 5 6 7 8 9 10\n",
            "('1', '2', '3', '4', '5')\n"
          ],
          "name": "stdout"
        }
      ]
    },
    {
      "cell_type": "markdown",
      "metadata": {
        "id": "0Sg9BnEoyD9j"
      },
      "source": [
        "##11-9 "
      ]
    },
    {
      "cell_type": "code",
      "metadata": {
        "colab": {
          "base_uri": "https://localhost:8080/"
        },
        "id": "M65Bp4iRyF-_",
        "outputId": "a98bc712-c675-492b-a8b7-91de326e58c3"
      },
      "source": [
        "a, b = input(), input()\n",
        "print(a[1::2]+b[::2])"
      ],
      "execution_count": 7,
      "outputs": [
        {
          "output_type": "stream",
          "text": [
            "apple\n",
            "strawberry\n",
            "plsrwer\n"
          ],
          "name": "stdout"
        }
      ]
    },
    {
      "cell_type": "markdown",
      "metadata": {
        "id": "eo8bXAdWxuWK"
      },
      "source": [
        "#12장 심사문제"
      ]
    },
    {
      "cell_type": "markdown",
      "metadata": {
        "id": "-xpGGAZ30_ec"
      },
      "source": [
        "## 12-5 "
      ]
    },
    {
      "cell_type": "code",
      "metadata": {
        "colab": {
          "base_uri": "https://localhost:8080/"
        },
        "id": "5wnhFvJHxlDl",
        "outputId": "9707f013-eb6e-40b7-8fff-80e0a6574e78"
      },
      "source": [
        "a, b= [input().split(),map(float,(input().split()))]\n",
        "c=dict(zip(a,b))\n",
        "print(c)"
      ],
      "execution_count": 12,
      "outputs": [
        {
          "output_type": "stream",
          "text": [
            "health health_regen mana mana_regen\n",
            "575.6 1.7 338.8 1.63\n",
            "{'health': 575.6, 'health_regen': 1.7, 'mana': 338.8, 'mana_regen': 1.63}\n"
          ],
          "name": "stdout"
        }
      ]
    },
    {
      "cell_type": "markdown",
      "metadata": {
        "id": "S4v2r-nW3dJE"
      },
      "source": [
        "#13장 심사문제"
      ]
    },
    {
      "cell_type": "markdown",
      "metadata": {
        "id": "BinvDjtt3g3W"
      },
      "source": [
        "##13-7 \n"
      ]
    },
    {
      "cell_type": "code",
      "metadata": {
        "colab": {
          "base_uri": "https://localhost:8080/"
        },
        "id": "zqaDX1Y73tSA",
        "outputId": "d7e24111-f1a2-4ff5-a602-d8562786868f"
      },
      "source": [
        "a = int(input())\n",
        "b = input()\n",
        "if b == 'Cash3000':\n",
        "    print(a-3000)\n",
        "if b=='Cash5000':\n",
        "    print(a-5000)"
      ],
      "execution_count": 28,
      "outputs": [
        {
          "output_type": "stream",
          "text": [
            "72000\n",
            "Cash5000\n",
            "67000\n"
          ],
          "name": "stdout"
        }
      ]
    },
    {
      "cell_type": "markdown",
      "metadata": {
        "id": "75N5GPOt8wF2"
      },
      "source": [
        "#14장 심사문제\n"
      ]
    },
    {
      "cell_type": "markdown",
      "metadata": {
        "id": "GNJt8CVj8yPU"
      },
      "source": [
        "##14-7"
      ]
    },
    {
      "cell_type": "code",
      "metadata": {
        "colab": {
          "base_uri": "https://localhost:8080/"
        },
        "id": "yEzw5_yB8x9a",
        "outputId": "2ea02f8f-682d-44fd-cbad-b7991e090c93"
      },
      "source": [
        "a,b,c,d = map(int,input().split())\n",
        "if (a+b+c+d)/4>=80 and 0<=a<=100 and 0<=b<=100 and 0<=c<=100 and 0<=d<=100:\n",
        "    print('합격')\n",
        "else:\n",
        "    if  0<=a<=100 and 0<=b<=100 and 0<=c<=100 and 0<=d<=100:\n",
        "        print('불합격')\n",
        "    else:\n",
        "        print('잘못된 점수')"
      ],
      "execution_count": 52,
      "outputs": [
        {
          "output_type": "stream",
          "text": [
            "100 101 80 70\n",
            "잘못된 점수\n"
          ],
          "name": "stdout"
        }
      ]
    }
  ]
}