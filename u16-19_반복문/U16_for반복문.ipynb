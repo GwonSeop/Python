{
  "nbformat": 4,
  "nbformat_minor": 0,
  "metadata": {
    "colab": {
      "name": "U16_for반복문.ipynb",
      "provenance": [],
      "collapsed_sections": []
    },
    "kernelspec": {
      "name": "python3",
      "display_name": "Python 3"
    },
    "language_info": {
      "name": "python"
    }
  },
  "cells": [
    {
      "cell_type": "markdown",
      "metadata": {
        "id": "S2RICmZRtJM8"
      },
      "source": [
        "#Unit 16. for 반복문"
      ]
    },
    {
      "cell_type": "markdown",
      "metadata": {
        "id": "g32KoCvQtN2X"
      },
      "source": [
        "##16.1 for와 range"
      ]
    },
    {
      "cell_type": "code",
      "metadata": {
        "colab": {
          "base_uri": "https://localhost:8080/"
        },
        "id": "g4nndriosvTM",
        "outputId": "dee9847b-4af8-43ae-d85a-016d6a46da0e"
      },
      "source": [
        "for i in range(10):\n",
        "  print('Hello, world!')"
      ],
      "execution_count": 1,
      "outputs": [
        {
          "output_type": "stream",
          "text": [
            "Hello, world!\n",
            "Hello, world!\n",
            "Hello, world!\n",
            "Hello, world!\n",
            "Hello, world!\n",
            "Hello, world!\n",
            "Hello, world!\n",
            "Hello, world!\n",
            "Hello, world!\n",
            "Hello, world!\n"
          ],
          "name": "stdout"
        }
      ]
    },
    {
      "cell_type": "code",
      "metadata": {
        "colab": {
          "base_uri": "https://localhost:8080/"
        },
        "id": "wssfaKeDvROX",
        "outputId": "6ca31343-4f4a-46ed-b698-18a89037b3ce"
      },
      "source": [
        "for i in range(10):\n",
        "  print('Hello, world!',i)"
      ],
      "execution_count": 2,
      "outputs": [
        {
          "output_type": "stream",
          "text": [
            "Hello, world! 0\n",
            "Hello, world! 1\n",
            "Hello, world! 2\n",
            "Hello, world! 3\n",
            "Hello, world! 4\n",
            "Hello, world! 5\n",
            "Hello, world! 6\n",
            "Hello, world! 7\n",
            "Hello, world! 8\n",
            "Hello, world! 9\n"
          ],
          "name": "stdout"
        }
      ]
    },
    {
      "cell_type": "code",
      "metadata": {
        "id": "Y04opp8-vfra"
      },
      "source": [
        "# 파이썬의 관례상 변수가 식에 들어가지 않을때 _를 써준다\n",
        "for _ in range(10):\n",
        "  print('Hello, world!')"
      ],
      "execution_count": null,
      "outputs": []
    },
    {
      "cell_type": "markdown",
      "metadata": {
        "id": "NCgFV9t9x8iy"
      },
      "source": [
        "##16.2 for와 range 응용"
      ]
    },
    {
      "cell_type": "code",
      "metadata": {
        "colab": {
          "base_uri": "https://localhost:8080/"
        },
        "id": "kBunoAN6yC8c",
        "outputId": "815e209f-ba06-4fe7-ed3a-8e68f73eb553"
      },
      "source": [
        "for i in range(0, 10,2):\n",
        "  print('Hello, world',i)"
      ],
      "execution_count": 3,
      "outputs": [
        {
          "output_type": "stream",
          "text": [
            "Hello, world 0\n",
            "Hello, world 2\n",
            "Hello, world 4\n",
            "Hello, world 6\n",
            "Hello, world 8\n"
          ],
          "name": "stdout"
        }
      ]
    },
    {
      "cell_type": "code",
      "metadata": {
        "colab": {
          "base_uri": "https://localhost:8080/"
        },
        "id": "kSTEej02ySW9",
        "outputId": "b508ecf5-afae-497d-a8d1-d4911c8f1008"
      },
      "source": [
        "for i in range(10,0,-2):\n",
        "  print('Hello, world!', i)"
      ],
      "execution_count": 4,
      "outputs": [
        {
          "output_type": "stream",
          "text": [
            "Hello, world! 10\n",
            "Hello, world! 8\n",
            "Hello, world! 6\n",
            "Hello, world! 4\n",
            "Hello, world! 2\n"
          ],
          "name": "stdout"
        }
      ]
    },
    {
      "cell_type": "code",
      "metadata": {
        "colab": {
          "base_uri": "https://localhost:8080/"
        },
        "id": "xZqyGdCty4D8",
        "outputId": "2e1df9c5-4fcc-467c-8eb3-a7bbfc5f5660"
      },
      "source": [
        " for i in range(1, 101):\n",
        "   print('Fizz'*(i%3==0) + 'Buzz'*(i%5==0) or i, end=' ')\n",
        "   if (i % 10 ==0):\n",
        "     print()"
      ],
      "execution_count": 9,
      "outputs": [
        {
          "output_type": "stream",
          "text": [
            "1 2 Fizz 4 Buzz Fizz 7 8 Fizz Buzz \n",
            "11 Fizz 13 14 FizzBuzz 16 17 Fizz 19 Buzz \n",
            "Fizz 22 23 Fizz Buzz 26 Fizz 28 29 FizzBuzz \n",
            "31 32 Fizz 34 Buzz Fizz 37 38 Fizz Buzz \n",
            "41 Fizz 43 44 FizzBuzz 46 47 Fizz 49 Buzz \n",
            "Fizz 52 53 Fizz Buzz 56 Fizz 58 59 FizzBuzz \n",
            "61 62 Fizz 64 Buzz Fizz 67 68 Fizz Buzz \n",
            "71 Fizz 73 74 FizzBuzz 76 77 Fizz 79 Buzz \n",
            "Fizz 82 83 Fizz Buzz 86 Fizz 88 89 FizzBuzz \n",
            "91 92 Fizz 94 Buzz Fizz 97 98 Fizz Buzz \n"
          ],
          "name": "stdout"
        }
      ]
    },
    {
      "cell_type": "markdown",
      "metadata": {
        "id": "gDpLvmCyz5UI"
      },
      "source": [
        "## 16.3 시퀀스 객체 반복"
      ]
    },
    {
      "cell_type": "code",
      "metadata": {
        "colab": {
          "base_uri": "https://localhost:8080/"
        },
        "id": "mV_L3SmAzg_u",
        "outputId": "8b8df12d-df65-4529-8c79-fe2526734a00"
      },
      "source": [
        "fruits = ['apple','banana','cherry']\n",
        "for fruit in fruits:\n",
        "  print(fruit)          #반복문에서 출력을 원하면 print를 써야한다"
      ],
      "execution_count": 11,
      "outputs": [
        {
          "output_type": "stream",
          "text": [
            "apple\n",
            "banana\n",
            "cherry\n"
          ],
          "name": "stdout"
        }
      ]
    },
    {
      "cell_type": "code",
      "metadata": {
        "colab": {
          "base_uri": "https://localhost:8080/"
        },
        "id": "NOQrsh5-0s7K",
        "outputId": "62bc12e5-1372-4d74-b7bc-063e0f38651b"
      },
      "source": [
        "fruit_list = ['apple','banana','cherry']\n",
        "for fruit in fruit_list:\n",
        "  print(fruit)"
      ],
      "execution_count": 12,
      "outputs": [
        {
          "output_type": "stream",
          "text": [
            "apple\n",
            "banana\n",
            "cherry\n"
          ],
          "name": "stdout"
        }
      ]
    },
    {
      "cell_type": "code",
      "metadata": {
        "colab": {
          "base_uri": "https://localhost:8080/"
        },
        "id": "_uHxfvhD2tc7",
        "outputId": "370d921a-3f1a-4f74-d773-330c219ec3e8"
      },
      "source": [
        "for letter in 'Python':\n",
        "  print(letter, end='')"
      ],
      "execution_count": 13,
      "outputs": [
        {
          "output_type": "stream",
          "text": [
            "Python"
          ],
          "name": "stdout"
        }
      ]
    },
    {
      "cell_type": "code",
      "metadata": {
        "colab": {
          "base_uri": "https://localhost:8080/"
        },
        "id": "af79QITw21V3",
        "outputId": "4ee1d0b4-4a3f-4a98-d7a4-d4f62d13cf14"
      },
      "source": [
        "for char in reversed('Python'):\n",
        "  print(char, end=' ')"
      ],
      "execution_count": 19,
      "outputs": [
        {
          "output_type": "stream",
          "text": [
            "n o h t y P "
          ],
          "name": "stdout"
        }
      ]
    },
    {
      "cell_type": "code",
      "metadata": {
        "colab": {
          "base_uri": "https://localhost:8080/"
        },
        "id": "aHB_8PHZ3S38",
        "outputId": "594b343e-c9f7-4921-edc9-7fe6af1e785a"
      },
      "source": [
        "for number in (10, 20, 30):\n",
        "  print(number)"
      ],
      "execution_count": 17,
      "outputs": [
        {
          "output_type": "stream",
          "text": [
            "10\n",
            "20\n",
            "30\n"
          ],
          "name": "stdout"
        }
      ]
    },
    {
      "cell_type": "markdown",
      "metadata": {
        "id": "zupRm-2x3xy7"
      },
      "source": [
        "### Perfect Number\n",
        "- 자기자신을 제외한 약수의 합이 자기자신과 같은 수\n",
        "- 6의 약수 : 1, 2, 3, 6\n",
        "- 6 = 1 + 2 + 3\n",
        "- 10000이하의 자연수 중에서는 4개"
      ]
    },
    {
      "cell_type": "code",
      "metadata": {
        "colab": {
          "base_uri": "https://localhost:8080/"
        },
        "id": "9meDW5zO3xdS",
        "outputId": "67a9308e-4b03-4343-9373-9896b900ae18"
      },
      "source": [
        "for i in range(2,10001):\n",
        "  m=[]\n",
        "  for k in range(1,i):\n",
        "    if i % k == 0:\n",
        "      m=m+[k]\n",
        "  if sum(m)==i:\n",
        "    print(i,'은/는 퍼펙트넘버')\n",
        "\n"
      ],
      "execution_count": 71,
      "outputs": [
        {
          "output_type": "stream",
          "text": [
            "6 은/는 퍼펙트넘버\n",
            "28 은/는 퍼펙트넘버\n",
            "496 은/는 퍼펙트넘버\n",
            "8128 은/는 퍼펙트넘버\n"
          ],
          "name": "stdout"
        }
      ]
    },
    {
      "cell_type": "code",
      "metadata": {
        "colab": {
          "base_uri": "https://localhost:8080/"
        },
        "id": "DoUx3oZO8YPp",
        "outputId": "0fe594c3-6ff6-4cfb-a1f8-2a586a04939f"
      },
      "source": [
        "#강사님 답\n",
        "for i in range(2,10001):\n",
        "  sum_of_divisor = 0\n",
        "  for k in range(1,i):\n",
        "    if i % k == 0:\n",
        "      sum_of_divisor += k\n",
        "  if i == sum_of_divisor:\n",
        "    print(i)"
      ],
      "execution_count": 64,
      "outputs": [
        {
          "output_type": "stream",
          "text": [
            "6\n",
            "28\n",
            "496\n",
            "8128\n"
          ],
          "name": "stdout"
        }
      ]
    },
    {
      "cell_type": "code",
      "metadata": {
        "id": "RRWJthy38jy8"
      },
      "source": [
        ""
      ],
      "execution_count": null,
      "outputs": []
    }
  ]
}