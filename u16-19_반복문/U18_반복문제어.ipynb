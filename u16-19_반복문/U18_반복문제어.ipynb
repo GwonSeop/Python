{
  "nbformat": 4,
  "nbformat_minor": 0,
  "metadata": {
    "colab": {
      "name": "U18_반복문제어.ipynb",
      "provenance": [],
      "collapsed_sections": []
    },
    "kernelspec": {
      "name": "python3",
      "display_name": "Python 3"
    },
    "language_info": {
      "name": "python"
    }
  },
  "cells": [
    {
      "cell_type": "code",
      "metadata": {
        "id": "HEK-I1c9Ep-W"
      },
      "source": [
        "#Unit 18. break, continue"
      ],
      "execution_count": null,
      "outputs": []
    },
    {
      "cell_type": "markdown",
      "metadata": {
        "id": "BFX_0NWIFEHL"
      },
      "source": [
        "##18.1 break"
      ]
    },
    {
      "cell_type": "code",
      "metadata": {
        "id": "naWiVOicFF9b"
      },
      "source": [
        "import random"
      ],
      "execution_count": 2,
      "outputs": []
    },
    {
      "cell_type": "code",
      "metadata": {
        "colab": {
          "base_uri": "https://localhost:8080/"
        },
        "id": "x0hhs8QsFIIx",
        "outputId": "58e23e8e-380c-427f-c998-4f72c7481f35"
      },
      "source": [
        "while True:\n",
        "  i = random.randint(1,6)\n",
        "  print(i)\n",
        "  if i == 3:\n",
        "    break\n"
      ],
      "execution_count": 4,
      "outputs": [
        {
          "output_type": "stream",
          "text": [
            "1\n",
            "3\n"
          ],
          "name": "stdout"
        }
      ]
    },
    {
      "cell_type": "code",
      "metadata": {
        "colab": {
          "base_uri": "https://localhost:8080/"
        },
        "id": "B3Sw2Oo-FqiI",
        "outputId": "3f6db5d6-8614-40ea-aaa9-129e9f3f4003"
      },
      "source": [
        "for i in range(5):\n",
        "  print(i, end=' ')\n",
        "  for k in range(5):\n",
        "    print('*',end='')\n",
        "    if i==k:\n",
        "      break        #하나의 부분에서 빠져나온다\n",
        "  print()"
      ],
      "execution_count": 8,
      "outputs": [
        {
          "output_type": "stream",
          "text": [
            "0 *\n",
            "1 **\n",
            "2 ***\n",
            "3 ****\n",
            "4 *****\n"
          ],
          "name": "stdout"
        }
      ]
    },
    {
      "cell_type": "markdown",
      "metadata": {
        "id": "DfvjJ0i4GwbQ"
      },
      "source": [
        "## 18.2 continue"
      ]
    },
    {
      "cell_type": "code",
      "metadata": {
        "colab": {
          "base_uri": "https://localhost:8080/"
        },
        "id": "IdN6rmOwGyzy",
        "outputId": "2a2193a9-e567-42e8-dee5-68ad17a19ad6"
      },
      "source": [
        "for i in range(10):\n",
        "  if i % 2 ==0:\n",
        "    continue\n",
        "  print(i)"
      ],
      "execution_count": 9,
      "outputs": [
        {
          "output_type": "stream",
          "text": [
            "1\n",
            "3\n",
            "5\n",
            "7\n",
            "9\n"
          ],
          "name": "stdout"
        }
      ]
    }
  ]
}