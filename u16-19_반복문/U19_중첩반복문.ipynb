{
  "nbformat": 4,
  "nbformat_minor": 0,
  "metadata": {
    "colab": {
      "name": "U19_중첩반복문.ipynb",
      "provenance": [],
      "collapsed_sections": []
    },
    "kernelspec": {
      "name": "python3",
      "display_name": "Python 3"
    },
    "language_info": {
      "name": "python"
    }
  },
  "cells": [
    {
      "cell_type": "markdown",
      "metadata": {
        "id": "xx8QfpDPbshK"
      },
      "source": [
        "#Unit 19. 중첩 반복문\n"
      ]
    },
    {
      "cell_type": "markdown",
      "metadata": {
        "id": "y7XhfEv6cGom"
      },
      "source": [
        "##19.1 중첩(Nested) for loop"
      ]
    },
    {
      "cell_type": "code",
      "metadata": {
        "colab": {
          "base_uri": "https://localhost:8080/"
        },
        "id": "hgxY-OpHbraQ",
        "outputId": "fb5c9f0f-60cb-4fa7-eb32-1fe0e34fffa1"
      },
      "source": [
        "for i in range(5):\n",
        "  for k in range(10, 60, 10):\n",
        "    print(k, end=' ')\n",
        "  print(i)"
      ],
      "execution_count": null,
      "outputs": [
        {
          "output_type": "stream",
          "text": [
            "10 20 30 40 50 0\n",
            "10 20 30 40 50 1\n",
            "10 20 30 40 50 2\n",
            "10 20 30 40 50 3\n",
            "10 20 30 40 50 4\n"
          ],
          "name": "stdout"
        }
      ]
    },
    {
      "cell_type": "markdown",
      "metadata": {
        "id": "XSyAqBz1eJg7"
      },
      "source": [
        "##19.2 별 사각형"
      ]
    },
    {
      "cell_type": "code",
      "metadata": {
        "colab": {
          "base_uri": "https://localhost:8080/"
        },
        "id": "xkUcfv_peOeD",
        "outputId": "eb136506-bea0-48c4-ba84-70e53b64541d"
      },
      "source": [
        "for i in range(5):\n",
        "  for _ in range(5):\n",
        "    print('*', end='')\n",
        "  print()"
      ],
      "execution_count": 2,
      "outputs": [
        {
          "output_type": "stream",
          "text": [
            "*****\n",
            "*****\n",
            "*****\n",
            "*****\n",
            "*****\n"
          ],
          "name": "stdout"
        }
      ]
    },
    {
      "cell_type": "code",
      "metadata": {
        "colab": {
          "base_uri": "https://localhost:8080/"
        },
        "id": "eGqxy2vHeZTq",
        "outputId": "84fb2d9c-9725-4b64-c827-7ded17c804e5"
      },
      "source": [
        "# 평행사변형\n",
        "for i in range(4):\n",
        "  for _ in range(0,i):\n",
        "    print(' ', end='')\n",
        "  for _ in range(5):\n",
        "    print('*', end='')\n",
        "  print()"
      ],
      "execution_count": 4,
      "outputs": [
        {
          "output_type": "stream",
          "text": [
            "*****\n",
            " *****\n",
            "  *****\n",
            "   *****\n"
          ],
          "name": "stdout"
        }
      ]
    },
    {
      "cell_type": "code",
      "metadata": {
        "id": "0ZRAINQqew-S"
      },
      "source": [
        "for i in range(0, 0):\n",
        "  print('*')"
      ],
      "execution_count": 5,
      "outputs": []
    },
    {
      "cell_type": "code",
      "metadata": {
        "colab": {
          "base_uri": "https://localhost:8080/"
        },
        "id": "67HH1lGee7Da",
        "outputId": "4e476537-ba78-440f-ad13-b4afdc2889b1"
      },
      "source": [
        "for i in range(4):\n",
        "  print(' '*i,'*'*5, sep='')"
      ],
      "execution_count": 6,
      "outputs": [
        {
          "output_type": "stream",
          "text": [
            "*****\n",
            " *****\n",
            "  *****\n",
            "   *****\n"
          ],
          "name": "stdout"
        }
      ]
    },
    {
      "cell_type": "markdown",
      "metadata": {
        "id": "ShRkFEEofXXg"
      },
      "source": [
        "##19.3 계단식 별 모양"
      ]
    },
    {
      "cell_type": "code",
      "metadata": {
        "colab": {
          "base_uri": "https://localhost:8080/"
        },
        "id": "U2hU-1lCfdfk",
        "outputId": "c21768d3-8a35-4c6a-d492-55bbc03b0191"
      },
      "source": [
        "for i in range(5):\n",
        "  print('*'*(i+1))"
      ],
      "execution_count": 7,
      "outputs": [
        {
          "output_type": "stream",
          "text": [
            "*\n",
            "**\n",
            "***\n",
            "****\n",
            "*****\n"
          ],
          "name": "stdout"
        }
      ]
    },
    {
      "cell_type": "code",
      "metadata": {
        "colab": {
          "base_uri": "https://localhost:8080/"
        },
        "id": "1Dancydtf0PL",
        "outputId": "292d2be8-27bf-4507-c851-55946988c5b9"
      },
      "source": [
        "#강사님 풀이\n",
        "for i in range(5):\n",
        "  for _ in range(i+1):\n",
        "    print('*',end='')\n",
        "  print()"
      ],
      "execution_count": 8,
      "outputs": [
        {
          "output_type": "stream",
          "text": [
            "*\n",
            "**\n",
            "***\n",
            "****\n",
            "*****\n"
          ],
          "name": "stdout"
        }
      ]
    },
    {
      "cell_type": "code",
      "metadata": {
        "colab": {
          "base_uri": "https://localhost:8080/"
        },
        "id": "legKZCs5g_KN",
        "outputId": "23859c04-f1c6-49f5-cb26-d2c635051b9a"
      },
      "source": [
        "for i in range(5):\n",
        "  print(' '*i,'*'*(5-i),sep='')"
      ],
      "execution_count": 12,
      "outputs": [
        {
          "output_type": "stream",
          "text": [
            "*****\n",
            " ****\n",
            "  ***\n",
            "   **\n",
            "    *\n"
          ],
          "name": "stdout"
        }
      ]
    },
    {
      "cell_type": "code",
      "metadata": {
        "colab": {
          "base_uri": "https://localhost:8080/"
        },
        "id": "ZUta7AKsf_-p",
        "outputId": "8cf68f47-e371-4371-eb96-ed5658c407d4"
      },
      "source": [
        "for i in range(5):\n",
        "  for _ in range(i):\n",
        "    print(' ',end='')\n",
        "  for _ in range(5-i):\n",
        "    print('*',end='')\n",
        "  print()  "
      ],
      "execution_count": 11,
      "outputs": [
        {
          "output_type": "stream",
          "text": [
            "*****\n",
            " ****\n",
            "  ***\n",
            "   **\n",
            "    *\n"
          ],
          "name": "stdout"
        }
      ]
    },
    {
      "cell_type": "code",
      "metadata": {
        "colab": {
          "base_uri": "https://localhost:8080/"
        },
        "id": "6G0mvkYphq40",
        "outputId": "83ede0bd-d6a3-432c-da43-b233eb9e4fb8"
      },
      "source": [
        "for i in range(5):\n",
        "  print(' '*(4-i),'*'*(2*i+1),' '*(4-i),sep='')\n",
        "for i in range(4):\n",
        "  print(' '*(i+1),'*'*(2*(3-i)+1),' '*(i+1),sep='')  \n"
      ],
      "execution_count": 33,
      "outputs": [
        {
          "output_type": "stream",
          "text": [
            "    *    \n",
            "   ***   \n",
            "  *****  \n",
            " ******* \n",
            "*********\n",
            " ******* \n",
            "  *****  \n",
            "   ***   \n",
            "    *    \n"
          ],
          "name": "stdout"
        }
      ]
    },
    {
      "cell_type": "markdown",
      "metadata": {
        "id": "CQbLYI5zkL0C"
      },
      "source": [
        "### 다이아몬드 그리기"
      ]
    },
    {
      "cell_type": "code",
      "metadata": {
        "colab": {
          "base_uri": "https://localhost:8080/"
        },
        "id": "AtBr8YUlkRUE",
        "outputId": "3d68743c-71ca-4b5d-9d4e-e25d40468236"
      },
      "source": [
        "# 강사님 풀이\n",
        "for i in range(5):\n",
        "  for _ in range(4-i):\n",
        "    print(' ',end='')\n",
        "  for _ in range(2*i+1):\n",
        "    print('*',end='')\n",
        "  print()\n",
        "for i in range(4):\n",
        "  for _ in range(i+1):\n",
        "    print(' ',end='')\n",
        "  for _ in range(7-(2*i)):\n",
        "    print('*',end='')\n",
        "  print()"
      ],
      "execution_count": 31,
      "outputs": [
        {
          "output_type": "stream",
          "text": [
            "    *\n",
            "   ***\n",
            "  *****\n",
            " *******\n",
            "*********\n",
            " *******\n",
            "  *****\n",
            "   ***\n",
            "    *\n"
          ],
          "name": "stdout"
        }
      ]
    },
    {
      "cell_type": "code",
      "metadata": {
        "id": "npG3G8pyl-ka"
      },
      "source": [
        ""
      ],
      "execution_count": null,
      "outputs": []
    }
  ]
}