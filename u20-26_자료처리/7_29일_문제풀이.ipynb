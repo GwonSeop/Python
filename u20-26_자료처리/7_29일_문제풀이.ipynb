{
  "nbformat": 4,
  "nbformat_minor": 0,
  "metadata": {
    "colab": {
      "name": "7-29일 문제풀이.ipynb",
      "provenance": [],
      "collapsed_sections": []
    },
    "kernelspec": {
      "name": "python3",
      "display_name": "Python 3"
    },
    "language_info": {
      "name": "python"
    }
  },
  "cells": [
    {
      "cell_type": "code",
      "metadata": {
        "colab": {
          "base_uri": "https://localhost:8080/"
        },
        "id": "um2qpZIHBYeE",
        "outputId": "7e8f0d3f-25c5-4fb4-8e8f-358da0d81d9d"
      },
      "source": [
        "age = int(input())\n",
        "if age >= 19:\n",
        "    print(9000-1250)\n",
        "elif   age >= 13:\n",
        "    print(9000-1050)\n",
        "else:\n",
        "    print(9000-650)"
      ],
      "execution_count": 26,
      "outputs": [
        {
          "output_type": "stream",
          "text": [
            "20\n",
            "7750\n"
          ],
          "name": "stdout"
        }
      ]
    },
    {
      "cell_type": "code",
      "metadata": {
        "colab": {
          "base_uri": "https://localhost:8080/"
        },
        "id": "EZZK7Z6wEvwp",
        "outputId": "e837f7fb-4da3-48f8-f9ca-6b9f7cfc668f"
      },
      "source": [
        "a=int(input())\n",
        "for i in range(1,10):  \n",
        "    print(a,'*',i,'=',a*i,end =' ')\n",
        "    print()\n"
      ],
      "execution_count": 37,
      "outputs": [
        {
          "output_type": "stream",
          "text": [
            "2\n",
            "2 * 1 = 2 \n",
            "2 * 2 = 4 \n",
            "2 * 3 = 6 \n",
            "2 * 4 = 8 \n",
            "2 * 5 = 10 \n",
            "2 * 6 = 12 \n",
            "2 * 7 = 14 \n",
            "2 * 8 = 16 \n",
            "2 * 9 = 18 \n"
          ],
          "name": "stdout"
        }
      ]
    },
    {
      "cell_type": "code",
      "metadata": {
        "colab": {
          "base_uri": "https://localhost:8080/"
        },
        "id": "q97liWpNGqnh",
        "outputId": "b027cac0-0314-4950-a118-dfa7e961a80e"
      },
      "source": [
        "a=int(input())\n",
        "while a>=1350:\n",
        "    a= a - 1350\n",
        "    print(a)"
      ],
      "execution_count": 42,
      "outputs": [
        {
          "output_type": "stream",
          "text": [
            "10000\n",
            "8650\n",
            "7300\n",
            "5950\n",
            "4600\n",
            "3250\n",
            "1900\n",
            "550\n"
          ],
          "name": "stdout"
        }
      ]
    },
    {
      "cell_type": "code",
      "metadata": {
        "colab": {
          "base_uri": "https://localhost:8080/"
        },
        "id": "HtaC-YUlIeOf",
        "outputId": "d303f14c-137e-4ff0-baae-f9722c61c12a"
      },
      "source": [
        "start, stop = map(int, input().split())\n",
        "i = start\n",
        "while True:\n",
        "    if i % 10 == 3:\n",
        "      i += 1\n",
        "      continue\n",
        "    if i > stop:\n",
        "      break\n",
        "    print(i, end=' ')\n",
        "    i += 1\n"
      ],
      "execution_count": 63,
      "outputs": [
        {
          "output_type": "stream",
          "text": [
            "1 20\n",
            "1 2 4 5 6 7 8 9 10 11 12 14 15 16 17 18 19 20 "
          ],
          "name": "stdout"
        }
      ]
    },
    {
      "cell_type": "code",
      "metadata": {
        "colab": {
          "base_uri": "https://localhost:8080/"
        },
        "id": "D1FnTsXhNB_K",
        "outputId": "ecb47542-b5dd-4a53-ed11-79385d731d27"
      },
      "source": [
        "a = int(input())\n",
        "for i in range(a):\n",
        "    print(' '*(a-(i+1)),'*'*(2*i+1),sep='')"
      ],
      "execution_count": 74,
      "outputs": [
        {
          "output_type": "stream",
          "text": [
            "3\n",
            "  *\n",
            " ***\n",
            "*****\n"
          ],
          "name": "stdout"
        }
      ]
    },
    {
      "cell_type": "code",
      "metadata": {
        "colab": {
          "base_uri": "https://localhost:8080/"
        },
        "id": "05I5WR3hPfmo",
        "outputId": "17b33dfc-f699-4ace-dcd6-a72b5cdaef83"
      },
      "source": [
        "a, b = map(int,input().split())\n",
        "c = [2**i for i in range(a,b+1)]\n",
        "c.pop(1)\n",
        "c.pop(-2)\n",
        "print(c)"
      ],
      "execution_count": 79,
      "outputs": [
        {
          "output_type": "stream",
          "text": [
            "10 20\n",
            "[1024, 4096, 8192, 16384, 32768, 65536, 131072, 262144, 1048576]\n"
          ],
          "name": "stdout"
        }
      ]
    },
    {
      "cell_type": "code",
      "metadata": {
        "colab": {
          "base_uri": "https://localhost:8080/"
        },
        "id": "bFg3TrH8Qo-N",
        "outputId": "483bb43a-eff9-4fe3-8b1c-448ad2680205"
      },
      "source": [
        "# 강사님 문제\n",
        "for a in range(1,333):\n",
        "  for b in range(a+1,500):\n",
        "    for c in range(b,666):\n",
        "      if a + b + c == 1000 and a*a + b*b == c*c:\n",
        "        print(a,b,c)\n"
      ],
      "execution_count": 116,
      "outputs": [
        {
          "output_type": "stream",
          "text": [
            "200 375 425\n"
          ],
          "name": "stdout"
        }
      ]
    },
    {
      "cell_type": "code",
      "metadata": {
        "colab": {
          "base_uri": "https://localhost:8080/"
        },
        "id": "KrJiLl0BR4mz",
        "outputId": "99d37a69-8230-43cb-c11f-24e140deba91"
      },
      "source": [
        "# 강사님 문제 2\n",
        "birthday = input('생일을 입력하시오 ex(1995 05 11)').split()\n",
        "from datetime import date\n",
        "if int(birthday[1]) < today.month:\n",
        "  print(today.year - int(birthday[0]))\n",
        "elif int(birthday[1]) == today.month and int(birthday[2]) < today.day:\n",
        "  print(today.year - int(birthday[0]))\n",
        "else:\n",
        "    print(today.year - int(birthday[0])-1)"
      ],
      "execution_count": 101,
      "outputs": [
        {
          "output_type": "stream",
          "text": [
            "생일을 입력하시오 ex(1995 05 11)1995 05 11\n",
            "26\n"
          ],
          "name": "stdout"
        }
      ]
    },
    {
      "cell_type": "code",
      "metadata": {
        "colab": {
          "base_uri": "https://localhost:8080/"
        },
        "id": "TbVekR5sWMYa",
        "outputId": "b4077e2e-6990-45c3-f442-38d7ff292859"
      },
      "source": [
        "# 강사님 문제 3\n",
        "a = 0\n",
        "for i in range(24):\n",
        "  if i % 10 ==3 or i // 10 ==3:\n",
        "    a = a+ 60*60\n",
        "    continue\n",
        "  for k in range(60):\n",
        "    if k % 10 ==3 or k // 10 ==3:\n",
        "      a = a + 60\n",
        "a"
      ],
      "execution_count": 115,
      "outputs": [
        {
          "output_type": "execute_result",
          "data": {
            "text/plain": [
              "29700"
            ]
          },
          "metadata": {
            "tags": []
          },
          "execution_count": 115
        }
      ]
    },
    {
      "cell_type": "code",
      "metadata": {
        "colab": {
          "base_uri": "https://localhost:8080/",
          "height": 136
        },
        "id": "cXuYowMKbwPy",
        "outputId": "6fd747dc-e023-482d-a6ae-208b052198a1"
      },
      "source": [
        "#강사님 풀이\n",
        "for a in range(1, 333):\n",
        "  for b in range(a+1, 500):\n",
        "    c = 1000 - (a + b)\n",
        "    if c*c == a*a + b*b:\n",
        "      print(a, b, c)"
      ],
      "execution_count": 119,
      "outputs": [
        {
          "output_type": "error",
          "ename": "SyntaxError",
          "evalue": "ignored",
          "traceback": [
            "\u001b[0;36m  File \u001b[0;32m\"<ipython-input-119-868b173bcc3a>\"\u001b[0;36m, line \u001b[0;32m4\u001b[0m\n\u001b[0;31m    if str(3) in str(i)\u001b[0m\n\u001b[0m                       ^\u001b[0m\n\u001b[0;31mSyntaxError\u001b[0m\u001b[0;31m:\u001b[0m invalid syntax\n"
          ]
        }
      ]
    },
    {
      "cell_type": "code",
      "metadata": {
        "colab": {
          "base_uri": "https://localhost:8080/"
        },
        "id": "j-d7yfWixSW5",
        "outputId": "d63f8ecc-5996-464c-b1c8-acc95f846d7b"
      },
      "source": [
        "#강사님 풀이 \n",
        "[(a, b, c) for a in range(1,333)\n",
        "              for b in range(a+1,500)\n",
        "                for c in range(b+1,1000)\n",
        "                  if a+b+c==1000 and a*a + b*b == c*c]"
      ],
      "execution_count": 3,
      "outputs": [
        {
          "output_type": "execute_result",
          "data": {
            "text/plain": [
              "[(200, 375, 425)]"
            ]
          },
          "metadata": {
            "tags": []
          },
          "execution_count": 3
        }
      ]
    },
    {
      "cell_type": "code",
      "metadata": {
        "colab": {
          "base_uri": "https://localhost:8080/"
        },
        "id": "7w-Xiq-Eyctd",
        "outputId": "f2e2e591-a51b-490e-a76c-2013d5f4a59f"
      },
      "source": [
        "#강사님 풀이 2\n",
        "from datetime import date\n",
        "today = date.today()\n",
        "year, month, day = map(int, input('생일 입력').split())"
      ],
      "execution_count": 7,
      "outputs": [
        {
          "output_type": "stream",
          "text": [
            "생일 입력1995 05 11\n"
          ],
          "name": "stdout"
        }
      ]
    },
    {
      "cell_type": "code",
      "metadata": {
        "colab": {
          "base_uri": "https://localhost:8080/"
        },
        "id": "BFQF-EiYzFMZ",
        "outputId": "102e3d9a-523d-4873-d168-e84fb97be766"
      },
      "source": [
        "#강사님 풀이 3\n",
        "total_seconds = 0\n",
        "for hour in range(24):\n",
        "  for min in range(60):\n",
        "    time =f'{hour:02d}:{min:02d}'\n",
        "    if '3' in time:\n",
        "      total_seconds += 60\n",
        "print(total_seconds)"
      ],
      "execution_count": 10,
      "outputs": [
        {
          "output_type": "stream",
          "text": [
            "29700\n"
          ],
          "name": "stdout"
        }
      ]
    }
  ]
}