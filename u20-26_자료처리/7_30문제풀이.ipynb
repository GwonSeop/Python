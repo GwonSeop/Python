{
  "nbformat": 4,
  "nbformat_minor": 0,
  "metadata": {
    "colab": {
      "name": "7-30문제풀이.ipynb",
      "provenance": [],
      "collapsed_sections": []
    },
    "kernelspec": {
      "name": "python3",
      "display_name": "Python 3"
    },
    "language_info": {
      "name": "python"
    }
  },
  "cells": [
    {
      "cell_type": "markdown",
      "metadata": {
        "id": "cuxYt4wLD0F8"
      },
      "source": [
        "## 22 심사문제"
      ]
    },
    {
      "cell_type": "code",
      "metadata": {
        "colab": {
          "base_uri": "https://localhost:8080/",
          "height": 262
        },
        "id": "IzqzaYTKD7MI",
        "outputId": "5afc6f9a-30cb-45d3-f658-4fcaf31635bf"
      },
      "source": [
        "a, b = map(int,input().split())\n",
        "c = [2**i for i in range(a,b+1)]\n",
        "c.pop(1)\n",
        "c.pop(-2)\n",
        "print(c)"
      ],
      "execution_count": 29,
      "outputs": [
        {
          "output_type": "stream",
          "text": [
            "3 3\n"
          ],
          "name": "stdout"
        },
        {
          "output_type": "error",
          "ename": "IndexError",
          "evalue": "ignored",
          "traceback": [
            "\u001b[0;31m---------------------------------------------------------------------------\u001b[0m",
            "\u001b[0;31mIndexError\u001b[0m                                Traceback (most recent call last)",
            "\u001b[0;32m<ipython-input-29-3d4d80405800>\u001b[0m in \u001b[0;36m<module>\u001b[0;34m()\u001b[0m\n\u001b[1;32m      1\u001b[0m \u001b[0ma\u001b[0m\u001b[0;34m,\u001b[0m \u001b[0mb\u001b[0m \u001b[0;34m=\u001b[0m \u001b[0mmap\u001b[0m\u001b[0;34m(\u001b[0m\u001b[0mint\u001b[0m\u001b[0;34m,\u001b[0m\u001b[0minput\u001b[0m\u001b[0;34m(\u001b[0m\u001b[0;34m)\u001b[0m\u001b[0;34m.\u001b[0m\u001b[0msplit\u001b[0m\u001b[0;34m(\u001b[0m\u001b[0;34m)\u001b[0m\u001b[0;34m)\u001b[0m\u001b[0;34m\u001b[0m\u001b[0;34m\u001b[0m\u001b[0m\n\u001b[1;32m      2\u001b[0m \u001b[0mc\u001b[0m \u001b[0;34m=\u001b[0m \u001b[0;34m[\u001b[0m\u001b[0;36m2\u001b[0m\u001b[0;34m**\u001b[0m\u001b[0mi\u001b[0m \u001b[0;32mfor\u001b[0m \u001b[0mi\u001b[0m \u001b[0;32min\u001b[0m \u001b[0mrange\u001b[0m\u001b[0;34m(\u001b[0m\u001b[0ma\u001b[0m\u001b[0;34m,\u001b[0m\u001b[0mb\u001b[0m\u001b[0;34m+\u001b[0m\u001b[0;36m1\u001b[0m\u001b[0;34m)\u001b[0m\u001b[0;34m]\u001b[0m\u001b[0;34m\u001b[0m\u001b[0;34m\u001b[0m\u001b[0m\n\u001b[0;32m----> 3\u001b[0;31m \u001b[0mc\u001b[0m\u001b[0;34m.\u001b[0m\u001b[0mpop\u001b[0m\u001b[0;34m(\u001b[0m\u001b[0;36m1\u001b[0m\u001b[0;34m)\u001b[0m\u001b[0;34m\u001b[0m\u001b[0;34m\u001b[0m\u001b[0m\n\u001b[0m\u001b[1;32m      4\u001b[0m \u001b[0mc\u001b[0m\u001b[0;34m.\u001b[0m\u001b[0mpop\u001b[0m\u001b[0;34m(\u001b[0m\u001b[0;34m-\u001b[0m\u001b[0;36m2\u001b[0m\u001b[0;34m)\u001b[0m\u001b[0;34m\u001b[0m\u001b[0;34m\u001b[0m\u001b[0m\n\u001b[1;32m      5\u001b[0m \u001b[0mprint\u001b[0m\u001b[0;34m(\u001b[0m\u001b[0mc\u001b[0m\u001b[0;34m)\u001b[0m\u001b[0;34m\u001b[0m\u001b[0;34m\u001b[0m\u001b[0m\n",
            "\u001b[0;31mIndexError\u001b[0m: pop index out of range"
          ]
        }
      ]
    },
    {
      "cell_type": "markdown",
      "metadata": {
        "id": "1wScqolLD8Ty"
      },
      "source": [
        "## 23 심사문제"
      ]
    },
    {
      "cell_type": "code",
      "metadata": {
        "colab": {
          "base_uri": "https://localhost:8080/"
        },
        "id": "eLqlc1dLupYj",
        "outputId": "e281bc74-35f6-4f2c-9548-a581823c81e3"
      },
      "source": [
        "x,y = map(int,input().split())\n",
        "matrix1 = []\n",
        "matrix = []\n",
        "for _ in range(y+2):\n",
        "  matrix1.append('.')\n",
        "matrix.append(matrix1)\n",
        "for _ in range(x):\n",
        "    matrix.append(list('.'+input()+'.'))\n",
        "matrix.append(matrix1)\n",
        "for n in range(1,x+1):\n",
        "  d=''\n",
        "  for k in range(1,y+1):    \n",
        "    c = 0\n",
        "    if matrix[n][k]=='*':\n",
        "      c = '*'    \n",
        "    else:\n",
        "      for l in range(0,3):\n",
        "        for m in range(0,3):\n",
        "          if matrix[n-1+l][k-1+m]=='*' and matrix[n][k]!='*':\n",
        "            c += 1\n",
        "          else:\n",
        "            continue\n",
        "    c = str(c)\n",
        "    d = d + c   \n",
        "  print(d)"
      ],
      "execution_count": 105,
      "outputs": [
        {
          "output_type": "stream",
          "text": [
            "5 5\n",
            "..*..\n",
            "...*.\n",
            ".*...\n",
            ".***.\n",
            "*.*..\n",
            "01*21\n",
            "123*1\n",
            "2*532\n",
            "3***1\n",
            "*4*31\n"
          ],
          "name": "stdout"
        }
      ]
    },
    {
      "cell_type": "markdown",
      "metadata": {
        "id": "dE4K6orbFYwf"
      },
      "source": [
        "##24 심사문제"
      ]
    },
    {
      "cell_type": "markdown",
      "metadata": {
        "id": "SnJ52thEL1Rh"
      },
      "source": [
        "### 1"
      ]
    },
    {
      "cell_type": "code",
      "metadata": {
        "id": "RWpvI-LrFZ6i"
      },
      "source": [
        "x = input().split(' ')\n",
        "c = 0\n",
        "for i in range(len(x)):\n",
        "  y = x[i].strip(',.')\n",
        "  if y == 'the':\n",
        "    c += 1\n",
        "  else:\n",
        "    continue\n",
        "print(c)"
      ],
      "execution_count": null,
      "outputs": []
    },
    {
      "cell_type": "markdown",
      "metadata": {
        "id": "iLM0R1CxLzfY"
      },
      "source": [
        "### 2"
      ]
    },
    {
      "cell_type": "code",
      "metadata": {
        "id": "cJ7ayu2SK_fM"
      },
      "source": [
        "x = input().split(';')\n",
        "l = []\n",
        "for i in range(len(x)):\n",
        "  x[i] = int(x[i])\n",
        "for _ in range(len(x)):\n",
        "  y = x.index(max(x))\n",
        "  t = x.pop(y)\n",
        "  t = f'{t:,d}'\n",
        "  t = str(t)\n",
        "  u = t.rjust(9)\n",
        "  print(u)"
      ],
      "execution_count": null,
      "outputs": []
    },
    {
      "cell_type": "markdown",
      "metadata": {
        "id": "QAocUpw1brbx"
      },
      "source": [
        "## 25 심사문제\n"
      ]
    },
    {
      "cell_type": "code",
      "metadata": {
        "id": "YlFzO_sQbu-Z"
      },
      "source": [
        "keys = input().split()\n",
        "values = map(int, input().split())\n",
        "x = dict(zip(keys, values))\n",
        "x = {key: value for key,value in x.items() if key != 'delta' and value !=30}\n",
        "\n",
        "print(x)\n"
      ],
      "execution_count": null,
      "outputs": []
    },
    {
      "cell_type": "markdown",
      "metadata": {
        "id": "mMTX-uO-nV0y"
      },
      "source": [
        "## 26 심사문제"
      ]
    },
    {
      "cell_type": "code",
      "metadata": {
        "id": "WSrUGkgddJIV"
      },
      "source": [
        "a,b = map(int,input().split())\n",
        "a = {i for i in range(1,a+1) if a % i == 0}\n",
        "b = {i for i in range(1,b+1) if b % i == 0}"
      ],
      "execution_count": null,
      "outputs": []
    },
    {
      "cell_type": "code",
      "metadata": {
        "id": "H1nD9hvPmVOS"
      },
      "source": [
        ""
      ],
      "execution_count": null,
      "outputs": []
    }
  ]
}