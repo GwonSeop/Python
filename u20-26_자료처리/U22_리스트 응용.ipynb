{
  "nbformat": 4,
  "nbformat_minor": 0,
  "metadata": {
    "colab": {
      "name": "U20_.ipynb",
      "provenance": [],
      "collapsed_sections": []
    },
    "kernelspec": {
      "name": "python3",
      "display_name": "Python 3"
    },
    "language_info": {
      "name": "python"
    }
  },
  "cells": [
    {
      "cell_type": "markdown",
      "metadata": {
        "id": "o_y64-3xqVi0"
      },
      "source": [
        "# Unit 22. 리스트,튜플 응용"
      ]
    },
    {
      "cell_type": "markdown",
      "metadata": {
        "id": "qPOZ5DdJqfHo"
      },
      "source": [
        "## 22.1 리스트조작"
      ]
    },
    {
      "cell_type": "code",
      "metadata": {
        "id": "jX2KN7qEp6YV"
      },
      "source": [
        "# append : 리스트에 요소 하나를 추가 <<★★★\n",
        "# extend : 리스트를 연결하여 확장\n",
        "# insert : 특정 인덱스에 요소 추가"
      ],
      "execution_count": null,
      "outputs": []
    },
    {
      "cell_type": "code",
      "metadata": {
        "id": "UCWgtaz-qgvU"
      },
      "source": [
        "a = [10, 20, 30]"
      ],
      "execution_count": 1,
      "outputs": []
    },
    {
      "cell_type": "code",
      "metadata": {
        "colab": {
          "base_uri": "https://localhost:8080/"
        },
        "id": "oLzgP0KKrMME",
        "outputId": "5e749a91-7352-44eb-cb26-4908d2005b6b"
      },
      "source": [
        "# 리스트 맨 뒤에 요소하나를 추가하는 mathod \n",
        "a.append(500)\n",
        "a"
      ],
      "execution_count": 2,
      "outputs": [
        {
          "output_type": "execute_result",
          "data": {
            "text/plain": [
              "[10, 20, 30, 500]"
            ]
          },
          "metadata": {
            "tags": []
          },
          "execution_count": 2
        }
      ]
    },
    {
      "cell_type": "markdown",
      "metadata": {
        "id": "t-OdJVONr69q"
      },
      "source": [
        "### extend와 append의 차이\n"
      ]
    },
    {
      "cell_type": "code",
      "metadata": {
        "colab": {
          "base_uri": "https://localhost:8080/"
        },
        "id": "sVdO2PdfreTE",
        "outputId": "67b15b6a-e3c7-4654-adb0-dcb0268fbed2"
      },
      "source": [
        "a.append(['x','y'])\n",
        "a"
      ],
      "execution_count": 4,
      "outputs": [
        {
          "output_type": "execute_result",
          "data": {
            "text/plain": [
              "[10, 20, 30, 500, ['x', 'y']]"
            ]
          },
          "metadata": {
            "tags": []
          },
          "execution_count": 4
        }
      ]
    },
    {
      "cell_type": "code",
      "metadata": {
        "colab": {
          "base_uri": "https://localhost:8080/"
        },
        "id": "hbutYGdErtXb",
        "outputId": "d1f325a8-407e-482d-c97c-37b605e5d4db"
      },
      "source": [
        "b = [10, 20, 30]\n",
        "b.extend(['x','y'])\n",
        "b"
      ],
      "execution_count": 5,
      "outputs": [
        {
          "output_type": "execute_result",
          "data": {
            "text/plain": [
              "[10, 20, 30, 'x', 'y']"
            ]
          },
          "metadata": {
            "tags": []
          },
          "execution_count": 5
        }
      ]
    },
    {
      "cell_type": "code",
      "metadata": {
        "colab": {
          "base_uri": "https://localhost:8080/"
        },
        "id": "fgyA2OM3r4Ac",
        "outputId": "3fc13175-d692-4f73-ec05-565d2af67aa6"
      },
      "source": [
        "empty_list = []\n",
        "for i in range(5):\n",
        "  empty_list.append(i)\n",
        "empty_list"
      ],
      "execution_count": 6,
      "outputs": [
        {
          "output_type": "execute_result",
          "data": {
            "text/plain": [
              "[0, 1, 2, 3, 4]"
            ]
          },
          "metadata": {
            "tags": []
          },
          "execution_count": 6
        }
      ]
    },
    {
      "cell_type": "code",
      "metadata": {
        "colab": {
          "base_uri": "https://localhost:8080/"
        },
        "id": "RoJxYCb_sRnE",
        "outputId": "a8ee7f8f-62da-464b-a01a-c7c024929124"
      },
      "source": [
        "del a[0]\n",
        "a"
      ],
      "execution_count": 9,
      "outputs": [
        {
          "output_type": "execute_result",
          "data": {
            "text/plain": [
              "[20, 30, 500]"
            ]
          },
          "metadata": {
            "tags": []
          },
          "execution_count": 9
        }
      ]
    },
    {
      "cell_type": "markdown",
      "metadata": {
        "id": "jxMXccest5Gv"
      },
      "source": [
        "### Stack and Queue"
      ]
    },
    {
      "cell_type": "code",
      "metadata": {
        "colab": {
          "base_uri": "https://localhost:8080/"
        },
        "id": "XWWCzzfXs_iO",
        "outputId": "37dd4241-c4a5-457b-9a92-7934bfeff24a"
      },
      "source": [
        "stack = []\n",
        "# stack에 push\n",
        "stack.append(1);stack.append(2);stack.append(3);\n",
        "stack"
      ],
      "execution_count": 14,
      "outputs": [
        {
          "output_type": "execute_result",
          "data": {
            "text/plain": [
              "[1, 2, 3]"
            ]
          },
          "metadata": {
            "tags": []
          },
          "execution_count": 14
        }
      ]
    },
    {
      "cell_type": "code",
      "metadata": {
        "colab": {
          "base_uri": "https://localhost:8080/"
        },
        "id": "8Lb-EbvduM-O",
        "outputId": "b2ca6055-30d3-40da-b9ec-55b252e1dab7"
      },
      "source": [
        "#  stack으로부터 pop\n",
        "value = stack.pop()\n",
        "print(value, stack)"
      ],
      "execution_count": 15,
      "outputs": [
        {
          "output_type": "stream",
          "text": [
            "3 [1, 2]\n"
          ],
          "name": "stdout"
        }
      ]
    },
    {
      "cell_type": "code",
      "metadata": {
        "colab": {
          "base_uri": "https://localhost:8080/"
        },
        "id": "qbYJ_IoOuQrX",
        "outputId": "6c7e09e0-6009-46d4-dd5f-a0f8f09c4c98"
      },
      "source": [
        "queue = []\n",
        "# queue에 insert ( insert(x,y)는 x번째 값에 y를 추가하라는 뜻)\n",
        "queue.insert(0, 1);queue.insert(0, 2);queue.insert(0, 3)\n",
        "queue"
      ],
      "execution_count": 30,
      "outputs": [
        {
          "output_type": "execute_result",
          "data": {
            "text/plain": [
              "[3, 2, 1]"
            ]
          },
          "metadata": {
            "tags": []
          },
          "execution_count": 30
        }
      ]
    },
    {
      "cell_type": "code",
      "metadata": {
        "colab": {
          "base_uri": "https://localhost:8080/"
        },
        "id": "5G_aV4UOuq5Z",
        "outputId": "eca24d44-a3f1-4e14-8653-3be7d1a1e5d3"
      },
      "source": [
        "#queue로부터 끄집어내기\n",
        "value = queue.pop()\n",
        "print(value,queue)"
      ],
      "execution_count": 19,
      "outputs": [
        {
          "output_type": "stream",
          "text": [
            "1 [3, 2]\n"
          ],
          "name": "stdout"
        }
      ]
    },
    {
      "cell_type": "markdown",
      "metadata": {
        "id": "QJV5Xnqtvr1M"
      },
      "source": [
        "###다양한 메쏘드"
      ]
    },
    {
      "cell_type": "code",
      "metadata": {
        "colab": {
          "base_uri": "https://localhost:8080/"
        },
        "id": "Xm-yzwZ4vZRe",
        "outputId": "7194c82e-d86b-42cd-eb55-3c8fd7f20f78"
      },
      "source": [
        "a = [10, 20, 30, 40, 50, 60, 10]\n",
        "a.index(30)"
      ],
      "execution_count": 24,
      "outputs": [
        {
          "output_type": "execute_result",
          "data": {
            "text/plain": [
              "2"
            ]
          },
          "metadata": {
            "tags": []
          },
          "execution_count": 24
        }
      ]
    },
    {
      "cell_type": "code",
      "metadata": {
        "id": "O3CY-FS4v1My"
      },
      "source": [
        "num = 45\n",
        "if num in a:\n",
        "  idx = a.index(num)"
      ],
      "execution_count": 22,
      "outputs": []
    },
    {
      "cell_type": "code",
      "metadata": {
        "colab": {
          "base_uri": "https://localhost:8080/"
        },
        "id": "NszZc3hqwOeZ",
        "outputId": "309990a8-dbc5-42fd-cfcd-01aa14fc7277"
      },
      "source": [
        "a.count(10)"
      ],
      "execution_count": 25,
      "outputs": [
        {
          "output_type": "execute_result",
          "data": {
            "text/plain": [
              "2"
            ]
          },
          "metadata": {
            "tags": []
          },
          "execution_count": 25
        }
      ]
    },
    {
      "cell_type": "code",
      "metadata": {
        "colab": {
          "base_uri": "https://localhost:8080/"
        },
        "id": "hEN-b2l7wUFs",
        "outputId": "1ab7abf5-05db-40ca-9347-af5af7892d44"
      },
      "source": [
        "a.count(45)"
      ],
      "execution_count": 26,
      "outputs": [
        {
          "output_type": "execute_result",
          "data": {
            "text/plain": [
              "0"
            ]
          },
          "metadata": {
            "tags": []
          },
          "execution_count": 26
        }
      ]
    },
    {
      "cell_type": "markdown",
      "metadata": {
        "id": "keWl3YoOxQFg"
      },
      "source": [
        "### 정렬(sort)"
      ]
    },
    {
      "cell_type": "code",
      "metadata": {
        "colab": {
          "base_uri": "https://localhost:8080/"
        },
        "id": "E35vFF7LxT4y",
        "outputId": "12c3269a-9dca-45fe-a60b-132a9c23406f"
      },
      "source": [
        "# 오름차순 정리가 기본이다.\n",
        "a = [20, 10, 15, 30, 40]\n",
        "a.sort()    # a를 바꾼다.\n",
        "a"
      ],
      "execution_count": 32,
      "outputs": [
        {
          "output_type": "execute_result",
          "data": {
            "text/plain": [
              "[10, 15, 20, 30, 40]"
            ]
          },
          "metadata": {
            "tags": []
          },
          "execution_count": 32
        }
      ]
    },
    {
      "cell_type": "code",
      "metadata": {
        "colab": {
          "base_uri": "https://localhost:8080/"
        },
        "id": "iegjC9CmxiFJ",
        "outputId": "8d12d9a7-3a52-4e95-dae4-407821b961c0"
      },
      "source": [
        "b = [20, 10, 15, 30, 40]\n",
        "sorted(b),b       #b는 변하지 않는다."
      ],
      "execution_count": 35,
      "outputs": [
        {
          "output_type": "execute_result",
          "data": {
            "text/plain": [
              "([10, 15, 20, 30, 40], [20, 10, 15, 30, 40])"
            ]
          },
          "metadata": {
            "tags": []
          },
          "execution_count": 35
        }
      ]
    },
    {
      "cell_type": "code",
      "metadata": {
        "colab": {
          "base_uri": "https://localhost:8080/"
        },
        "id": "a72TGQwYxo6Q",
        "outputId": "60e83a69-3835-4841-82ee-db30d3c1f08a"
      },
      "source": [
        "a = [20, 10, 15, 30, 40]\n",
        "a.sort(reverse=True)        # 내림차순으로 바꾸려면 reverse=True 를 이용한다.\n",
        "a"
      ],
      "execution_count": 36,
      "outputs": [
        {
          "output_type": "execute_result",
          "data": {
            "text/plain": [
              "[40, 30, 20, 15, 10]"
            ]
          },
          "metadata": {
            "tags": []
          },
          "execution_count": 36
        }
      ]
    },
    {
      "cell_type": "markdown",
      "metadata": {
        "id": "9Oly9EH6zLaE"
      },
      "source": [
        "##22.2 리스트 할당과 복사"
      ]
    },
    {
      "cell_type": "code",
      "metadata": {
        "colab": {
          "base_uri": "https://localhost:8080/"
        },
        "id": "trEwhC0szPuN",
        "outputId": "513fffd4-baac-409e-97a9-96c56cbc6d7f"
      },
      "source": [
        "a = [0, 0, 0, 0, 0]\n",
        "b = a       # Shallow copy b가 a의 내용을 공유하는 느낌\n",
        "b"
      ],
      "execution_count": 37,
      "outputs": [
        {
          "output_type": "execute_result",
          "data": {
            "text/plain": [
              "[0, 0, 0, 0, 0]"
            ]
          },
          "metadata": {
            "tags": []
          },
          "execution_count": 37
        }
      ]
    },
    {
      "cell_type": "code",
      "metadata": {
        "colab": {
          "base_uri": "https://localhost:8080/"
        },
        "id": "Fa4cbS2Qza6-",
        "outputId": "57ca9940-4f09-49b7-eaf6-edd1284992d5"
      },
      "source": [
        "b[2] = 99\n",
        "b"
      ],
      "execution_count": 39,
      "outputs": [
        {
          "output_type": "execute_result",
          "data": {
            "text/plain": [
              "[0, 0, 99, 0, 0]"
            ]
          },
          "metadata": {
            "tags": []
          },
          "execution_count": 39
        }
      ]
    },
    {
      "cell_type": "code",
      "metadata": {
        "colab": {
          "base_uri": "https://localhost:8080/"
        },
        "id": "OmIYF27gzfDL",
        "outputId": "865f8cfa-c3fe-40b7-f67a-ede3f382965e"
      },
      "source": [
        "a"
      ],
      "execution_count": 40,
      "outputs": [
        {
          "output_type": "execute_result",
          "data": {
            "text/plain": [
              "[0, 0, 99, 0, 0]"
            ]
          },
          "metadata": {
            "tags": []
          },
          "execution_count": 40
        }
      ]
    },
    {
      "cell_type": "code",
      "metadata": {
        "colab": {
          "base_uri": "https://localhost:8080/"
        },
        "id": "rpXdkcOqz_Vu",
        "outputId": "c3eb95e6-ef27-442e-e104-c2e7fef70817"
      },
      "source": [
        "#데이터를 전부 별도로 copy하고 싶을때\n",
        "a = [0, 0, 0, 0, 0]\n",
        "b= a.copy()\n",
        "b"
      ],
      "execution_count": 41,
      "outputs": [
        {
          "output_type": "execute_result",
          "data": {
            "text/plain": [
              "[0, 0, 0, 0, 0]"
            ]
          },
          "metadata": {
            "tags": []
          },
          "execution_count": 41
        }
      ]
    },
    {
      "cell_type": "code",
      "metadata": {
        "colab": {
          "base_uri": "https://localhost:8080/"
        },
        "id": "mfrkb2B50I5I",
        "outputId": "f9c0f349-5be6-4ec7-97f9-28fb2fa435dc"
      },
      "source": [
        "b[2] = 99\n",
        "a , b"
      ],
      "execution_count": 42,
      "outputs": [
        {
          "output_type": "execute_result",
          "data": {
            "text/plain": [
              "([0, 0, 0, 0, 0], [0, 0, 99, 0, 0])"
            ]
          },
          "metadata": {
            "tags": []
          },
          "execution_count": 42
        }
      ]
    },
    {
      "cell_type": "markdown",
      "metadata": {
        "id": "5PcpWzXS2kZ7"
      },
      "source": [
        "## 22.3 리스트와 반복문"
      ]
    },
    {
      "cell_type": "code",
      "metadata": {
        "colab": {
          "base_uri": "https://localhost:8080/"
        },
        "id": "KWyUPMZi2nzd",
        "outputId": "7c7f10b4-cff6-45ad-dfc8-96a6aa597309"
      },
      "source": [
        "for fruit in ['apple','banana','cherry']:\n",
        "  print(fruit)"
      ],
      "execution_count": 45,
      "outputs": [
        {
          "output_type": "stream",
          "text": [
            "apple\n",
            "banana\n",
            "cherry\n"
          ],
          "name": "stdout"
        }
      ]
    },
    {
      "cell_type": "code",
      "metadata": {
        "colab": {
          "base_uri": "https://localhost:8080/"
        },
        "id": "qSO4S1Cu25DQ",
        "outputId": "23b03a9e-6d7b-4e0e-8dce-11721f48c364"
      },
      "source": [
        "fruits = ['apple','banana','cherry']\n",
        "for index, fruit in enumerate(fruits): # enumerate()는 첫번째 값에 index를 두번째 값에 해당값을 출력해준다.\n",
        "  print(index, fruit)"
      ],
      "execution_count": 48,
      "outputs": [
        {
          "output_type": "stream",
          "text": [
            "0 apple\n",
            "1 banana\n",
            "2 cherry\n"
          ],
          "name": "stdout"
        }
      ]
    },
    {
      "cell_type": "code",
      "metadata": {
        "colab": {
          "base_uri": "https://localhost:8080/"
        },
        "id": "m_R7PhcO3uuo",
        "outputId": "b99a94e8-51be-4b72-902a-5a3e34ac0e3e"
      },
      "source": [
        "for i in range(len(fruits)):\n",
        "  print(fruits[i])"
      ],
      "execution_count": 53,
      "outputs": [
        {
          "output_type": "stream",
          "text": [
            "apple\n",
            "banana\n",
            "cherry\n"
          ],
          "name": "stdout"
        }
      ]
    },
    {
      "cell_type": "markdown",
      "metadata": {
        "id": "xgIzDfO54Kwj"
      },
      "source": [
        "## 22.4 리스트에서 min, max, sum 함수 활용"
      ]
    },
    {
      "cell_type": "code",
      "metadata": {
        "colab": {
          "base_uri": "https://localhost:8080/"
        },
        "id": "vV11TEBd4RSd",
        "outputId": "31bd51a5-67db-46eb-9519-a79ed2d7e162"
      },
      "source": [
        "a = [30, 21, 53, 62, 19]\n",
        "a.sort()\n",
        "a[0]  # = min(a)"
      ],
      "execution_count": 56,
      "outputs": [
        {
          "output_type": "execute_result",
          "data": {
            "text/plain": [
              "19"
            ]
          },
          "metadata": {
            "tags": []
          },
          "execution_count": 56
        }
      ]
    },
    {
      "cell_type": "code",
      "metadata": {
        "colab": {
          "base_uri": "https://localhost:8080/"
        },
        "id": "EAco1K4u4ykn",
        "outputId": "43a90990-5cdc-4471-fbd7-d40156d48e3e"
      },
      "source": [
        "a[-1] # = max(a)"
      ],
      "execution_count": 57,
      "outputs": [
        {
          "output_type": "execute_result",
          "data": {
            "text/plain": [
              "62"
            ]
          },
          "metadata": {
            "tags": []
          },
          "execution_count": 57
        }
      ]
    },
    {
      "cell_type": "code",
      "metadata": {
        "colab": {
          "base_uri": "https://localhost:8080/"
        },
        "id": "Fi_NXKG146Bb",
        "outputId": "378b7dc0-1a36-4b98-93d1-fbe47206a11b"
      },
      "source": [
        "a = [30, 21, 53, 62, 19]\n",
        "sorted(a)[0] # = min(a)"
      ],
      "execution_count": 58,
      "outputs": [
        {
          "output_type": "execute_result",
          "data": {
            "text/plain": [
              "19"
            ]
          },
          "metadata": {
            "tags": []
          },
          "execution_count": 58
        }
      ]
    },
    {
      "cell_type": "code",
      "metadata": {
        "colab": {
          "base_uri": "https://localhost:8080/"
        },
        "id": "0Fu_ZWe85RpV",
        "outputId": "96b75b66-7530-4b45-a990-ad36992fe1dd"
      },
      "source": [
        "# a 원소의 합\n",
        "sum_of_list = 0\n",
        "for elem in a:\n",
        "  sum_of_list += elem\n",
        "sum_of_list, sum(a)"
      ],
      "execution_count": 60,
      "outputs": [
        {
          "output_type": "execute_result",
          "data": {
            "text/plain": [
              "(185, 185)"
            ]
          },
          "metadata": {
            "tags": []
          },
          "execution_count": 60
        }
      ]
    },
    {
      "cell_type": "markdown",
      "metadata": {
        "id": "9frU_sV55wqE"
      },
      "source": [
        "## 22.5 리스트 표현식(comprehension)"
      ]
    },
    {
      "cell_type": "code",
      "metadata": {
        "colab": {
          "base_uri": "https://localhost:8080/"
        },
        "id": "1p4gBB2o53c_",
        "outputId": "20a9efac-51d9-4d9e-aea6-af99f671d897"
      },
      "source": [
        "[fruit for fruit in fruits]"
      ],
      "execution_count": 61,
      "outputs": [
        {
          "output_type": "execute_result",
          "data": {
            "text/plain": [
              "['apple', 'banana', 'cherry']"
            ]
          },
          "metadata": {
            "tags": []
          },
          "execution_count": 61
        }
      ]
    },
    {
      "cell_type": "code",
      "metadata": {
        "colab": {
          "base_uri": "https://localhost:8080/"
        },
        "id": "p4wmM7dE6Ypo",
        "outputId": "a3555b63-c3b5-4f70-beed-1b19e7cb3271"
      },
      "source": [
        "[index*fruit for index, fruit in enumerate(fruits)]"
      ],
      "execution_count": 67,
      "outputs": [
        {
          "output_type": "execute_result",
          "data": {
            "text/plain": [
              "['', 'banana', 'cherrycherry']"
            ]
          },
          "metadata": {
            "tags": []
          },
          "execution_count": 67
        }
      ]
    },
    {
      "cell_type": "code",
      "metadata": {
        "colab": {
          "base_uri": "https://localhost:8080/"
        },
        "id": "jeMdXcv4666z",
        "outputId": "fb584fe6-e10e-47db-b2b3-33392a06924a"
      },
      "source": [
        "[i*i for i in range(1,11)]"
      ],
      "execution_count": 70,
      "outputs": [
        {
          "output_type": "execute_result",
          "data": {
            "text/plain": [
              "[1, 4, 9, 16, 25, 36, 49, 64, 81, 100]"
            ]
          },
          "metadata": {
            "tags": []
          },
          "execution_count": 70
        }
      ]
    },
    {
      "cell_type": "code",
      "metadata": {
        "colab": {
          "base_uri": "https://localhost:8080/"
        },
        "id": "4g7EXOr26_5h",
        "outputId": "9eadd895-af3c-406c-9a7a-d06f87ce5fdc"
      },
      "source": [
        "list(i*i for i in range(1,11))"
      ],
      "execution_count": 69,
      "outputs": [
        {
          "output_type": "execute_result",
          "data": {
            "text/plain": [
              "[1, 4, 9, 16, 25, 36, 49, 64, 81, 100]"
            ]
          },
          "metadata": {
            "tags": []
          },
          "execution_count": 69
        }
      ]
    },
    {
      "cell_type": "code",
      "metadata": {
        "colab": {
          "base_uri": "https://localhost:8080/"
        },
        "id": "1ZSf8Vff7Y6a",
        "outputId": "ee0f6bd8-8aa5-462a-ffd8-45c644344c78"
      },
      "source": [
        "sq_list = []\n",
        "for i in range(1,11):\n",
        "  sq_list.append(i*i)\n",
        "sq_list"
      ],
      "execution_count": 71,
      "outputs": [
        {
          "output_type": "execute_result",
          "data": {
            "text/plain": [
              "[1, 4, 9, 16, 25, 36, 49, 64, 81, 100]"
            ]
          },
          "metadata": {
            "tags": []
          },
          "execution_count": 71
        }
      ]
    },
    {
      "cell_type": "markdown",
      "metadata": {
        "id": "fz6YM-1k8DFj"
      },
      "source": [
        "### 표현식에서 if 조건문 사용하기\n"
      ]
    },
    {
      "cell_type": "code",
      "metadata": {
        "colab": {
          "base_uri": "https://localhost:8080/"
        },
        "id": "zAfVms9e8F06",
        "outputId": "1b7bc5e4-1494-400e-9553-4e6cc3875e57"
      },
      "source": [
        "[i*i for i in range(1,11) if i % 2 ==1]"
      ],
      "execution_count": 72,
      "outputs": [
        {
          "output_type": "execute_result",
          "data": {
            "text/plain": [
              "[1, 9, 25, 49, 81]"
            ]
          },
          "metadata": {
            "tags": []
          },
          "execution_count": 72
        }
      ]
    },
    {
      "cell_type": "markdown",
      "metadata": {
        "id": "MJjzHctx8_EC"
      },
      "source": [
        "### for가 여러번 나오는 표현식"
      ]
    },
    {
      "cell_type": "code",
      "metadata": {
        "colab": {
          "base_uri": "https://localhost:8080/"
        },
        "id": "GO-d9JjJ9Gm6",
        "outputId": "927b3deb-fad6-48b3-bf59-1d4f3fa84b39"
      },
      "source": [
        "#구구단\n",
        "a = [i*k for i in range(2,10) for k in range(1,10)]\n",
        "print(a)"
      ],
      "execution_count": 75,
      "outputs": [
        {
          "output_type": "stream",
          "text": [
            "[2, 4, 6, 8, 10, 12, 14, 16, 18, 3, 6, 9, 12, 15, 18, 21, 24, 27, 4, 8, 12, 16, 20, 24, 28, 32, 36, 5, 10, 15, 20, 25, 30, 35, 40, 45, 6, 12, 18, 24, 30, 36, 42, 48, 54, 7, 14, 21, 28, 35, 42, 49, 56, 63, 8, 16, 24, 32, 40, 48, 56, 64, 72, 9, 18, 27, 36, 45, 54, 63, 72, 81]\n"
          ],
          "name": "stdout"
        }
      ]
    },
    {
      "cell_type": "code",
      "metadata": {
        "colab": {
          "base_uri": "https://localhost:8080/"
        },
        "id": "gcT67ELN9lXo",
        "outputId": "41b17967-008a-4c36-9ddb-c43f2f0da4f9"
      },
      "source": [
        "a = [i*k for i in range(2,10)\n",
        "              for k in range(1,10)]\n",
        "print(a)"
      ],
      "execution_count": 78,
      "outputs": [
        {
          "output_type": "stream",
          "text": [
            "[2, 4, 6, 8, 10, 12, 14, 16, 18, 3, 6, 9, 12, 15, 18, 21, 24, 27, 4, 8, 12, 16, 20, 24, 28, 32, 36, 5, 10, 15, 20, 25, 30, 35, 40, 45, 6, 12, 18, 24, 30, 36, 42, 48, 54, 7, 14, 21, 28, 35, 42, 49, 56, 63, 8, 16, 24, 32, 40, 48, 56, 64, 72, 9, 18, 27, 36, 45, 54, 63, 72, 81]\n"
          ],
          "name": "stdout"
        }
      ]
    },
    {
      "cell_type": "markdown",
      "metadata": {
        "id": "2ladhgPp-B0w"
      },
      "source": [
        "###22.6 map"
      ]
    },
    {
      "cell_type": "code",
      "metadata": {
        "colab": {
          "base_uri": "https://localhost:8080/"
        },
        "id": "XF5FMM679rPI",
        "outputId": "13ee9634-4300-41be-db2f-7d9d5e36f508"
      },
      "source": [
        "a = [1.2, 2.3, 3.5, 4.8]\n",
        "for i in range(len(a)):\n",
        "  a[i] = int(a[i])\n",
        "a"
      ],
      "execution_count": 79,
      "outputs": [
        {
          "output_type": "execute_result",
          "data": {
            "text/plain": [
              "[1, 2, 3, 4]"
            ]
          },
          "metadata": {
            "tags": []
          },
          "execution_count": 79
        }
      ]
    },
    {
      "cell_type": "code",
      "metadata": {
        "colab": {
          "base_uri": "https://localhost:8080/"
        },
        "id": "oct_-6Vg_AfK",
        "outputId": "77cc9762-6bb4-4635-c923-84cbaca740cd"
      },
      "source": [
        "a = [1.2, 2.3, 3.5, 4.8]\n",
        "a = list(map(int,a))         # map (a, b)는 b의 각 원소를 a 함수에 적용\n",
        "a"
      ],
      "execution_count": 80,
      "outputs": [
        {
          "output_type": "execute_result",
          "data": {
            "text/plain": [
              "[1, 2, 3, 4]"
            ]
          },
          "metadata": {
            "tags": []
          },
          "execution_count": 80
        }
      ]
    },
    {
      "cell_type": "markdown",
      "metadata": {
        "id": "AdAziLoK_5pf"
      },
      "source": [
        "## 22.7 tuple"
      ]
    },
    {
      "cell_type": "code",
      "metadata": {
        "colab": {
          "base_uri": "https://localhost:8080/"
        },
        "id": "BM-XFG6-_9Dg",
        "outputId": "58522ae9-8c79-46cc-d4eb-550da7b8d2a4"
      },
      "source": [
        "tuple(i*i for i in range(1,11) if i % 2 == 0)"
      ],
      "execution_count": 81,
      "outputs": [
        {
          "output_type": "execute_result",
          "data": {
            "text/plain": [
              "(4, 16, 36, 64, 100)"
            ]
          },
          "metadata": {
            "tags": []
          },
          "execution_count": 81
        }
      ]
    },
    {
      "cell_type": "code",
      "metadata": {
        "id": "2EMmURsgAIHr"
      },
      "source": [
        ""
      ],
      "execution_count": null,
      "outputs": []
    },
    {
      "cell_type": "code",
      "metadata": {
        "id": "1gqjJn72BbNr"
      },
      "source": [
        ""
      ],
      "execution_count": null,
      "outputs": []
    }
  ]
}