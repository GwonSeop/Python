{
  "nbformat": 4,
  "nbformat_minor": 0,
  "metadata": {
    "colab": {
      "name": "U23_2차원 리스트.ipynb",
      "provenance": [],
      "collapsed_sections": []
    },
    "kernelspec": {
      "name": "python3",
      "display_name": "Python 3"
    },
    "language_info": {
      "name": "python"
    }
  },
  "cells": [
    {
      "cell_type": "markdown",
      "metadata": {
        "id": "8xJtqt4m0onm"
      },
      "source": [
        "# Unit 23.2차원 리스트"
      ]
    },
    {
      "cell_type": "markdown",
      "metadata": {
        "id": "2IT9JoMl0uA5"
      },
      "source": [
        "## 23.1 생성 및 인덱싱"
      ]
    },
    {
      "cell_type": "code",
      "metadata": {
        "colab": {
          "base_uri": "https://localhost:8080/"
        },
        "id": "v6vK-Uhq0QNu",
        "outputId": "8d3f1a12-baef-4d41-c7eb-8f97b8a66b5f"
      },
      "source": [
        "a = [[10, 20], [30, 40], [50, 60]]\n",
        "a"
      ],
      "execution_count": 1,
      "outputs": [
        {
          "output_type": "execute_result",
          "data": {
            "text/plain": [
              "[[10, 20], [30, 40], [50, 60]]"
            ]
          },
          "metadata": {
            "tags": []
          },
          "execution_count": 1
        }
      ]
    },
    {
      "cell_type": "code",
      "metadata": {
        "colab": {
          "base_uri": "https://localhost:8080/"
        },
        "id": "PjDUVdCj1MOI",
        "outputId": "a4e2583b-a38f-4cd1-fe61-80c09e9420a9"
      },
      "source": [
        "# a[행인덱스][열인덱스]\n",
        "a[1][0]"
      ],
      "execution_count": 2,
      "outputs": [
        {
          "output_type": "execute_result",
          "data": {
            "text/plain": [
              "30"
            ]
          },
          "metadata": {
            "tags": []
          },
          "execution_count": 2
        }
      ]
    },
    {
      "cell_type": "code",
      "metadata": {
        "colab": {
          "base_uri": "https://localhost:8080/"
        },
        "id": "H1pT9s5y1bU6",
        "outputId": "7a9e3150-9025-4e42-ac1e-84efc6ff8254"
      },
      "source": [
        "a[1][-1] = 100        # 인덱스 바꾸기\n",
        "a"
      ],
      "execution_count": 4,
      "outputs": [
        {
          "output_type": "execute_result",
          "data": {
            "text/plain": [
              "[[10, 20], [30, 100], [50, 60]]"
            ]
          },
          "metadata": {
            "tags": []
          },
          "execution_count": 4
        }
      ]
    },
    {
      "cell_type": "code",
      "metadata": {
        "colab": {
          "base_uri": "https://localhost:8080/"
        },
        "id": "WwrcKkKg1nBN",
        "outputId": "96bcf6c4-ae6f-4e54-c2cd-5b16835336d4"
      },
      "source": [
        "import numpy as np\n",
        "b = np.arange(16).reshape(4,4)\n",
        "b"
      ],
      "execution_count": 6,
      "outputs": [
        {
          "output_type": "execute_result",
          "data": {
            "text/plain": [
              "array([[ 0,  1,  2,  3],\n",
              "       [ 4,  5,  6,  7],\n",
              "       [ 8,  9, 10, 11],\n",
              "       [12, 13, 14, 15]])"
            ]
          },
          "metadata": {
            "tags": []
          },
          "execution_count": 6
        }
      ]
    },
    {
      "cell_type": "code",
      "metadata": {
        "colab": {
          "base_uri": "https://localhost:8080/"
        },
        "id": "WSYVcZzK15PX",
        "outputId": "d8767d7d-95d5-4342-c2f4-261017e0ea40"
      },
      "source": [
        "b[1,1]"
      ],
      "execution_count": 7,
      "outputs": [
        {
          "output_type": "execute_result",
          "data": {
            "text/plain": [
              "5"
            ]
          },
          "metadata": {
            "tags": []
          },
          "execution_count": 7
        }
      ]
    },
    {
      "cell_type": "code",
      "metadata": {
        "colab": {
          "base_uri": "https://localhost:8080/"
        },
        "id": "lebgARfB195c",
        "outputId": "3a08df3c-83a6-4b7a-a28b-b0d1ef94ba3d"
      },
      "source": [
        "b[1:-1, 1:-1]"
      ],
      "execution_count": 8,
      "outputs": [
        {
          "output_type": "execute_result",
          "data": {
            "text/plain": [
              "array([[ 5,  6],\n",
              "       [ 9, 10]])"
            ]
          },
          "metadata": {
            "tags": []
          },
          "execution_count": 8
        }
      ]
    },
    {
      "cell_type": "code",
      "metadata": {
        "colab": {
          "base_uri": "https://localhost:8080/"
        },
        "id": "zMBHo12m27cB",
        "outputId": "c252ddac-1ea9-47b1-d522-6b3340ad9c7c"
      },
      "source": [
        "# 톱니형 리스트\n",
        "a = [[10],\n",
        "     [500, 600],\n",
        "     [9, 10, 11],\n",
        "     [8]]\n",
        "a"
      ],
      "execution_count": 10,
      "outputs": [
        {
          "output_type": "execute_result",
          "data": {
            "text/plain": [
              "[[10], [500, 600], [9, 10, 11], [8]]"
            ]
          },
          "metadata": {
            "tags": []
          },
          "execution_count": 10
        }
      ]
    },
    {
      "cell_type": "code",
      "metadata": {
        "colab": {
          "base_uri": "https://localhost:8080/"
        },
        "id": "2R27J0943NqE",
        "outputId": "f33afd97-498f-44c7-9685-5a23e97f9b11"
      },
      "source": [
        "a = []\n",
        "for i in range(4):\n",
        "  t = []\n",
        "  for k in range(4):\n",
        "    t.append(i*4 + k)\n",
        "  a.append(t)\n",
        "a  "
      ],
      "execution_count": 12,
      "outputs": [
        {
          "output_type": "execute_result",
          "data": {
            "text/plain": [
              "[[0, 1, 2, 3], [4, 5, 6, 7], [8, 9, 10, 11], [12, 13, 14, 15]]"
            ]
          },
          "metadata": {
            "tags": []
          },
          "execution_count": 12
        }
      ]
    },
    {
      "cell_type": "code",
      "metadata": {
        "colab": {
          "base_uri": "https://localhost:8080/"
        },
        "id": "z0DPRGYb4A6T",
        "outputId": "85184c69-67d9-4f2f-ea97-36311792322b"
      },
      "source": [
        "[[i*4+k for k in range(4)] for i in range(4)]"
      ],
      "execution_count": 17,
      "outputs": [
        {
          "output_type": "execute_result",
          "data": {
            "text/plain": [
              "[[0, 1, 2, 3], [4, 5, 6, 7], [8, 9, 10, 11], [12, 13, 14, 15]]"
            ]
          },
          "metadata": {
            "tags": []
          },
          "execution_count": 17
        }
      ]
    },
    {
      "cell_type": "code",
      "metadata": {
        "colab": {
          "base_uri": "https://localhost:8080/"
        },
        "id": "Pcw34YED4kcI",
        "outputId": "cf94417c-60c7-4c7c-ffea-a26aa6675c13"
      },
      "source": [
        "from pprint import pprint\n",
        "pprint(a, indent=4, width=30)"
      ],
      "execution_count": 19,
      "outputs": [
        {
          "output_type": "stream",
          "text": [
            "[   [0, 1, 2, 3],\n",
            "    [4, 5, 6, 7],\n",
            "    [8, 9, 10, 11],\n",
            "    [12, 13, 14, 15]]\n"
          ],
          "name": "stdout"
        }
      ]
    },
    {
      "cell_type": "markdown",
      "metadata": {
        "id": "Bsk2RHhv7h4h"
      },
      "source": [
        "## 23.2 for 반복문 사용"
      ]
    },
    {
      "cell_type": "code",
      "metadata": {
        "colab": {
          "base_uri": "https://localhost:8080/"
        },
        "id": "-OG0XV1g7kSg",
        "outputId": "20673516-6842-476c-c83f-eb199a769b46"
      },
      "source": [
        "for row in a:\n",
        "  print(row)"
      ],
      "execution_count": 20,
      "outputs": [
        {
          "output_type": "stream",
          "text": [
            "[0, 1, 2, 3]\n",
            "[4, 5, 6, 7]\n",
            "[8, 9, 10, 11]\n",
            "[12, 13, 14, 15]\n"
          ],
          "name": "stdout"
        }
      ]
    },
    {
      "cell_type": "code",
      "metadata": {
        "colab": {
          "base_uri": "https://localhost:8080/"
        },
        "id": "2IYsshNL73_H",
        "outputId": "e5747ae2-3779-4131-ae47-47493385014f"
      },
      "source": [
        "for row in a:\n",
        "  for element in row:\n",
        "    print(f'{element:2d} ',end='')\n",
        "  print()"
      ],
      "execution_count": 22,
      "outputs": [
        {
          "output_type": "stream",
          "text": [
            " 0  1  2  3 \n",
            " 4  5  6  7 \n",
            " 8  9 10 11 \n",
            "12 13 14 15 \n"
          ],
          "name": "stdout"
        }
      ]
    },
    {
      "cell_type": "code",
      "metadata": {
        "colab": {
          "base_uri": "https://localhost:8080/"
        },
        "id": "Ivds7Vwf8eDl",
        "outputId": "f8dd6f3c-386e-45ca-f805-776f9472cb28"
      },
      "source": [
        "for w,x,y,z in a:          #list unpacking\n",
        "  print(w,x,y,z)"
      ],
      "execution_count": 23,
      "outputs": [
        {
          "output_type": "stream",
          "text": [
            "0 1 2 3\n",
            "4 5 6 7\n",
            "8 9 10 11\n",
            "12 13 14 15\n"
          ],
          "name": "stdout"
        }
      ]
    },
    {
      "cell_type": "markdown",
      "metadata": {
        "id": "gVz_xP-49Y9d"
      },
      "source": [
        "## 23.3 반복문으로 리스트 만들기"
      ]
    },
    {
      "cell_type": "code",
      "metadata": {
        "colab": {
          "base_uri": "https://localhost:8080/"
        },
        "id": "HIPyTfeG9hS1",
        "outputId": "e2c065d7-7b13-48eb-bd0d-5837c44d7ec2"
      },
      "source": [
        "a = [[0 for _ in range(2)] for _ in range(3)]\n",
        "a"
      ],
      "execution_count": 25,
      "outputs": [
        {
          "output_type": "execute_result",
          "data": {
            "text/plain": [
              "[[0, 0], [0, 0], [0, 0]]"
            ]
          },
          "metadata": {
            "tags": []
          },
          "execution_count": 25
        }
      ]
    },
    {
      "cell_type": "code",
      "metadata": {
        "colab": {
          "base_uri": "https://localhost:8080/"
        },
        "id": "_dy26A7394GR",
        "outputId": "84b95083-5882-4bfc-862f-b42dec627eb7"
      },
      "source": [
        "a = [[0]*2 for _ in range(3)]\n",
        "a"
      ],
      "execution_count": 26,
      "outputs": [
        {
          "output_type": "execute_result",
          "data": {
            "text/plain": [
              "[[0, 0], [0, 0], [0, 0]]"
            ]
          },
          "metadata": {
            "tags": []
          },
          "execution_count": 26
        }
      ]
    },
    {
      "cell_type": "code",
      "metadata": {
        "colab": {
          "base_uri": "https://localhost:8080/"
        },
        "id": "LdkucQwn99E-",
        "outputId": "542c4de6-d1e9-4666-caff-48775d1a1c29"
      },
      "source": [
        "number = [3, 1, 3, 2, 5]\n",
        "b = []\n",
        "for i in number:\n",
        "  line = []\n",
        "  for _ in range(i):\n",
        "    line.append(0)\n",
        "  b.append(line)\n",
        "b  "
      ],
      "execution_count": 27,
      "outputs": [
        {
          "output_type": "execute_result",
          "data": {
            "text/plain": [
              "[[0, 0, 0], [0], [0, 0, 0], [0, 0], [0, 0, 0, 0, 0]]"
            ]
          },
          "metadata": {
            "tags": []
          },
          "execution_count": 27
        }
      ]
    },
    {
      "cell_type": "code",
      "metadata": {
        "colab": {
          "base_uri": "https://localhost:8080/"
        },
        "id": "T9Sexuoq-Z2a",
        "outputId": "90af141b-4f12-4944-ee1a-409dfbc4e8f3"
      },
      "source": [
        "[[0] * i for i in number]"
      ],
      "execution_count": 28,
      "outputs": [
        {
          "output_type": "execute_result",
          "data": {
            "text/plain": [
              "[[0, 0, 0], [0], [0, 0, 0], [0, 0], [0, 0, 0, 0, 0]]"
            ]
          },
          "metadata": {
            "tags": []
          },
          "execution_count": 28
        }
      ]
    },
    {
      "cell_type": "markdown",
      "metadata": {
        "id": "w5qkrnbe-6MT"
      },
      "source": [
        "## 23.4 2차원 리스트의 할당과 복사"
      ]
    },
    {
      "cell_type": "code",
      "metadata": {
        "colab": {
          "base_uri": "https://localhost:8080/"
        },
        "id": "8tZqobuk-963",
        "outputId": "1a8bfeb3-ae20-4f33-b3d0-cb104919dc26"
      },
      "source": [
        "a = [[10, 20],[30, 40]]       \n",
        "b = a\n",
        "b[0][0] = 500\n",
        "a"
      ],
      "execution_count": 30,
      "outputs": [
        {
          "output_type": "execute_result",
          "data": {
            "text/plain": [
              "[[500, 20], [30, 40]]"
            ]
          },
          "metadata": {
            "tags": []
          },
          "execution_count": 30
        }
      ]
    },
    {
      "cell_type": "code",
      "metadata": {
        "colab": {
          "base_uri": "https://localhost:8080/"
        },
        "id": "gy43f4Y0AE4P",
        "outputId": "80f811db-c982-40b2-f03f-4f1caf55c86c"
      },
      "source": [
        "a = [[10, 20],[30, 40]]      \n",
        "import copy\n",
        "b = copy.deepcopy(a)\n",
        "b[0][0] = 500\n",
        "a,b"
      ],
      "execution_count": 32,
      "outputs": [
        {
          "output_type": "execute_result",
          "data": {
            "text/plain": [
              "([[10, 20], [30, 40]], [[500, 20], [30, 40]])"
            ]
          },
          "metadata": {
            "tags": []
          },
          "execution_count": 32
        }
      ]
    }
  ]
}