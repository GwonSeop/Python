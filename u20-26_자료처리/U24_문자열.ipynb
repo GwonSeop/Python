{
  "nbformat": 4,
  "nbformat_minor": 0,
  "metadata": {
    "colab": {
      "name": "U24_문자열.ipynb",
      "provenance": [],
      "collapsed_sections": []
    },
    "kernelspec": {
      "name": "python3",
      "display_name": "Python 3"
    },
    "language_info": {
      "name": "python"
    }
  },
  "cells": [
    {
      "cell_type": "markdown",
      "metadata": {
        "id": "OAkhNppRAy_x"
      },
      "source": [
        "# Unit 24. 문자열"
      ]
    },
    {
      "cell_type": "markdown",
      "metadata": {
        "id": "hqsB9DUZA2IF"
      },
      "source": [
        "## 24.1 문자열 조작"
      ]
    },
    {
      "cell_type": "markdown",
      "metadata": {
        "id": "fTimdhxwA35B"
      },
      "source": [
        "### 문자열 바꾸기"
      ]
    },
    {
      "cell_type": "code",
      "metadata": {
        "colab": {
          "base_uri": "https://localhost:8080/",
          "height": 35
        },
        "id": "SC3jn3xtA47a",
        "outputId": "5491fea6-9514-4e15-8f89-c368f6bc2e23"
      },
      "source": [
        "s = 'Hello, world!'      \n",
        "s.replace('world', 'python')\n"
      ],
      "execution_count": 2,
      "outputs": [
        {
          "output_type": "execute_result",
          "data": {
            "application/vnd.google.colaboratory.intrinsic+json": {
              "type": "string"
            },
            "text/plain": [
              "'Hello, python!'"
            ]
          },
          "metadata": {
            "tags": []
          },
          "execution_count": 2
        }
      ]
    },
    {
      "cell_type": "code",
      "metadata": {
        "colab": {
          "base_uri": "https://localhost:8080/",
          "height": 35
        },
        "id": "PPOtfYc4AxgK",
        "outputId": "de7e27ed-ea3f-4805-94a9-62b18270e13b"
      },
      "source": [
        "s         # .replace 는  s 를 바꾸지 않는다."
      ],
      "execution_count": 3,
      "outputs": [
        {
          "output_type": "execute_result",
          "data": {
            "application/vnd.google.colaboratory.intrinsic+json": {
              "type": "string"
            },
            "text/plain": [
              "'Hello, world!'"
            ]
          },
          "metadata": {
            "tags": []
          },
          "execution_count": 3
        }
      ]
    },
    {
      "cell_type": "code",
      "metadata": {
        "colab": {
          "base_uri": "https://localhost:8080/",
          "height": 35
        },
        "id": "fvCQXgQ_BtNz",
        "outputId": "6a90367d-acf3-47ee-9b9b-b4e69bafb254"
      },
      "source": [
        "# 따라서 s 를 바꾸고 싶다면\n",
        "s = s.replace('world', 'python')\n",
        "s"
      ],
      "execution_count": 4,
      "outputs": [
        {
          "output_type": "execute_result",
          "data": {
            "application/vnd.google.colaboratory.intrinsic+json": {
              "type": "string"
            },
            "text/plain": [
              "'Hello, python!'"
            ]
          },
          "metadata": {
            "tags": []
          },
          "execution_count": 4
        }
      ]
    },
    {
      "cell_type": "markdown",
      "metadata": {
        "id": "GU8qZpYLCSFo"
      },
      "source": [
        "### 문자열 분리"
      ]
    },
    {
      "cell_type": "code",
      "metadata": {
        "colab": {
          "base_uri": "https://localhost:8080/"
        },
        "id": "rf2xYqDlCgaC",
        "outputId": "df4320b4-3c40-4247-a443-28a66fc37029"
      },
      "source": [
        "s = 'apple, pear, grape, pineapple'\n",
        "s.split()"
      ],
      "execution_count": 5,
      "outputs": [
        {
          "output_type": "execute_result",
          "data": {
            "text/plain": [
              "['apple,', 'pear,', 'grape,', 'pineapple']"
            ]
          },
          "metadata": {
            "tags": []
          },
          "execution_count": 5
        }
      ]
    },
    {
      "cell_type": "code",
      "metadata": {
        "colab": {
          "base_uri": "https://localhost:8080/"
        },
        "id": "WLg-DO4BCrHi",
        "outputId": "1142900c-3041-4a84-d460-5891f0e04158"
      },
      "source": [
        "b = s.split(', ')\n",
        "b"
      ],
      "execution_count": 11,
      "outputs": [
        {
          "output_type": "execute_result",
          "data": {
            "text/plain": [
              "['apple', 'pear', 'grape', 'pineapple']"
            ]
          },
          "metadata": {
            "tags": []
          },
          "execution_count": 11
        }
      ]
    },
    {
      "cell_type": "markdown",
      "metadata": {
        "id": "FpmRyGOpDGA9"
      },
      "source": [
        "### 문자열 연결"
      ]
    },
    {
      "cell_type": "code",
      "metadata": {
        "colab": {
          "base_uri": "https://localhost:8080/",
          "height": 35
        },
        "id": "7u0nFUYoDFVj",
        "outputId": "6c6a76ae-1cfd-4dc6-a4a1-aebdc83fd56a"
      },
      "source": [
        "' '.join(b)"
      ],
      "execution_count": 15,
      "outputs": [
        {
          "output_type": "execute_result",
          "data": {
            "application/vnd.google.colaboratory.intrinsic+json": {
              "type": "string"
            },
            "text/plain": [
              "'apple pear grape pineapple'"
            ]
          },
          "metadata": {
            "tags": []
          },
          "execution_count": 15
        }
      ]
    },
    {
      "cell_type": "code",
      "metadata": {
        "colab": {
          "base_uri": "https://localhost:8080/",
          "height": 35
        },
        "id": "ytDVcdN6DTjg",
        "outputId": "7e40bb86-c1b1-4b01-b333-d010a0a15e6b"
      },
      "source": [
        "' >> '.join(b)"
      ],
      "execution_count": 17,
      "outputs": [
        {
          "output_type": "execute_result",
          "data": {
            "application/vnd.google.colaboratory.intrinsic+json": {
              "type": "string"
            },
            "text/plain": [
              "'apple >> pear >> grape >> pineapple'"
            ]
          },
          "metadata": {
            "tags": []
          },
          "execution_count": 17
        }
      ]
    },
    {
      "cell_type": "code",
      "metadata": {
        "colab": {
          "base_uri": "https://localhost:8080/",
          "height": 35
        },
        "id": "MXtP2THtDclk",
        "outputId": "0d257671-50f3-4474-dd17-e60d675e8588"
      },
      "source": [
        "' - '.join(s.split(', '))"
      ],
      "execution_count": 19,
      "outputs": [
        {
          "output_type": "execute_result",
          "data": {
            "application/vnd.google.colaboratory.intrinsic+json": {
              "type": "string"
            },
            "text/plain": [
              "'apple - pear - grape - pineapple'"
            ]
          },
          "metadata": {
            "tags": []
          },
          "execution_count": 19
        }
      ]
    },
    {
      "cell_type": "markdown",
      "metadata": {
        "id": "8d5v3DxQD0-4"
      },
      "source": [
        "### 대소문자 변경"
      ]
    },
    {
      "cell_type": "code",
      "metadata": {
        "colab": {
          "base_uri": "https://localhost:8080/",
          "height": 35
        },
        "id": "dIYh66ezD2lj",
        "outputId": "623a8df3-3663-4642-d166-0d91d303fafe"
      },
      "source": [
        "'python'.upper()"
      ],
      "execution_count": 22,
      "outputs": [
        {
          "output_type": "execute_result",
          "data": {
            "application/vnd.google.colaboratory.intrinsic+json": {
              "type": "string"
            },
            "text/plain": [
              "'PYTHON'"
            ]
          },
          "metadata": {
            "tags": []
          },
          "execution_count": 22
        }
      ]
    },
    {
      "cell_type": "code",
      "metadata": {
        "colab": {
          "base_uri": "https://localhost:8080/",
          "height": 35
        },
        "id": "E5UY4xw8EAX5",
        "outputId": "f8218153-b098-44c6-e570-417cce33ecfe"
      },
      "source": [
        "# method chaining\n",
        "'python'.upper().lower()"
      ],
      "execution_count": 23,
      "outputs": [
        {
          "output_type": "execute_result",
          "data": {
            "application/vnd.google.colaboratory.intrinsic+json": {
              "type": "string"
            },
            "text/plain": [
              "'python'"
            ]
          },
          "metadata": {
            "tags": []
          },
          "execution_count": 23
        }
      ]
    },
    {
      "cell_type": "code",
      "metadata": {
        "colab": {
          "base_uri": "https://localhost:8080/",
          "height": 35
        },
        "id": "JwYBhZM4EQhR",
        "outputId": "d6967b44-f370-4a4a-aa7c-02440735f9f4"
      },
      "source": [
        ".upper()"
      ],
      "execution_count": 25,
      "outputs": [
        {
          "output_type": "execute_result",
          "data": {
            "application/vnd.google.colaboratory.intrinsic+json": {
              "type": "string"
            },
            "text/plain": [
              "'APPLE, PEAR, GRAPE, PINEAPPLE'"
            ]
          },
          "metadata": {
            "tags": []
          },
          "execution_count": 25
        }
      ]
    },
    {
      "cell_type": "markdown",
      "metadata": {
        "id": "UODIXLqtEc4M"
      },
      "source": [
        "### 공백 없애기"
      ]
    },
    {
      "cell_type": "code",
      "metadata": {
        "colab": {
          "base_uri": "https://localhost:8080/",
          "height": 35
        },
        "id": "afJgAMorEfqK",
        "outputId": "63a1baf1-895d-4212-d6ba-a5a5f75dfba1"
      },
      "source": [
        "p = '    Python   '\n",
        "p.lstrip()"
      ],
      "execution_count": 26,
      "outputs": [
        {
          "output_type": "execute_result",
          "data": {
            "application/vnd.google.colaboratory.intrinsic+json": {
              "type": "string"
            },
            "text/plain": [
              "'Python   '"
            ]
          },
          "metadata": {
            "tags": []
          },
          "execution_count": 26
        }
      ]
    },
    {
      "cell_type": "code",
      "metadata": {
        "colab": {
          "base_uri": "https://localhost:8080/",
          "height": 35
        },
        "id": "dMVBQagqEqjF",
        "outputId": "beb3af29-e94f-4d5d-852d-210af3c46db0"
      },
      "source": [
        "p.rstrip()"
      ],
      "execution_count": 27,
      "outputs": [
        {
          "output_type": "execute_result",
          "data": {
            "application/vnd.google.colaboratory.intrinsic+json": {
              "type": "string"
            },
            "text/plain": [
              "'    Python'"
            ]
          },
          "metadata": {
            "tags": []
          },
          "execution_count": 27
        }
      ]
    },
    {
      "cell_type": "code",
      "metadata": {
        "colab": {
          "base_uri": "https://localhost:8080/",
          "height": 35
        },
        "id": "yEu0Y_SeEyg0",
        "outputId": "3caa02bd-d6c2-436e-d7fe-94b0cb5793d6"
      },
      "source": [
        "p.strip()"
      ],
      "execution_count": 28,
      "outputs": [
        {
          "output_type": "execute_result",
          "data": {
            "application/vnd.google.colaboratory.intrinsic+json": {
              "type": "string"
            },
            "text/plain": [
              "'Python'"
            ]
          },
          "metadata": {
            "tags": []
          },
          "execution_count": 28
        }
      ]
    },
    {
      "cell_type": "code",
      "metadata": {
        "colab": {
          "base_uri": "https://localhost:8080/",
          "height": 35
        },
        "id": "R7CYApxuE1zC",
        "outputId": "889475ec-b7b9-421d-8287-47b49160a4b1"
      },
      "source": [
        "p.strip().lower()"
      ],
      "execution_count": 29,
      "outputs": [
        {
          "output_type": "execute_result",
          "data": {
            "application/vnd.google.colaboratory.intrinsic+json": {
              "type": "string"
            },
            "text/plain": [
              "'python'"
            ]
          },
          "metadata": {
            "tags": []
          },
          "execution_count": 29
        }
      ]
    },
    {
      "cell_type": "code",
      "metadata": {
        "colab": {
          "base_uri": "https://localhost:8080/",
          "height": 35
        },
        "id": "1fnYzMPsFAmP",
        "outputId": "d02590ac-f8df-4622-d78d-dc340259cfd2"
      },
      "source": [
        "p = '\\n\\t Python \\n\\t'\n",
        "p.lstrip('\\n\\t')"
      ],
      "execution_count": 35,
      "outputs": [
        {
          "output_type": "execute_result",
          "data": {
            "application/vnd.google.colaboratory.intrinsic+json": {
              "type": "string"
            },
            "text/plain": [
              "' Python \\n\\t'"
            ]
          },
          "metadata": {
            "tags": []
          },
          "execution_count": 35
        }
      ]
    },
    {
      "cell_type": "code",
      "metadata": {
        "colab": {
          "base_uri": "https://localhost:8080/",
          "height": 35
        },
        "id": "qehybbquFjv7",
        "outputId": "3a47edfa-71e0-40ca-978e-79bc49031837"
      },
      "source": [
        "p.rstrip('\\n\\t ')"
      ],
      "execution_count": 34,
      "outputs": [
        {
          "output_type": "execute_result",
          "data": {
            "application/vnd.google.colaboratory.intrinsic+json": {
              "type": "string"
            },
            "text/plain": [
              "'\\n\\t Python'"
            ]
          },
          "metadata": {
            "tags": []
          },
          "execution_count": 34
        }
      ]
    },
    {
      "cell_type": "code",
      "metadata": {
        "colab": {
          "base_uri": "https://localhost:8080/",
          "height": 35
        },
        "id": "QQ33K7YLFzud",
        "outputId": "c8739b77-8759-48a4-88cf-63cf62f18ca8"
      },
      "source": [
        "p.strip('\\t\\n ') # 순서와 관계없이 지워줌"
      ],
      "execution_count": 37,
      "outputs": [
        {
          "output_type": "execute_result",
          "data": {
            "application/vnd.google.colaboratory.intrinsic+json": {
              "type": "string"
            },
            "text/plain": [
              "'Python'"
            ]
          },
          "metadata": {
            "tags": []
          },
          "execution_count": 37
        }
      ]
    },
    {
      "cell_type": "code",
      "metadata": {
        "colab": {
          "base_uri": "https://localhost:8080/",
          "height": 35
        },
        "id": "HMa_2YgZGAFn",
        "outputId": "d7d407f8-c9cb-49f5-d64a-621ba738834e"
      },
      "source": [
        "from string import punctuation\n",
        "punctuation"
      ],
      "execution_count": 38,
      "outputs": [
        {
          "output_type": "execute_result",
          "data": {
            "application/vnd.google.colaboratory.intrinsic+json": {
              "type": "string"
            },
            "text/plain": [
              "'!\"#$%&\\'()*+,-./:;<=>?@[\\\\]^_`{|}~'"
            ]
          },
          "metadata": {
            "tags": []
          },
          "execution_count": 38
        }
      ]
    },
    {
      "cell_type": "markdown",
      "metadata": {
        "id": "1eWyqMg6GV2C"
      },
      "source": [
        "### 정렬하기 (justification"
      ]
    },
    {
      "cell_type": "code",
      "metadata": {
        "colab": {
          "base_uri": "https://localhost:8080/",
          "height": 35
        },
        "id": "k37T14xGGIen",
        "outputId": "86365723-85a7-474a-a339-f19c06a6fc17"
      },
      "source": [
        "'python'.ljust(10)"
      ],
      "execution_count": 39,
      "outputs": [
        {
          "output_type": "execute_result",
          "data": {
            "application/vnd.google.colaboratory.intrinsic+json": {
              "type": "string"
            },
            "text/plain": [
              "'python    '"
            ]
          },
          "metadata": {
            "tags": []
          },
          "execution_count": 39
        }
      ]
    },
    {
      "cell_type": "code",
      "metadata": {
        "colab": {
          "base_uri": "https://localhost:8080/",
          "height": 35
        },
        "id": "leX886-RGhrV",
        "outputId": "b7a813a4-4303-4ba3-e6d4-347f6964b0b5"
      },
      "source": [
        "'python'.rjust(10)"
      ],
      "execution_count": 40,
      "outputs": [
        {
          "output_type": "execute_result",
          "data": {
            "application/vnd.google.colaboratory.intrinsic+json": {
              "type": "string"
            },
            "text/plain": [
              "'    python'"
            ]
          },
          "metadata": {
            "tags": []
          },
          "execution_count": 40
        }
      ]
    },
    {
      "cell_type": "code",
      "metadata": {
        "colab": {
          "base_uri": "https://localhost:8080/",
          "height": 35
        },
        "id": "rb12H9mhGouW",
        "outputId": "5f724147-993a-4581-b2a9-8c32f0603650"
      },
      "source": [
        "'python'.center(10)"
      ],
      "execution_count": 41,
      "outputs": [
        {
          "output_type": "execute_result",
          "data": {
            "application/vnd.google.colaboratory.intrinsic+json": {
              "type": "string"
            },
            "text/plain": [
              "'  python  '"
            ]
          },
          "metadata": {
            "tags": []
          },
          "execution_count": 41
        }
      ]
    },
    {
      "cell_type": "markdown",
      "metadata": {
        "id": "Er7S02u2JmIB"
      },
      "source": [
        "### Method chaining"
      ]
    },
    {
      "cell_type": "code",
      "metadata": {
        "colab": {
          "base_uri": "https://localhost:8080/",
          "height": 35
        },
        "id": "yr64r5beJPnC",
        "outputId": "055ad0cc-1530-41c4-acb2-cf4ed7afa08a"
      },
      "source": [
        "'python'.rjust(10).upper()"
      ],
      "execution_count": 48,
      "outputs": [
        {
          "output_type": "execute_result",
          "data": {
            "application/vnd.google.colaboratory.intrinsic+json": {
              "type": "string"
            },
            "text/plain": [
              "'    PYTHON'"
            ]
          },
          "metadata": {
            "tags": []
          },
          "execution_count": 48
        }
      ]
    },
    {
      "cell_type": "markdown",
      "metadata": {
        "id": "bENNeD7hJ9sK"
      },
      "source": [
        "### 문자열 위치 찾기"
      ]
    },
    {
      "cell_type": "code",
      "metadata": {
        "colab": {
          "base_uri": "https://localhost:8080/"
        },
        "id": "uef1mqGZKAKm",
        "outputId": "6a93b411-521a-4f7c-91c4-98165aed3990"
      },
      "source": [
        "f = 'apple pineapple'\n",
        "f.find('ap')"
      ],
      "execution_count": 47,
      "outputs": [
        {
          "output_type": "execute_result",
          "data": {
            "text/plain": [
              "0"
            ]
          },
          "metadata": {
            "tags": []
          },
          "execution_count": 47
        }
      ]
    },
    {
      "cell_type": "code",
      "metadata": {
        "colab": {
          "base_uri": "https://localhost:8080/"
        },
        "id": "NBGLenYyKQzd",
        "outputId": "bfe8b282-6950-44a6-88b2-a52cab12234d"
      },
      "source": [
        "f.find('ba')         # -1 은 없다라는 의미"
      ],
      "execution_count": 49,
      "outputs": [
        {
          "output_type": "execute_result",
          "data": {
            "text/plain": [
              "-1"
            ]
          },
          "metadata": {
            "tags": []
          },
          "execution_count": 49
        }
      ]
    },
    {
      "cell_type": "code",
      "metadata": {
        "colab": {
          "base_uri": "https://localhost:8080/"
        },
        "id": "Yl4hu8E8Kf-m",
        "outputId": "99fdbb0c-d1aa-479e-c4c4-b685ffb87705"
      },
      "source": [
        "f.find('pi')"
      ],
      "execution_count": 50,
      "outputs": [
        {
          "output_type": "execute_result",
          "data": {
            "text/plain": [
              "6"
            ]
          },
          "metadata": {
            "tags": []
          },
          "execution_count": 50
        }
      ]
    },
    {
      "cell_type": "code",
      "metadata": {
        "colab": {
          "base_uri": "https://localhost:8080/"
        },
        "id": "aXftfWWHKuW8",
        "outputId": "8c459a41-2671-4ecc-a2a9-1ed1ae889fa9"
      },
      "source": [
        "seek = 'fi'\n",
        "if f.find(seek) >= 0:\n",
        "  print('있음')      # 찾고자 하는 문자열이 있는 경우\n",
        "else:\n",
        "  print('없음')    # 찾는 문자열이 없는 경우"
      ],
      "execution_count": 54,
      "outputs": [
        {
          "output_type": "stream",
          "text": [
            "없음\n"
          ],
          "name": "stdout"
        }
      ]
    },
    {
      "cell_type": "code",
      "metadata": {
        "colab": {
          "base_uri": "https://localhost:8080/"
        },
        "id": "vo-_yCHeLgsK",
        "outputId": "99b7d97e-0cfc-42d5-b84f-bfc40b9c6542"
      },
      "source": [
        "f.rfind('ap') #뒤에서부터 찾는 method"
      ],
      "execution_count": 55,
      "outputs": [
        {
          "output_type": "execute_result",
          "data": {
            "text/plain": [
              "10"
            ]
          },
          "metadata": {
            "tags": []
          },
          "execution_count": 55
        }
      ]
    },
    {
      "cell_type": "code",
      "metadata": {
        "colab": {
          "base_uri": "https://localhost:8080/"
        },
        "id": "KwlZZmEjLsft",
        "outputId": "115f3010-fe58-4415-b6b4-7085c67ca957"
      },
      "source": [
        "f.index('pi')"
      ],
      "execution_count": 56,
      "outputs": [
        {
          "output_type": "execute_result",
          "data": {
            "text/plain": [
              "6"
            ]
          },
          "metadata": {
            "tags": []
          },
          "execution_count": 56
        }
      ]
    },
    {
      "cell_type": "code",
      "metadata": {
        "colab": {
          "base_uri": "https://localhost:8080/",
          "height": 172
        },
        "id": "OjbQhJCXMATK",
        "outputId": "e4d505a4-2694-4058-ed05-7035c77b3416"
      },
      "source": [
        "f.index('ba')\n"
      ],
      "execution_count": 57,
      "outputs": [
        {
          "output_type": "error",
          "ename": "ValueError",
          "evalue": "ignored",
          "traceback": [
            "\u001b[0;31m---------------------------------------------------------------------------\u001b[0m",
            "\u001b[0;31mValueError\u001b[0m                                Traceback (most recent call last)",
            "\u001b[0;32m<ipython-input-57-ca01079ed02e>\u001b[0m in \u001b[0;36m<module>\u001b[0;34m()\u001b[0m\n\u001b[0;32m----> 1\u001b[0;31m \u001b[0mf\u001b[0m\u001b[0;34m.\u001b[0m\u001b[0mindex\u001b[0m\u001b[0;34m(\u001b[0m\u001b[0;34m'ba'\u001b[0m\u001b[0;34m)\u001b[0m\u001b[0;34m\u001b[0m\u001b[0;34m\u001b[0m\u001b[0m\n\u001b[0m",
            "\u001b[0;31mValueError\u001b[0m: substring not found"
          ]
        }
      ]
    },
    {
      "cell_type": "markdown",
      "metadata": {
        "id": "RfU6j1kgMJ1S"
      },
      "source": [
        "### 문자열 count"
      ]
    },
    {
      "cell_type": "code",
      "metadata": {
        "colab": {
          "base_uri": "https://localhost:8080/"
        },
        "id": "BNr8y2u_MD-c",
        "outputId": "99897004-2fde-4d4b-a696-f2e7decd773c"
      },
      "source": [
        "f.count('ap')"
      ],
      "execution_count": 58,
      "outputs": [
        {
          "output_type": "execute_result",
          "data": {
            "text/plain": [
              "2"
            ]
          },
          "metadata": {
            "tags": []
          },
          "execution_count": 58
        }
      ]
    },
    {
      "cell_type": "markdown",
      "metadata": {
        "id": "V0EPgAdJM1F2"
      },
      "source": [
        "### 전처리\n",
        "- Null data\n",
        "- 중복 데이터 확인\n",
        "- 한글 / 영어 혼합 --> 한글, 공백만 남기고"
      ]
    },
    {
      "cell_type": "code",
      "metadata": {
        "colab": {
          "base_uri": "https://localhost:8080/"
        },
        "id": "NNoBQ9hCNI_q",
        "outputId": "0ac4e107-2130-4904-cdf6-b869908f0267"
      },
      "source": [
        "# 중간에 낀 단어 인덱스\n",
        "t = 'apple pie pineapple pine tree'\n",
        "num = t.count('pi')\n",
        "if num >= 2:\n",
        "  index = 0\n",
        "  for _ in range(2):\n",
        "    idx = t.find('pi')\n",
        "    t = t[idx+1:]\n",
        "    index += idx + 1\n",
        "  print(index-1)"
      ],
      "execution_count": 88,
      "outputs": [
        {
          "output_type": "stream",
          "text": [
            "10\n"
          ],
          "name": "stdout"
        }
      ]
    },
    {
      "cell_type": "code",
      "metadata": {
        "colab": {
          "base_uri": "https://localhost:8080/",
          "height": 35
        },
        "id": "piSdkAhfN0tK",
        "outputId": "7a85bacf-e690-4a7b-a080-29fb08ca7d32"
      },
      "source": [
        "f[5:]"
      ],
      "execution_count": 59,
      "outputs": [
        {
          "output_type": "execute_result",
          "data": {
            "application/vnd.google.colaboratory.intrinsic+json": {
              "type": "string"
            },
            "text/plain": [
              "' pineapple'"
            ]
          },
          "metadata": {
            "tags": []
          },
          "execution_count": 59
        }
      ]
    },
    {
      "cell_type": "markdown",
      "metadata": {
        "id": "7128eXqiN_iW"
      },
      "source": [
        "## 24.2 문자열 서식 지정자\n",
        "- %d 정수\n",
        "- %f 실수\n",
        "- %s 문자\n",
        "- %b 바이너리 (2진수)\n",
        "- %o 8진수\n",
        "- %x, %X 16진수"
      ]
    },
    {
      "cell_type": "code",
      "metadata": {
        "colab": {
          "base_uri": "https://localhost:8080/",
          "height": 35
        },
        "id": "dhL9b4rOOzJg",
        "outputId": "7f9ba239-275d-4257-bbc9-9c4febbedbab"
      },
      "source": [
        "# f'문자열 {변수:포맷스트링}'\n",
        "age = 20\n",
        "f'I am {age} old years.'"
      ],
      "execution_count": 66,
      "outputs": [
        {
          "output_type": "execute_result",
          "data": {
            "application/vnd.google.colaboratory.intrinsic+json": {
              "type": "string"
            },
            "text/plain": [
              "'I am 20 old years.'"
            ]
          },
          "metadata": {
            "tags": []
          },
          "execution_count": 66
        }
      ]
    },
    {
      "cell_type": "code",
      "metadata": {
        "colab": {
          "base_uri": "https://localhost:8080/",
          "height": 35
        },
        "id": "Mz7fPwcSPMoF",
        "outputId": "b2b1bd4e-7894-475c-d5c9-265c8bef559f"
      },
      "source": [
        "pi = 3.1415926535\n",
        "f'pi = {pi:.4f}'"
      ],
      "execution_count": 71,
      "outputs": [
        {
          "output_type": "execute_result",
          "data": {
            "application/vnd.google.colaboratory.intrinsic+json": {
              "type": "string"
            },
            "text/plain": [
              "'pi = 3.1416'"
            ]
          },
          "metadata": {
            "tags": []
          },
          "execution_count": 71
        }
      ]
    },
    {
      "cell_type": "code",
      "metadata": {
        "colab": {
          "base_uri": "https://localhost:8080/",
          "height": 35
        },
        "id": "Rj_kE4GSPk5F",
        "outputId": "66ebd5c5-e485-4418-f494-ff85c01c48a3"
      },
      "source": [
        "hour, minute = 9,5\n",
        "f'{hour:02d}:{minute:02d}'"
      ],
      "execution_count": 76,
      "outputs": [
        {
          "output_type": "execute_result",
          "data": {
            "application/vnd.google.colaboratory.intrinsic+json": {
              "type": "string"
            },
            "text/plain": [
              "'09:05'"
            ]
          },
          "metadata": {
            "tags": []
          },
          "execution_count": 76
        }
      ]
    },
    {
      "cell_type": "code",
      "metadata": {
        "colab": {
          "base_uri": "https://localhost:8080/",
          "height": 35
        },
        "id": "ErDP0TfnP4qc",
        "outputId": "0e137f9f-1749-434a-ef11-c94e11521cd7"
      },
      "source": [
        "s = 'python'\n",
        "f'{s:10s}-{s.rjust(10)}'"
      ],
      "execution_count": 81,
      "outputs": [
        {
          "output_type": "execute_result",
          "data": {
            "application/vnd.google.colaboratory.intrinsic+json": {
              "type": "string"
            },
            "text/plain": [
              "'python    -    python'"
            ]
          },
          "metadata": {
            "tags": []
          },
          "execution_count": 81
        }
      ]
    },
    {
      "cell_type": "code",
      "metadata": {
        "colab": {
          "base_uri": "https://localhost:8080/",
          "height": 35
        },
        "id": "j_joZ38kQehq",
        "outputId": "345147c1-9935-4c1b-b1af-5eda793eecf8"
      },
      "source": [
        "f'{10000000:,d}'  # 1000단위 구분기호"
      ],
      "execution_count": 83,
      "outputs": [
        {
          "output_type": "execute_result",
          "data": {
            "application/vnd.google.colaboratory.intrinsic+json": {
              "type": "string"
            },
            "text/plain": [
              "'10,000,000'"
            ]
          },
          "metadata": {
            "tags": []
          },
          "execution_count": 83
        }
      ]
    },
    {
      "cell_type": "code",
      "metadata": {
        "colab": {
          "base_uri": "https://localhost:8080/",
          "height": 35
        },
        "id": "3vOtOQejQvvw",
        "outputId": "d78bd494-e9b5-4a89-db39-14668fc475d1"
      },
      "source": [
        "f'{85:b}, {85:o},{85:x}'"
      ],
      "execution_count": 84,
      "outputs": [
        {
          "output_type": "execute_result",
          "data": {
            "application/vnd.google.colaboratory.intrinsic+json": {
              "type": "string"
            },
            "text/plain": [
              "'1010101, 125,55'"
            ]
          },
          "metadata": {
            "tags": []
          },
          "execution_count": 84
        }
      ]
    }
  ]
}