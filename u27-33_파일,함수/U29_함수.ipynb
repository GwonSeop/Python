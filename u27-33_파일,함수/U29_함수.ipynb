{
  "nbformat": 4,
  "nbformat_minor": 0,
  "metadata": {
    "colab": {
      "name": "U29_함수.ipynb",
      "provenance": [],
      "collapsed_sections": []
    },
    "kernelspec": {
      "name": "python3",
      "display_name": "Python 3"
    },
    "language_info": {
      "name": "python"
    }
  },
  "cells": [
    {
      "cell_type": "markdown",
      "metadata": {
        "id": "KbvkG_bsKu2f"
      },
      "source": [
        "# Unit 29.함수"
      ]
    },
    {
      "cell_type": "code",
      "metadata": {
        "colab": {
          "base_uri": "https://localhost:8080/"
        },
        "id": "VSaXOwX_KgrM",
        "outputId": "dc449478-ffe3-409a-eb6c-985a40d2c2f7"
      },
      "source": [
        "# 함수를 만들때 ()를 뒤에 붙여주어야한다\n",
        "def hello():\n",
        "  print('hello,world!')\n",
        "hello()"
      ],
      "execution_count": null,
      "outputs": [
        {
          "output_type": "stream",
          "text": [
            "hello,world!\n"
          ],
          "name": "stdout"
        }
      ]
    },
    {
      "cell_type": "markdown",
      "metadata": {
        "id": "aVKPWFfuPvMy"
      },
      "source": [
        "29.2 덧셈 함수"
      ]
    },
    {
      "cell_type": "code",
      "metadata": {
        "id": "cptAIgyePxpt"
      },
      "source": [
        "# 매개변수, parametar, argument\n",
        "def add(a, b):\n",
        "  print(a + b)"
      ],
      "execution_count": null,
      "outputs": []
    },
    {
      "cell_type": "code",
      "metadata": {
        "colab": {
          "base_uri": "https://localhost:8080/"
        },
        "id": "0ZoBTnZFP_Xy",
        "outputId": "390f4e6c-21ad-428f-f160-b225fd41e497"
      },
      "source": [
        "add(4,5)\n"
      ],
      "execution_count": null,
      "outputs": [
        {
          "output_type": "stream",
          "text": [
            "9\n"
          ],
          "name": "stdout"
        }
      ]
    },
    {
      "cell_type": "code",
      "metadata": {
        "id": "OP3UGl54QoSE"
      },
      "source": [
        "# Docstrings 함수 설명하는 기능\n",
        "def add(a, b):\n",
        "  \"\"\"\n",
        "  이 함수는 a와 b를 더한 뒤 결과를 반환하는 함수입니다.\n",
        "  \"\"\"\n",
        "  print(a + b)"
      ],
      "execution_count": null,
      "outputs": []
    },
    {
      "cell_type": "code",
      "metadata": {
        "id": "iG3k-1xZQ1Gt"
      },
      "source": [
        "# 도움말 호출\n",
        "add?"
      ],
      "execution_count": null,
      "outputs": []
    },
    {
      "cell_type": "markdown",
      "metadata": {
        "id": "oaChHYetRULh"
      },
      "source": [
        "## 29.3 결과값 반환"
      ]
    },
    {
      "cell_type": "code",
      "metadata": {
        "id": "_kwv1kdyReTE"
      },
      "source": [
        "def add(a,b):\n",
        "  return a+b"
      ],
      "execution_count": null,
      "outputs": []
    },
    {
      "cell_type": "code",
      "metadata": {
        "colab": {
          "base_uri": "https://localhost:8080/"
        },
        "id": "yAOX8ezKRmPy",
        "outputId": "8f853d2d-3f5e-4aa0-ccc6-34f3e35009bb"
      },
      "source": [
        "add(4, 5), add(10,20)"
      ],
      "execution_count": null,
      "outputs": [
        {
          "output_type": "execute_result",
          "data": {
            "text/plain": [
              "(9, 30)"
            ]
          },
          "metadata": {
            "tags": []
          },
          "execution_count": 15
        }
      ]
    },
    {
      "cell_type": "code",
      "metadata": {
        "colab": {
          "base_uri": "https://localhost:8080/"
        },
        "id": "qNO2X0rzRyra",
        "outputId": "3fe62d0e-dd3f-47a9-8ca3-a2974a9c7997"
      },
      "source": [
        "x = add(23,45)\n",
        "x"
      ],
      "execution_count": null,
      "outputs": [
        {
          "output_type": "execute_result",
          "data": {
            "text/plain": [
              "68"
            ]
          },
          "metadata": {
            "tags": []
          },
          "execution_count": 16
        }
      ]
    },
    {
      "cell_type": "code",
      "metadata": {
        "id": "LkK_iuoeR-xV"
      },
      "source": [
        "def is_ten(x):\n",
        "  return x == 10"
      ],
      "execution_count": null,
      "outputs": []
    },
    {
      "cell_type": "code",
      "metadata": {
        "colab": {
          "base_uri": "https://localhost:8080/"
        },
        "id": "instVWNeSGod",
        "outputId": "cb1964f2-f281-425c-c1e6-f3388c59939d"
      },
      "source": [
        "is_ten(1010//10)"
      ],
      "execution_count": null,
      "outputs": [
        {
          "output_type": "execute_result",
          "data": {
            "text/plain": [
              "False"
            ]
          },
          "metadata": {
            "tags": []
          },
          "execution_count": 19
        }
      ]
    },
    {
      "cell_type": "code",
      "metadata": {
        "id": "ScM7cRJCSOge"
      },
      "source": [
        "def not_ten(x):\n",
        "  if x == 10:\n",
        "    return\n",
        "  else:       # else가 빠져도 무관하다\n",
        "    print('It is not 10.')\n"
      ],
      "execution_count": null,
      "outputs": []
    },
    {
      "cell_type": "code",
      "metadata": {
        "colab": {
          "base_uri": "https://localhost:8080/"
        },
        "id": "SVSBlcWAScfI",
        "outputId": "1cf6791d-720e-4466-a644-56d63f6e4bb5"
      },
      "source": [
        "not_ten(5)"
      ],
      "execution_count": null,
      "outputs": [
        {
          "output_type": "stream",
          "text": [
            "It is not 10.\n"
          ],
          "name": "stdout"
        }
      ]
    },
    {
      "cell_type": "markdown",
      "metadata": {
        "id": "jyYsMzSvTZnC"
      },
      "source": [
        "##29.4 여러개의 결과값 반환"
      ]
    },
    {
      "cell_type": "code",
      "metadata": {
        "id": "XMVD0HWoSo-F"
      },
      "source": [
        "def add_sub(a,b):\n",
        "  return a+b, a-b"
      ],
      "execution_count": null,
      "outputs": []
    },
    {
      "cell_type": "code",
      "metadata": {
        "id": "u2bCuh7ZTkU6"
      },
      "source": [
        "x, y = add_sub(15,7)        # tuple unpacking 에 의해서 파이썬에서 가능"
      ],
      "execution_count": null,
      "outputs": []
    },
    {
      "cell_type": "code",
      "metadata": {
        "colab": {
          "base_uri": "https://localhost:8080/"
        },
        "id": "JjCt8OnrTnxD",
        "outputId": "6b82c267-ba05-4609-c1e2-ab7f65432b23"
      },
      "source": [
        "x, y"
      ],
      "execution_count": null,
      "outputs": [
        {
          "output_type": "execute_result",
          "data": {
            "text/plain": [
              "(22, 8)"
            ]
          },
          "metadata": {
            "tags": []
          },
          "execution_count": 28
        }
      ]
    },
    {
      "cell_type": "markdown",
      "metadata": {
        "id": "zZZfKwEWUM6E"
      },
      "source": [
        "## 29.5 함수의 호출 과정"
      ]
    },
    {
      "cell_type": "code",
      "metadata": {
        "id": "d9Xgly1UUJ1R"
      },
      "source": [
        "# stack을 이용한다"
      ],
      "execution_count": null,
      "outputs": []
    },
    {
      "cell_type": "markdown",
      "metadata": {
        "id": "eycHZZQ1VMEC"
      },
      "source": [
        "## 연습 문제\n",
        "- 3자리수 정수 두개를 곱해서 나온 결과가 팔린드롬이 되도록 할 때, 가장 큰 숫자는?\n",
        "- 팔린드롬이란 (ex 12321) 대칭 구조인 숫자"
      ]
    },
    {
      "cell_type": "code",
      "metadata": {
        "id": "kdBNwGQYV_W6"
      },
      "source": [
        "def pali(a,b):\n",
        "  max_pal, m, n = 0, 0, 0\n",
        "  for i in range(a,b):\n",
        "    for k in range(i,b+1):   # i*k 곱한값이 팔린드롬인지를 확인 팔린드롬이면 max_pal과 비교\n",
        "      t = i*k\n",
        "      s = str(t)\n",
        "      if  s == s[::-1]:\n",
        "        if i*k > max_pal:\n",
        "          max_pal = i*k\n",
        "          m = i\n",
        "          n = k\n",
        "  return (f'{m} x {n} = {max_pal}')"
      ],
      "execution_count": 106,
      "outputs": []
    },
    {
      "cell_type": "code",
      "metadata": {
        "colab": {
          "base_uri": "https://localhost:8080/",
          "height": 35
        },
        "id": "OK2Cp7O5x6SA",
        "outputId": "6967693a-4887-4d70-94e9-80677efdc35d"
      },
      "source": [
        "pali(100,500)"
      ],
      "execution_count": 109,
      "outputs": [
        {
          "output_type": "execute_result",
          "data": {
            "application/vnd.google.colaboratory.intrinsic+json": {
              "type": "string"
            },
            "text/plain": [
              "'462 x 481 = 222222'"
            ]
          },
          "metadata": {
            "tags": []
          },
          "execution_count": 109
        }
      ]
    },
    {
      "cell_type": "code",
      "metadata": {
        "id": "1dD_wlkJx2PQ"
      },
      "source": [
        ""
      ],
      "execution_count": null,
      "outputs": []
    },
    {
      "cell_type": "code",
      "metadata": {
        "colab": {
          "base_uri": "https://localhost:8080/"
        },
        "id": "XRagAKVvbLCo",
        "outputId": "acae563f-85bb-4edd-d9a2-a45c38a3b002"
      },
      "source": [
        "# 강사님풀이\n",
        "def is_palindrome(x):\n",
        "  s = str(x)\n",
        "  return s == s[::-1]\n",
        "\n",
        "max_pal, m, n = 0, 0, 0\n",
        "for i in range(100,1000):\n",
        "  for k in range(i,1000):   # i*k 곱한값이 팔린드롬인지를 확인 팔린드롬이면 max_pal과 비교\n",
        "    if is_palindrome(i*k):\n",
        "      if i*k > max_pal:\n",
        "        max_pal = i*k\n",
        "        m = i\n",
        "        n = k\n",
        "print(f'{m} x {n} = {max_pal}')"
      ],
      "execution_count": null,
      "outputs": [
        {
          "output_type": "stream",
          "text": [
            "913 x 993 = 906609\n"
          ],
          "name": "stdout"
        }
      ]
    }
  ]
}