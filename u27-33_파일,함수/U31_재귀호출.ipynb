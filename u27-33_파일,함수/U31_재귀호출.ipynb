{
  "nbformat": 4,
  "nbformat_minor": 0,
  "metadata": {
    "colab": {
      "name": "U31_재귀호출.ipynb",
      "provenance": [],
      "collapsed_sections": []
    },
    "kernelspec": {
      "name": "python3",
      "display_name": "Python 3"
    },
    "language_info": {
      "name": "python"
    }
  },
  "cells": [
    {
      "cell_type": "markdown",
      "metadata": {
        "id": "sGqOvaV5uKiJ"
      },
      "source": [
        "# Unit 31. 재귀호출(Recursive call)\n",
        "- 함수안에서 자기를 호출"
      ]
    },
    {
      "cell_type": "markdown",
      "metadata": {
        "id": "XNyOT2agubnv"
      },
      "source": [
        "## factorial 함수를 재귀호출로 구현"
      ]
    },
    {
      "cell_type": "code",
      "metadata": {
        "id": "x2riEMSjuGe7"
      },
      "source": [
        "def factorial(n):\n",
        "  if n == 0:\n",
        "    return 1\n",
        "  return n*factorial(n-1)"
      ],
      "execution_count": 2,
      "outputs": []
    },
    {
      "cell_type": "code",
      "metadata": {
        "colab": {
          "base_uri": "https://localhost:8080/"
        },
        "id": "02VFvWZmvKQg",
        "outputId": "b1d4ad53-f071-4ced-b8ac-9c8f9780ff70"
      },
      "source": [
        "factorial(5)"
      ],
      "execution_count": 3,
      "outputs": [
        {
          "output_type": "execute_result",
          "data": {
            "text/plain": [
              "120"
            ]
          },
          "metadata": {
            "tags": []
          },
          "execution_count": 3
        }
      ]
    },
    {
      "cell_type": "markdown",
      "metadata": {
        "id": "LekEk9YEwSlO"
      },
      "source": [
        "### fibonacci 수열\n",
        "f(n) = f(n-1) + f(n-2),// n >= 3 ,f(1) = 1, f(2) =1"
      ]
    },
    {
      "cell_type": "code",
      "metadata": {
        "id": "0F4LZhLNwima"
      },
      "source": [
        "def fibo(n):\n",
        "  if n == 1 or n == 2:\n",
        "    return 1\n",
        "  return fibo(n-1) + fibo(n-2)"
      ],
      "execution_count": 4,
      "outputs": []
    },
    {
      "cell_type": "code",
      "metadata": {
        "colab": {
          "base_uri": "https://localhost:8080/"
        },
        "id": "ixHUP-j6vL22",
        "outputId": "1a0e41db-3815-4589-e4e7-b79f23a94212"
      },
      "source": [
        "[fibo(i) for i in range(1,11)]"
      ],
      "execution_count": 7,
      "outputs": [
        {
          "output_type": "execute_result",
          "data": {
            "text/plain": [
              "[1, 1, 2, 3, 5, 8, 13, 21, 34, 55]"
            ]
          },
          "metadata": {
            "tags": []
          },
          "execution_count": 7
        }
      ]
    }
  ]
}