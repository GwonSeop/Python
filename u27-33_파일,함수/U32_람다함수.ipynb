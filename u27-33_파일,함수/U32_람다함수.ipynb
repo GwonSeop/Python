{
  "nbformat": 4,
  "nbformat_minor": 0,
  "metadata": {
    "colab": {
      "name": "U32_람다함수.ipynb",
      "provenance": [],
      "collapsed_sections": []
    },
    "kernelspec": {
      "name": "python3",
      "display_name": "Python 3"
    },
    "language_info": {
      "name": "python"
    }
  },
  "cells": [
    {
      "cell_type": "markdown",
      "metadata": {
        "id": "3H6ziZsVg3iA"
      },
      "source": [
        "# Unit 32. 람다 함수 - 익명(Anonymous)함수"
      ]
    },
    {
      "cell_type": "code",
      "metadata": {
        "id": "SMAq1pw0gz4N"
      },
      "source": [
        "def plus_ten(x):\n",
        "  return x + 10"
      ],
      "execution_count": 1,
      "outputs": []
    },
    {
      "cell_type": "code",
      "metadata": {
        "colab": {
          "base_uri": "https://localhost:8080/"
        },
        "id": "f71rkpQkhc2u",
        "outputId": "633ec397-1049-4956-bdaf-7a47efb5900d"
      },
      "source": [
        "plus_ten(5)"
      ],
      "execution_count": 2,
      "outputs": [
        {
          "output_type": "execute_result",
          "data": {
            "text/plain": [
              "15"
            ]
          },
          "metadata": {
            "tags": []
          },
          "execution_count": 2
        }
      ]
    },
    {
      "cell_type": "code",
      "metadata": {
        "colab": {
          "base_uri": "https://localhost:8080/"
        },
        "id": "thQeAK4hhgau",
        "outputId": "9593a31b-c692-4d10-fed1-41271212e136"
      },
      "source": [
        "plus_ten2 = lambda x: x+10\n",
        "plus_ten2(5)"
      ],
      "execution_count": 3,
      "outputs": [
        {
          "output_type": "execute_result",
          "data": {
            "text/plain": [
              "15"
            ]
          },
          "metadata": {
            "tags": []
          },
          "execution_count": 3
        }
      ]
    },
    {
      "cell_type": "code",
      "metadata": {
        "colab": {
          "base_uri": "https://localhost:8080/"
        },
        "id": "1mBGEgdsiKVn",
        "outputId": "166818f9-f364-4193-bbbe-44bb1bfa1c47"
      },
      "source": [
        "(lambda x: x +10)(5)"
      ],
      "execution_count": 4,
      "outputs": [
        {
          "output_type": "execute_result",
          "data": {
            "text/plain": [
              "15"
            ]
          },
          "metadata": {
            "tags": []
          },
          "execution_count": 4
        }
      ]
    },
    {
      "cell_type": "code",
      "metadata": {
        "colab": {
          "base_uri": "https://localhost:8080/"
        },
        "id": "UToqksryihG-",
        "outputId": "35ee303d-4d0c-40e5-d775-64926286a3a3"
      },
      "source": [
        "list(map(lambda x: int(x) + 10, input().split()))"
      ],
      "execution_count": 5,
      "outputs": [
        {
          "output_type": "stream",
          "text": [
            "2 5 10\n"
          ],
          "name": "stdout"
        },
        {
          "output_type": "execute_result",
          "data": {
            "text/plain": [
              "[12, 15, 20]"
            ]
          },
          "metadata": {
            "tags": []
          },
          "execution_count": 5
        }
      ]
    },
    {
      "cell_type": "code",
      "metadata": {
        "colab": {
          "base_uri": "https://localhost:8080/"
        },
        "id": "Y8BTzI_8i8Un",
        "outputId": "7d48b296-f827-42f0-894f-7386e7bb3a55"
      },
      "source": [
        "def plus_ten(x):\n",
        "  return int(x) + 10\n",
        "list(map(plus_ten, input().split()))"
      ],
      "execution_count": 6,
      "outputs": [
        {
          "output_type": "stream",
          "text": [
            "2 5 10\n"
          ],
          "name": "stdout"
        },
        {
          "output_type": "execute_result",
          "data": {
            "text/plain": [
              "[12, 15, 20]"
            ]
          },
          "metadata": {
            "tags": []
          },
          "execution_count": 6
        }
      ]
    },
    {
      "cell_type": "markdown",
      "metadata": {
        "id": "UErzKSWsj56V"
      },
      "source": [
        "### 제약 사항"
      ]
    },
    {
      "cell_type": "code",
      "metadata": {
        "id": "OewUQDtzj7zd"
      },
      "source": [
        "# 람다함수에서 변수를 만들 수 없음\n",
        "(lambda x: y= 10; x+y)(3) #불가능\n",
        "y = 10\n",
        "(lambda x: x+y)(3)    # 미리 변수를 설정해놓으면 사용가능"
      ],
      "execution_count": null,
      "outputs": []
    },
    {
      "cell_type": "markdown",
      "metadata": {
        "id": "ua1dBLFqksGQ"
      },
      "source": [
        "### 조건부 함수"
      ]
    },
    {
      "cell_type": "code",
      "metadata": {
        "colab": {
          "base_uri": "https://localhost:8080/"
        },
        "id": "yR5WFBhpk2FX",
        "outputId": "a75fdda3-682b-4163-83a4-4e3942bca99e"
      },
      "source": [
        "# 리스트 a에서 3의 배수를 문자열로 변환\n",
        "a = list(range(1,11))\n",
        "list(map(lambda x: str(x) if x % 3 == 0 else x, a)) # 람다 표현식에서 if 사용하면 반드시 else를 사용해야한다"
      ],
      "execution_count": 8,
      "outputs": [
        {
          "output_type": "execute_result",
          "data": {
            "text/plain": [
              "[1, 2, '3', 4, 5, '6', 7, 8, '9', 10]"
            ]
          },
          "metadata": {
            "tags": []
          },
          "execution_count": 8
        }
      ]
    },
    {
      "cell_type": "code",
      "metadata": {
        "colab": {
          "base_uri": "https://localhost:8080/"
        },
        "id": "adV4Izd6lUSR",
        "outputId": "8776efd2-1e00-404f-a793-c01eb8269c73"
      },
      "source": [
        "# 리스트 a에서 3의 배수수를 문자열로, 5의 배수는 실수로 변환\n",
        "list(map(lambda x: str(x) if x % 3 == 0 else float(x) if x % 5 == 0 else x, a))  # elif 는 사용할 수 없다. (3항 연산자)"
      ],
      "execution_count": 9,
      "outputs": [
        {
          "output_type": "execute_result",
          "data": {
            "text/plain": [
              "[1, 2, '3', 4, 5.0, '6', 7, 8, '9', 10.0]"
            ]
          },
          "metadata": {
            "tags": []
          },
          "execution_count": 9
        }
      ]
    },
    {
      "cell_type": "markdown",
      "metadata": {
        "id": "msEP3M7fntJa"
      },
      "source": [
        "### map에 여러개의 객체 넣기"
      ]
    },
    {
      "cell_type": "code",
      "metadata": {
        "colab": {
          "base_uri": "https://localhost:8080/"
        },
        "id": "oRIN0C1ymiCG",
        "outputId": "5dc11e99-5550-47c5-c7cf-d0f6c28c556a"
      },
      "source": [
        "a = [1,2,3,4,5]\n",
        "b = [6,7,8,9,10]\n",
        "list(map(lambda x, y: x*y,a ,b))"
      ],
      "execution_count": 11,
      "outputs": [
        {
          "output_type": "execute_result",
          "data": {
            "text/plain": [
              "[6, 14, 24, 36, 50]"
            ]
          },
          "metadata": {
            "tags": []
          },
          "execution_count": 11
        }
      ]
    },
    {
      "cell_type": "markdown",
      "metadata": {
        "id": "SjUcrZiIoP7u"
      },
      "source": [
        "### filter"
      ]
    },
    {
      "cell_type": "code",
      "metadata": {
        "colab": {
          "base_uri": "https://localhost:8080/"
        },
        "id": "93iLri9an9TV",
        "outputId": "76729a48-d165-4bf0-fa2f-c6db8cc1d196"
      },
      "source": [
        "a = list(range(1,11))\n",
        "list(filter(lambda x: 4 <= x < 8,a))"
      ],
      "execution_count": 12,
      "outputs": [
        {
          "output_type": "execute_result",
          "data": {
            "text/plain": [
              "[4, 5, 6, 7]"
            ]
          },
          "metadata": {
            "tags": []
          },
          "execution_count": 12
        }
      ]
    },
    {
      "cell_type": "code",
      "metadata": {
        "id": "N1KBtKgCowIm"
      },
      "source": [
        ""
      ],
      "execution_count": null,
      "outputs": []
    }
  ]
}