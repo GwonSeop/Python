{
  "nbformat": 4,
  "nbformat_minor": 0,
  "metadata": {
    "colab": {
      "name": "U33_변수의 사용 범위.ipynb",
      "provenance": [],
      "collapsed_sections": []
    },
    "kernelspec": {
      "name": "python3",
      "display_name": "Python 3"
    },
    "language_info": {
      "name": "python"
    }
  },
  "cells": [
    {
      "cell_type": "markdown",
      "metadata": {
        "id": "WlWg6_YWr5HU"
      },
      "source": [
        "# Unit 33. 변수의 사용 범위 (Scope Rule)"
      ]
    },
    {
      "cell_type": "code",
      "metadata": {
        "colab": {
          "base_uri": "https://localhost:8080/"
        },
        "id": "HPAz5zCdr3AU",
        "outputId": "0b6a39fd-d439-49da-e123-f7fa7e546450"
      },
      "source": [
        "x = 10        # 전역(global)변수\n",
        "def foo():\n",
        "  print(x)\n",
        "foo()\n",
        "print(x)"
      ],
      "execution_count": 1,
      "outputs": [
        {
          "output_type": "stream",
          "text": [
            "10\n",
            "10\n"
          ],
          "name": "stdout"
        }
      ]
    },
    {
      "cell_type": "code",
      "metadata": {
        "colab": {
          "base_uri": "https://localhost:8080/"
        },
        "id": "jht0lFN4sKEk",
        "outputId": "be591391-275b-46e9-a003-98fe2271be69"
      },
      "source": [
        "def foo():\n",
        "  y = 10    #지역(local)변수\n",
        "  print(y)\n",
        "\n",
        "foo()"
      ],
      "execution_count": 3,
      "outputs": [
        {
          "output_type": "stream",
          "text": [
            "10\n"
          ],
          "name": "stdout"
        }
      ]
    },
    {
      "cell_type": "code",
      "metadata": {
        "id": "nyIMUMG6scnP"
      },
      "source": [
        "print(y)  # 함수 밖에서는 출력이 되지 않는다."
      ],
      "execution_count": null,
      "outputs": []
    },
    {
      "cell_type": "markdown",
      "metadata": {
        "id": "4m6Dirg2r-B3"
      },
      "source": [
        "## 함수 안에서 전역 변수 변경하기"
      ]
    },
    {
      "cell_type": "code",
      "metadata": {
        "colab": {
          "base_uri": "https://localhost:8080/"
        },
        "id": "VJPRlNDituTh",
        "outputId": "097364de-4d1d-481a-a15c-5c4a0078e530"
      },
      "source": [
        "x = 10        # 전역(global)변수\n",
        "def foo():\n",
        "  x = 20      # 로컬 변수\n",
        "  print(x)\n",
        "foo()\n",
        "print(x)"
      ],
      "execution_count": 4,
      "outputs": [
        {
          "output_type": "stream",
          "text": [
            "20\n",
            "10\n"
          ],
          "name": "stdout"
        }
      ]
    },
    {
      "cell_type": "code",
      "metadata": {
        "colab": {
          "base_uri": "https://localhost:8080/"
        },
        "id": "uphNa0Ufucbr",
        "outputId": "4ab0f10b-ed09-4384-a440-13205142bdce"
      },
      "source": [
        "x = 10        # 전역(global)변수\n",
        "def foo():\n",
        "  global x\n",
        "  x = 20      # 글로벌 변수\n",
        "  print(x)\n",
        "\n",
        "print(x)\n",
        "foo()"
      ],
      "execution_count": 6,
      "outputs": [
        {
          "output_type": "stream",
          "text": [
            "10\n",
            "20\n"
          ],
          "name": "stdout"
        }
      ]
    },
    {
      "cell_type": "code",
      "metadata": {
        "colab": {
          "base_uri": "https://localhost:8080/"
        },
        "id": "cFZ5AJOEuxLN",
        "outputId": "ed1d4a8c-d8fd-4c32-cc09-8959114d192f"
      },
      "source": [
        "def foo():\n",
        "  y = 10    #지역(local)변수\n",
        "  print(y)\n",
        "\n",
        "foo()\n",
        "y= 20\n",
        "print(y)"
      ],
      "execution_count": 7,
      "outputs": [
        {
          "output_type": "stream",
          "text": [
            "10\n",
            "20\n"
          ],
          "name": "stdout"
        }
      ]
    },
    {
      "cell_type": "code",
      "metadata": {
        "colab": {
          "base_uri": "https://localhost:8080/"
        },
        "id": "EuEd8H8vvOdG",
        "outputId": "aa49af7b-741c-4662-b1f0-4833a73fc6f5"
      },
      "source": [
        "def foo():\n",
        "  global z\n",
        "  z = 20      # 글로벌 변수\n",
        "  print(z)\n",
        "foo()\n",
        "print(z)"
      ],
      "execution_count": 9,
      "outputs": [
        {
          "output_type": "stream",
          "text": [
            "20\n",
            "20\n"
          ],
          "name": "stdout"
        }
      ]
    },
    {
      "cell_type": "code",
      "metadata": {
        "id": "wHfmcbEywZqb"
      },
      "source": [
        ""
      ],
      "execution_count": null,
      "outputs": []
    }
  ]
}