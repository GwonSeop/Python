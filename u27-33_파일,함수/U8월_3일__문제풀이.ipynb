{
  "nbformat": 4,
  "nbformat_minor": 0,
  "metadata": {
    "colab": {
      "name": "U8월 3일 _문제풀이.ipynb",
      "provenance": [],
      "collapsed_sections": []
    },
    "kernelspec": {
      "name": "python3",
      "display_name": "Python 3"
    },
    "language_info": {
      "name": "python"
    }
  },
  "cells": [
    {
      "cell_type": "markdown",
      "metadata": {
        "id": "kIU5MbqtF_gJ"
      },
      "source": [
        "## 27 -1 심사문제"
      ]
    },
    {
      "cell_type": "code",
      "metadata": {
        "colab": {
          "base_uri": "https://localhost:8080/"
        },
        "id": "zX_abekb6RIu",
        "outputId": "2934c47e-1caa-4ba5-b9c6-8be76ce19eed"
      },
      "source": [
        "with open('words.txt') as file:\n",
        "  s = file.read()\n",
        "  s = s.split()\n",
        "  for i in range(len(s)):\n",
        "    y = s[i].strip(',.')\n",
        "    if 'c' in y:\n",
        "      print(y)"
      ],
      "execution_count": null,
      "outputs": [
        {
          "output_type": "stream",
          "text": [
            "dictator\n",
            "subjects\n",
            "change\n",
            "costume\n",
            "elegance\n",
            "accepted\n"
          ],
          "name": "stdout"
        }
      ]
    },
    {
      "cell_type": "code",
      "metadata": {
        "id": "dUzsd1d-fHUw"
      },
      "source": [
        "#강사님 풀이\n",
        "with open('words.txt') as file:\n",
        "  words = file.read()\n",
        "for word in words.split:\n",
        "  word = word.strip(',.')\n",
        "  if 'c' in word:\n",
        "    print(word)"
      ],
      "execution_count": null,
      "outputs": []
    },
    {
      "cell_type": "markdown",
      "metadata": {
        "id": "gvCJS_K1GEHa"
      },
      "source": [
        "##29 -1 심사문제"
      ]
    },
    {
      "cell_type": "code",
      "metadata": {
        "colab": {
          "base_uri": "https://localhost:8080/"
        },
        "id": "19wagyndDI5U",
        "outputId": "63d33b7c-a43b-4735-cf20-244f52ebc3e5"
      },
      "source": [
        "x, y = map(int, input().split())\n",
        "def calc(x, y):\n",
        "  return x + y, x-y, x*y, float(x/y)\n",
        "a, s, m, d = calc(x, y)\n",
        "print('덧셈: {0}, 뺄셈: {1}, 곱셈: {2}, 나눗셈: {3}'.format(a, s, m, d))"
      ],
      "execution_count": null,
      "outputs": [
        {
          "output_type": "stream",
          "text": [
            "10 20\n",
            "덧셈: 30, 뺄셈: -10, 곱셈: 200, 나눗셈: 0.5\n"
          ],
          "name": "stdout"
        }
      ]
    },
    {
      "cell_type": "markdown",
      "metadata": {
        "id": "-KJU1bxrHu1Q"
      },
      "source": [
        "##30-1 심사문제"
      ]
    },
    {
      "cell_type": "code",
      "metadata": {
        "colab": {
          "base_uri": "https://localhost:8080/"
        },
        "id": "OrBLntt7KwJL",
        "outputId": "59537809-7b7b-4d35-9ddb-69ca420a09e7"
      },
      "source": [
        "korean, english, mathematics, science = map(int, input().split())\n",
        "def get_min_max_score(*args):\n",
        "  return min(args), max(args)\n",
        "def get_average(**kwargs):\n",
        "  return sum(kwargs.values())/len(kwargs.keys())\n",
        "min_score, max_score = get_min_max_score(korean, english, mathematics, science)\n",
        "average_score = get_average(korean=korean, english=english,\n",
        "                            mathematics=mathematics, science=science)\n",
        "print('낮은 점수: {0:.2f}, 높은 점수: {1:.2f}, 평균 점수: {2:.2f}'\n",
        "      .format(min_score, max_score, average_score))"
      ],
      "execution_count": null,
      "outputs": [
        {
          "output_type": "stream",
          "text": [
            "72 76 89 82\n",
            "낮은 점수: 72.00, 높은 점수: 89.00, 평균 점수: 79.75\n"
          ],
          "name": "stdout"
        }
      ]
    },
    {
      "cell_type": "markdown",
      "metadata": {
        "id": "_2qOP9THHvIt"
      },
      "source": [
        "## 31-1 심사문제"
      ]
    },
    {
      "cell_type": "code",
      "metadata": {
        "id": "XAUEfN6AQqUE"
      },
      "source": [
        "def fib(n):\n",
        "    if n == 1 or n == 2:\n",
        "        return 1\n",
        "    return fib(n-1)+fib(n-2)"
      ],
      "execution_count": null,
      "outputs": []
    }
  ]
}