{
  "nbformat": 4,
  "nbformat_minor": 0,
  "metadata": {
    "colab": {
      "name": "U34_클래스.ipynb",
      "provenance": [],
      "collapsed_sections": []
    },
    "kernelspec": {
      "name": "python3",
      "display_name": "Python 3"
    },
    "language_info": {
      "name": "python"
    }
  },
  "cells": [
    {
      "cell_type": "markdown",
      "metadata": {
        "id": "zLH407v-6_D5"
      },
      "source": [
        "# Unit 34. 클래스(Class)"
      ]
    },
    {
      "cell_type": "markdown",
      "metadata": {
        "id": "5vG3EpI57ZyG"
      },
      "source": [
        "##34.1 클래스와 메서드 만들기"
      ]
    },
    {
      "cell_type": "code",
      "metadata": {
        "id": "Fp6TSmKt68qq"
      },
      "source": [
        "class Person:     # 클래스 이름은 대문자로 시작\n",
        "  def greeting(self):\n",
        "    print('Hello')"
      ],
      "execution_count": 7,
      "outputs": []
    },
    {
      "cell_type": "code",
      "metadata": {
        "id": "6SF9NEsP7zK4"
      },
      "source": [
        "# 인스턴스를 만들어야 클래스를 사용할 수 있다.\n",
        "james = Person()\n",
        "maria = Person()"
      ],
      "execution_count": 9,
      "outputs": []
    },
    {
      "cell_type": "code",
      "metadata": {
        "colab": {
          "base_uri": "https://localhost:8080/"
        },
        "id": "d1WNkDYc8Hbj",
        "outputId": "ebfb60fa-9643-4021-85a1-6d26efcf54dd"
      },
      "source": [
        "james.greeting()"
      ],
      "execution_count": 11,
      "outputs": [
        {
          "output_type": "stream",
          "text": [
            "Hello\n"
          ],
          "name": "stdout"
        }
      ]
    },
    {
      "cell_type": "code",
      "metadata": {
        "colab": {
          "base_uri": "https://localhost:8080/"
        },
        "id": "iwJpuyQ28eeC",
        "outputId": "d9f2b611-69e5-4747-c62c-809ca5f43dc9"
      },
      "source": [
        "maria.greeting()"
      ],
      "execution_count": 12,
      "outputs": [
        {
          "output_type": "stream",
          "text": [
            "Hello\n"
          ],
          "name": "stdout"
        }
      ]
    },
    {
      "cell_type": "code",
      "metadata": {
        "colab": {
          "base_uri": "https://localhost:8080/"
        },
        "id": "E12-h83w8gJC",
        "outputId": "36304d32-1ebf-42c7-b3b2-43ae7b9be70d"
      },
      "source": [
        "Person().greeting()"
      ],
      "execution_count": 13,
      "outputs": [
        {
          "output_type": "stream",
          "text": [
            "Hello\n"
          ],
          "name": "stdout"
        }
      ]
    },
    {
      "cell_type": "code",
      "metadata": {
        "id": "Im8yakrC8iMi"
      },
      "source": [
        "# 클래스 내에서 메서드 호출하기\n",
        "class Person:\n",
        "  def greeting(self):\n",
        "    print('Hello')\n",
        "  def hello(self):\n",
        "    self.greeting()"
      ],
      "execution_count": 14,
      "outputs": []
    },
    {
      "cell_type": "code",
      "metadata": {
        "colab": {
          "base_uri": "https://localhost:8080/"
        },
        "id": "NvlKmJhE-XrJ",
        "outputId": "aa256147-9840-4016-8f04-6c1dc02bb2a8"
      },
      "source": [
        "james = Person()\n",
        "james.hello()"
      ],
      "execution_count": 16,
      "outputs": [
        {
          "output_type": "stream",
          "text": [
            "Hello\n"
          ],
          "name": "stdout"
        }
      ]
    },
    {
      "cell_type": "code",
      "metadata": {
        "colab": {
          "base_uri": "https://localhost:8080/"
        },
        "id": "Q0eNtVW9-cO5",
        "outputId": "e53e675d-fba9-40ef-b00c-95f332e85418"
      },
      "source": [
        "isinstance(james, Person)"
      ],
      "execution_count": 18,
      "outputs": [
        {
          "output_type": "execute_result",
          "data": {
            "text/plain": [
              "True"
            ]
          },
          "metadata": {
            "tags": []
          },
          "execution_count": 18
        }
      ]
    },
    {
      "cell_type": "code",
      "metadata": {
        "id": "1lSLEhEs-oMg"
      },
      "source": [
        "def factorial(n):\n",
        "  if not isinstance(n, int):\n",
        "    return None\n",
        "  if n == 0:\n",
        "    return 1\n",
        "  return n*factorial(n-1)"
      ],
      "execution_count": 22,
      "outputs": []
    },
    {
      "cell_type": "code",
      "metadata": {
        "id": "zU8fPVMh_Jda"
      },
      "source": [
        "factorial(3.14)"
      ],
      "execution_count": 23,
      "outputs": []
    },
    {
      "cell_type": "code",
      "metadata": {
        "colab": {
          "base_uri": "https://localhost:8080/"
        },
        "id": "QC8xIUzD_Ym6",
        "outputId": "e216f9bf-5b7a-4f14-cb3e-fd3add9e5c4f"
      },
      "source": [
        "factorial(6)"
      ],
      "execution_count": 24,
      "outputs": [
        {
          "output_type": "execute_result",
          "data": {
            "text/plain": [
              "720"
            ]
          },
          "metadata": {
            "tags": []
          },
          "execution_count": 24
        }
      ]
    },
    {
      "cell_type": "markdown",
      "metadata": {
        "id": "MIHJ_zif_ez9"
      },
      "source": [
        "## 34.2 속성(Attribute)"
      ]
    },
    {
      "cell_type": "code",
      "metadata": {
        "id": "AvXwSEk1_aKp"
      },
      "source": [
        "class Person:\n",
        "  def __init__(self):\n",
        "    self.hello = '안녕하세요'   # hello 속성을 갖게 됨\n",
        "  def greeting(self):\n",
        "    print(self.hello)"
      ],
      "execution_count": 25,
      "outputs": []
    },
    {
      "cell_type": "code",
      "metadata": {
        "colab": {
          "base_uri": "https://localhost:8080/"
        },
        "id": "C52SmHeKABgH",
        "outputId": "1814621d-9c1b-40e2-fe14-e660a5ac086b"
      },
      "source": [
        "maria = Person()\n",
        "maria.greeting()"
      ],
      "execution_count": 27,
      "outputs": [
        {
          "output_type": "stream",
          "text": [
            "안녕하세요\n"
          ],
          "name": "stdout"
        }
      ]
    },
    {
      "cell_type": "code",
      "metadata": {
        "colab": {
          "base_uri": "https://localhost:8080/"
        },
        "id": "c_qXa37JAh89",
        "outputId": "2f18d303-6509-49e3-dc97-d57048e40ec8"
      },
      "source": [
        "maria.hello = 'How are you?'\n",
        "maria.greeting()"
      ],
      "execution_count": 29,
      "outputs": [
        {
          "output_type": "stream",
          "text": [
            "How are you?\n"
          ],
          "name": "stdout"
        }
      ]
    },
    {
      "cell_type": "code",
      "metadata": {
        "id": "QKVU_Z8-BlCA"
      },
      "source": [
        "class Person:\n",
        "  def __init__(self, hello):    # Constructor\n",
        "    self.hello = hello\n",
        "  def greeting(self):\n",
        "    print(self.hello)"
      ],
      "execution_count": 30,
      "outputs": []
    },
    {
      "cell_type": "code",
      "metadata": {
        "id": "XzyRUUI5Bvzo"
      },
      "source": [
        "james = Person('안녕하세요?')\n",
        "maria = Person('How are you?')"
      ],
      "execution_count": 31,
      "outputs": []
    },
    {
      "cell_type": "code",
      "metadata": {
        "colab": {
          "base_uri": "https://localhost:8080/"
        },
        "id": "21ra7bENB3fC",
        "outputId": "66434c10-2ebe-4c80-f4eb-4a94830ba150"
      },
      "source": [
        "james.greeting()\n",
        "maria.greeting()"
      ],
      "execution_count": 33,
      "outputs": [
        {
          "output_type": "stream",
          "text": [
            "안녕하세요?\n",
            "How are you?\n"
          ],
          "name": "stdout"
        }
      ]
    },
    {
      "cell_type": "code",
      "metadata": {
        "id": "kfZYx2dvB6NR"
      },
      "source": [
        "class Person:\n",
        "  def __init__(self, name, age, addr):       # *args, **kwargs 적용가능\n",
        "    self.hello = '안녕하세요?'\n",
        "    self.name = name\n",
        "    self.age = age\n",
        "    self.addr = addr\n",
        "  def greeting(self):\n",
        "    print(f'{self.hello} 저는 {self.name} 입니다.')\n",
        "  # JAVA의 toString() method\n",
        "  def __str__(self):       # print로 출력하고 싶을경우 __str__을 사용해준다\n",
        "    return f'hello: {self.hello}, name: {self.name}, age: {self.age}, addr: {self.addr}'"
      ],
      "execution_count": 37,
      "outputs": []
    },
    {
      "cell_type": "code",
      "metadata": {
        "colab": {
          "base_uri": "https://localhost:8080/"
        },
        "id": "0jqrrMfeDBe7",
        "outputId": "4a14d099-850a-4a89-cf14-4270fcc5a19d"
      },
      "source": [
        "maria = Person('마리아', 23, '서울시 강남구 도곡동')\n",
        "maria.greeting()"
      ],
      "execution_count": 39,
      "outputs": [
        {
          "output_type": "stream",
          "text": [
            "안녕하세요? 저는 마리아 입니다.\n"
          ],
          "name": "stdout"
        }
      ]
    },
    {
      "cell_type": "code",
      "metadata": {
        "colab": {
          "base_uri": "https://localhost:8080/"
        },
        "id": "Ll0FtV7hUoqT",
        "outputId": "2b0c7768-8934-45c8-99e4-d1bfd7efa06f"
      },
      "source": [
        "print(maria)"
      ],
      "execution_count": 40,
      "outputs": [
        {
          "output_type": "stream",
          "text": [
            "hello: 안녕하세요?, name: 마리아, age: 23, addr: 서울시 강남구 도곡동\n"
          ],
          "name": "stdout"
        }
      ]
    },
    {
      "cell_type": "markdown",
      "metadata": {
        "id": "g7cOc5TuVyS6"
      },
      "source": [
        "## 34.3 비공개 속성"
      ]
    },
    {
      "cell_type": "code",
      "metadata": {
        "colab": {
          "base_uri": "https://localhost:8080/"
        },
        "id": "3YCNRu0RUqYG",
        "outputId": "c88aaa43-91bc-4d21-f78f-297041f77768"
      },
      "source": [
        "maria.age = 30\n",
        "print(maria)"
      ],
      "execution_count": 41,
      "outputs": [
        {
          "output_type": "stream",
          "text": [
            "hello: 안녕하세요?, name: 마리아, age: 30, addr: 서울시 강남구 도곡동\n"
          ],
          "name": "stdout"
        }
      ]
    },
    {
      "cell_type": "code",
      "metadata": {
        "id": "SnJeGBtBV_6u"
      },
      "source": [
        "class Person:\n",
        "  def __init__(self, name, age, addr, wallet): \n",
        "    self.name = name\n",
        "    self.age = age\n",
        "    self.addr = addr\n",
        "    self.__wallet = wallet       # __ 를 붙여 wallet 속성을 비공개\n",
        "  def greeting(self):\n",
        "    print(f'안녕하세요? 저는 {self.name} 입니다.')\n",
        "  def pay(self, amount):          # 비공개 속성은 class 안에서만 수정할 수 있다.\n",
        "    if self.__wallet - amount < 0:\n",
        "      print('지갑에 돈이 부족합니다.')\n",
        "      return\n",
        "    self.__wallet -= amount\n",
        "    print(f'지갑에 남은 금액은 {self.__wallet}입니다.')\n",
        "  def __str__(self): \n",
        "    return f'name: {self.name}, age: {self.age}, addr: {self.addr}, wallet: {self.__wallet}'"
      ],
      "execution_count": 58,
      "outputs": []
    },
    {
      "cell_type": "code",
      "metadata": {
        "colab": {
          "base_uri": "https://localhost:8080/"
        },
        "id": "wojEejkyWysP",
        "outputId": "6a36c7ab-9176-4063-9b49-e73936391210"
      },
      "source": [
        "james = Person('제임스',27,'서울 강남구 역삼동',10000)\n",
        "james.greeting()"
      ],
      "execution_count": 69,
      "outputs": [
        {
          "output_type": "stream",
          "text": [
            "안녕하세요? 저는 제임스 입니다.\n"
          ],
          "name": "stdout"
        }
      ]
    },
    {
      "cell_type": "code",
      "metadata": {
        "colab": {
          "base_uri": "https://localhost:8080/"
        },
        "id": "OHOja0GrW5CV",
        "outputId": "e017f57f-145f-48c3-9e8c-86ebbd99d71b"
      },
      "source": [
        "print(james)"
      ],
      "execution_count": 70,
      "outputs": [
        {
          "output_type": "stream",
          "text": [
            "name: 제임스, age: 27, addr: 서울 강남구 역삼동, wallet: 10000\n"
          ],
          "name": "stdout"
        }
      ]
    },
    {
      "cell_type": "code",
      "metadata": {
        "id": "ZXy0W0HvXCUu"
      },
      "source": [
        "# __wallet은 비공개 속성이므로 클래스 바깥에서는 변경할 수 없다.\n",
        "james.__wallet = 1000000"
      ],
      "execution_count": 71,
      "outputs": []
    },
    {
      "cell_type": "code",
      "metadata": {
        "colab": {
          "base_uri": "https://localhost:8080/"
        },
        "id": "J3M-ZyD0XS_9",
        "outputId": "a1a9b438-e452-41ae-d8c7-c743896bba7e"
      },
      "source": [
        "print(james)"
      ],
      "execution_count": 72,
      "outputs": [
        {
          "output_type": "stream",
          "text": [
            "name: 제임스, age: 27, addr: 서울 강남구 역삼동, wallet: 10000\n"
          ],
          "name": "stdout"
        }
      ]
    },
    {
      "cell_type": "code",
      "metadata": {
        "colab": {
          "base_uri": "https://localhost:8080/"
        },
        "id": "rrR0cCwDXUrc",
        "outputId": "8e2eeea6-2cad-4af5-b628-a1c4e3b01e5f"
      },
      "source": [
        "james.pay(5000)"
      ],
      "execution_count": 73,
      "outputs": [
        {
          "output_type": "stream",
          "text": [
            "지갑에 남은 금액은 5000입니다.\n"
          ],
          "name": "stdout"
        }
      ]
    },
    {
      "cell_type": "code",
      "metadata": {
        "colab": {
          "base_uri": "https://localhost:8080/"
        },
        "id": "JuL7dMaPYPdd",
        "outputId": "a46a909a-e9dc-4b4d-f68c-118aa2634ff9"
      },
      "source": [
        "james.pay(10000)"
      ],
      "execution_count": 74,
      "outputs": [
        {
          "output_type": "stream",
          "text": [
            "지갑에 돈이 부족합니다.\n"
          ],
          "name": "stdout"
        }
      ]
    },
    {
      "cell_type": "code",
      "metadata": {
        "colab": {
          "base_uri": "https://localhost:8080/"
        },
        "id": "1DEhSwg7YdMU",
        "outputId": "917fe28d-6bb7-459e-bacb-72d7be204d08"
      },
      "source": [
        "print(james)"
      ],
      "execution_count": 75,
      "outputs": [
        {
          "output_type": "stream",
          "text": [
            "name: 제임스, age: 27, addr: 서울 강남구 역삼동, wallet: 5000\n"
          ],
          "name": "stdout"
        }
      ]
    },
    {
      "cell_type": "markdown",
      "metadata": {
        "id": "2Tn7XA6hdyVt"
      },
      "source": [
        "### 연습 문제"
      ]
    },
    {
      "cell_type": "code",
      "metadata": {
        "id": "lMlE4y0HYe1v"
      },
      "source": [
        "# 계좌 만들기\n",
        "class Account:\n",
        "  def __init__(self,ano,owner,balance):\n",
        "    self.ano = ano\n",
        "    self.owner = owner\n",
        "    self.__balance = balance\n",
        "  def deposit(self, amount):\n",
        "    if self.__balance + amount >= 10000000:\n",
        "      print('천만원 이상은 갖고 있을 수 없습니다.')\n",
        "      return\n",
        "    self.__balance += amount\n",
        "    print(f'계좌에 {self.__balance}원 남았습니다.')\n",
        "  def withdraw(self, amount):\n",
        "    if self.__balance < amount:\n",
        "      print('잔액이 부족합니다.')\n",
        "      return\n",
        "    self.__balance -= amount\n",
        "    print(f'계좌에 {self.__balance}원 남았습니다.')\n",
        "  def __str__(self):\n",
        "    return f'계좌번호 : {self.ano}, name : {self.owner}, 잔액 : {self.__balance:9,d}'"
      ],
      "execution_count": 106,
      "outputs": []
    },
    {
      "cell_type": "code",
      "metadata": {
        "id": "xbOp3Ou2brpP"
      },
      "source": [
        "seop = Account('112233','신권섭',100000)"
      ],
      "execution_count": 107,
      "outputs": []
    },
    {
      "cell_type": "code",
      "metadata": {
        "colab": {
          "base_uri": "https://localhost:8080/"
        },
        "id": "sZKk3wF7b7dU",
        "outputId": "37a9ec1c-33df-42cf-fe02-1d7ef96a821b"
      },
      "source": [
        "print(seop)"
      ],
      "execution_count": 108,
      "outputs": [
        {
          "output_type": "stream",
          "text": [
            "계좌번호 : 112233, name : 신권섭, 잔액 :   100,000\n"
          ],
          "name": "stdout"
        }
      ]
    },
    {
      "cell_type": "code",
      "metadata": {
        "colab": {
          "base_uri": "https://localhost:8080/"
        },
        "id": "7YLuQv5Cb_Qj",
        "outputId": "f1074692-d77d-4ca5-d88d-bc42a5c7788e"
      },
      "source": [
        "seop.deposit(1000)"
      ],
      "execution_count": 109,
      "outputs": [
        {
          "output_type": "stream",
          "text": [
            "계좌에 101000원 남았습니다.\n"
          ],
          "name": "stdout"
        }
      ]
    },
    {
      "cell_type": "code",
      "metadata": {
        "colab": {
          "base_uri": "https://localhost:8080/"
        },
        "id": "frV_3bedcrIU",
        "outputId": "e804daa0-c6ea-4259-f34b-d39902e3dc38"
      },
      "source": [
        "seop.deposit(10000001)"
      ],
      "execution_count": 110,
      "outputs": [
        {
          "output_type": "stream",
          "text": [
            "천만원 이상은 갖고 있을 수 없습니다.\n"
          ],
          "name": "stdout"
        }
      ]
    },
    {
      "cell_type": "code",
      "metadata": {
        "colab": {
          "base_uri": "https://localhost:8080/"
        },
        "id": "Ojofv77vcurE",
        "outputId": "5aa83396-2e57-4622-e22d-b9193c777174"
      },
      "source": [
        "seop.withdraw(100500)"
      ],
      "execution_count": 111,
      "outputs": [
        {
          "output_type": "stream",
          "text": [
            "계좌에 500원 남았습니다.\n"
          ],
          "name": "stdout"
        }
      ]
    },
    {
      "cell_type": "code",
      "metadata": {
        "colab": {
          "base_uri": "https://localhost:8080/"
        },
        "id": "anRJR5Bcc09N",
        "outputId": "6289b8bc-910d-4694-d902-252f9bb51647"
      },
      "source": [
        "acc2 = Account('987432','마리아', 3000000)\n",
        "print(acc2)"
      ],
      "execution_count": 112,
      "outputs": [
        {
          "output_type": "stream",
          "text": [
            "계좌번호 : 987432, name : 마리아, 잔액 : 3,000,000\n"
          ],
          "name": "stdout"
        }
      ]
    },
    {
      "cell_type": "code",
      "metadata": {
        "id": "nNHXykC0fl3p"
      },
      "source": [
        "acc_list = [seop, acc2]"
      ],
      "execution_count": 127,
      "outputs": []
    },
    {
      "cell_type": "code",
      "metadata": {
        "colab": {
          "base_uri": "https://localhost:8080/"
        },
        "id": "cquq0UOWfUGP",
        "outputId": "65c0a397-a7c3-454e-9d7c-0aa5b0f6ad2c"
      },
      "source": [
        "for account in acc_list:\n",
        "  print(account)"
      ],
      "execution_count": 128,
      "outputs": [
        {
          "output_type": "stream",
          "text": [
            "계좌번호 : 112233, name : 신권섭, 잔액 :       500\n",
            "계좌번호 : 987432, name : 마리아, 잔액 : 3,000,000\n"
          ],
          "name": "stdout"
        }
      ]
    },
    {
      "cell_type": "markdown",
      "metadata": {
        "id": "0vevJGQKfrqa"
      },
      "source": [
        "### 1:계좌생성, 2:계좌목록, 3:입금, 4:출금, 5:종료"
      ]
    },
    {
      "cell_type": "code",
      "metadata": {
        "id": "YSoQsVoIj70h"
      },
      "source": [
        "def create_account():\n",
        "  new_ano = input('6자리 숫자를 입력해 주세요 > ')\n",
        "  if new_ano in acc_list:\n",
        "    print('이미 존재하는 계좌번호입니다.')\n",
        "  else:\n",
        "    new_name = input('이름을 입력해 주세요 > ')\n",
        "        new_acc = Account(new_ano,new_name,0)\n",
        "    \n",
        "\n",
        "  pass  "
      ],
      "execution_count": null,
      "outputs": []
    },
    {
      "cell_type": "code",
      "metadata": {
        "id": "nbgfhWhloARQ"
      },
      "source": [
        "# 강사님 답 \n",
        "# 사용자로부터 필요한 정보를 입력 받아서 계좌를 생성함\n",
        "def create_account():\n",
        "  s = input('계좌번호 성명 금액 > ').split()\n",
        "  ano, owner = s[0], s[1]\n",
        "  amount = int(s[2])\n",
        "  acc = Account(ano, owner, amount)\n",
        "  acc_list.append(acc)"
      ],
      "execution_count": 132,
      "outputs": []
    },
    {
      "cell_type": "code",
      "metadata": {
        "id": "62EQtG3JkAGE"
      },
      "source": [
        "# 사용자로부터 필요한 정보를 입력 받아서 계좌에 돈을 입금함\n",
        "def deposit_account():\n",
        "  s = input('계좌번호 금액').split()\n",
        "  ano, amount = s[0], int(s[1])\n",
        "  for acc in acc_list:\n",
        "    if acc.ano == ano:\n",
        "      acc.deposit(amount)\n",
        "      return"
      ],
      "execution_count": 135,
      "outputs": []
    },
    {
      "cell_type": "code",
      "metadata": {
        "id": "Y6Ajdm-mkHZ_"
      },
      "source": [
        "# 사용자로부터 필요한 정보를 입력 받아서 계좌에 돈을 출금함\n",
        "def withdraw_account():\n",
        "  s = input('계좌번호 금액').split()\n",
        "  ano, amount = s[0], int(s[1])\n",
        "  for acc in acc_list:\n",
        "    if acc.ano == ano:\n",
        "      acc.withdraw(amount)\n",
        "      return"
      ],
      "execution_count": 137,
      "outputs": []
    },
    {
      "cell_type": "code",
      "metadata": {
        "id": "mS6k7VrUkNQB"
      },
      "source": [
        ""
      ],
      "execution_count": null,
      "outputs": []
    },
    {
      "cell_type": "code",
      "metadata": {
        "colab": {
          "base_uri": "https://localhost:8080/"
        },
        "id": "isf4jCN9fXdF",
        "outputId": "c83c88fb-2a6e-4351-efd5-bf4c26a434ab"
      },
      "source": [
        "while True:\n",
        "  menu = int(input('1:계좌생성, 2:계좌목록, 3:입금, 4:출금, 5:종료 > '))\n",
        "  if menu == 5:\n",
        "    break\n",
        "  if menu == 1:\n",
        "    create_account()\n",
        "  elif menu == 2:\n",
        "    for account in acc_list:\n",
        "      print(account)\n",
        "  elif menu == 3:\n",
        "    deposit_account()\n",
        "  elif menu == 4:\n",
        "    withdraw_account()\n",
        "  else:\n",
        "    print('잘못된 명령어입니다.')\n",
        "  \n",
        "  print()"
      ],
      "execution_count": 139,
      "outputs": [
        {
          "output_type": "stream",
          "text": [
            "1:계좌생성, 2:계좌목록, 3:입금, 4:출금, 5:종료 > 4\n",
            "계좌번호 금액333555 10000\n",
            "계좌에 1240000원 남았습니다.\n",
            "\n",
            "1:계좌생성, 2:계좌목록, 3:입금, 4:출금, 5:종료 > 2\n",
            "계좌번호 : 112233, name : 신권섭, 잔액 :       500\n",
            "계좌번호 : 987432, name : 마리아, 잔액 : 3,000,000\n",
            "계좌번호 : 333555, name : 홍길동, 잔액 : 1,240,000\n",
            "계좌번호 : 321532, name : 김두환, 잔액 :   210,000\n",
            "\n",
            "1:계좌생성, 2:계좌목록, 3:입금, 4:출금, 5:종료 > 53\n",
            "잘못된 명령어입니다.\n",
            "\n",
            "1:계좌생성, 2:계좌목록, 3:입금, 4:출금, 5:종료 > 5\n"
          ],
          "name": "stdout"
        }
      ]
    },
    {
      "cell_type": "code",
      "metadata": {
        "id": "yuDwhSAFntiF"
      },
      "source": [
        ""
      ],
      "execution_count": null,
      "outputs": []
    }
  ]
}