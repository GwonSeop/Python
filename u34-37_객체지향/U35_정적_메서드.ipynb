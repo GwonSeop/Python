{
  "nbformat": 4,
  "nbformat_minor": 0,
  "metadata": {
    "colab": {
      "name": "U35_정적 메서드.ipynb",
      "provenance": [],
      "collapsed_sections": []
    },
    "kernelspec": {
      "name": "python3",
      "display_name": "Python 3"
    },
    "language_info": {
      "name": "python"
    }
  },
  "cells": [
    {
      "cell_type": "markdown",
      "metadata": {
        "id": "5ANYAUrjBEgh"
      },
      "source": [
        "# Unit 35. 정적 메서드"
      ]
    },
    {
      "cell_type": "code",
      "metadata": {
        "id": "YVIHVDnqBDcM"
      },
      "source": [
        "class Calc:\n",
        "  @staticmethod\n",
        "  def add(a, b):\n",
        "    print(a + b)"
      ],
      "execution_count": 1,
      "outputs": []
    },
    {
      "cell_type": "code",
      "metadata": {
        "colab": {
          "base_uri": "https://localhost:8080/"
        },
        "id": "7NyCw7syBVrC",
        "outputId": "dedc907e-3c32-4ed2-ab89-3fdfb26b3544"
      },
      "source": [
        "Calc.add(10, 20)"
      ],
      "execution_count": 2,
      "outputs": [
        {
          "output_type": "stream",
          "text": [
            "30\n"
          ],
          "name": "stdout"
        }
      ]
    },
    {
      "cell_type": "code",
      "metadata": {
        "id": "0kGDSrb2Be9u"
      },
      "source": [
        ""
      ],
      "execution_count": null,
      "outputs": []
    }
  ]
}