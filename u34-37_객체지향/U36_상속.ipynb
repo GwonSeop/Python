{
  "nbformat": 4,
  "nbformat_minor": 0,
  "metadata": {
    "colab": {
      "name": "U36_상속.ipynb",
      "provenance": [],
      "collapsed_sections": []
    },
    "kernelspec": {
      "name": "python3",
      "display_name": "Python 3"
    },
    "language_info": {
      "name": "python"
    }
  },
  "cells": [
    {
      "cell_type": "markdown",
      "metadata": {
        "id": "_Km5N4bHwp7u"
      },
      "source": [
        "# Unit 36. 상속(Ingeritance)"
      ]
    },
    {
      "cell_type": "markdown",
      "metadata": {
        "id": "tEuBJc0px8jO"
      },
      "source": [
        "##36.1 기본 상속"
      ]
    },
    {
      "cell_type": "code",
      "metadata": {
        "id": "yawdagGKwqWt"
      },
      "source": [
        "class Person:\n",
        "  def greeting(self):\n",
        "    print('안녕하세요?')\n",
        "class Student(Person):\n",
        "  def study(self):\n",
        "    print('공부하기')"
      ],
      "execution_count": 2,
      "outputs": []
    },
    {
      "cell_type": "code",
      "metadata": {
        "colab": {
          "base_uri": "https://localhost:8080/"
        },
        "id": "2S33igl4wev1",
        "outputId": "c5a52d6e-a6e4-4f4d-ebde-a80eb232eac2"
      },
      "source": [
        "james = Student()\n",
        "james.greeting()"
      ],
      "execution_count": 3,
      "outputs": [
        {
          "output_type": "stream",
          "text": [
            "안녕하세요?\n"
          ],
          "name": "stdout"
        }
      ]
    },
    {
      "cell_type": "code",
      "metadata": {
        "colab": {
          "base_uri": "https://localhost:8080/"
        },
        "id": "tOM_lGAxyaiK",
        "outputId": "5defbea3-dfa3-4ccb-f370-d0cd4d7c72dc"
      },
      "source": [
        "james.study()"
      ],
      "execution_count": 4,
      "outputs": [
        {
          "output_type": "stream",
          "text": [
            "공부하기\n"
          ],
          "name": "stdout"
        }
      ]
    },
    {
      "cell_type": "markdown",
      "metadata": {
        "id": "6avhE1zOzjJS"
      },
      "source": [
        "##36.3 기반 클래스의 속성 사용하기"
      ]
    },
    {
      "cell_type": "code",
      "metadata": {
        "id": "C8gVzTv4ym4g"
      },
      "source": [
        "class Person:\n",
        "  def __init__(self):\n",
        "    self.hello = '안녕하세요'\n",
        "    print('Person.__init__')\n",
        "class Student(Person):\n",
        "  def __init__(self):                 # init을 상속관계 두곳에 동시에 사용할 수 없다.\n",
        "    self.school = '파이썬'\n",
        "    print('Student.__init__')"
      ],
      "execution_count": 5,
      "outputs": []
    },
    {
      "cell_type": "code",
      "metadata": {
        "colab": {
          "base_uri": "https://localhost:8080/",
          "height": 53
        },
        "id": "4kVadJ_t0Xjx",
        "outputId": "4a263449-31c1-4fd9-82b8-2955b2660f4c"
      },
      "source": [
        "james = Student()\n",
        "james.school"
      ],
      "execution_count": 6,
      "outputs": [
        {
          "output_type": "stream",
          "text": [
            "Student.__init__\n"
          ],
          "name": "stdout"
        },
        {
          "output_type": "execute_result",
          "data": {
            "application/vnd.google.colaboratory.intrinsic+json": {
              "type": "string"
            },
            "text/plain": [
              "'파이썬'"
            ]
          },
          "metadata": {
            "tags": []
          },
          "execution_count": 6
        }
      ]
    },
    {
      "cell_type": "code",
      "metadata": {
        "colab": {
          "base_uri": "https://localhost:8080/",
          "height": 172
        },
        "id": "SQwNFT6p0bDn",
        "outputId": "b6ace147-0cbd-4b54-dc08-46007be5d95e"
      },
      "source": [
        "james.hello"
      ],
      "execution_count": 7,
      "outputs": [
        {
          "output_type": "error",
          "ename": "AttributeError",
          "evalue": "ignored",
          "traceback": [
            "\u001b[0;31m---------------------------------------------------------------------------\u001b[0m",
            "\u001b[0;31mAttributeError\u001b[0m                            Traceback (most recent call last)",
            "\u001b[0;32m<ipython-input-7-da95e56173fd>\u001b[0m in \u001b[0;36m<module>\u001b[0;34m()\u001b[0m\n\u001b[0;32m----> 1\u001b[0;31m \u001b[0mjames\u001b[0m\u001b[0;34m.\u001b[0m\u001b[0mhello\u001b[0m\u001b[0;34m\u001b[0m\u001b[0;34m\u001b[0m\u001b[0m\n\u001b[0m",
            "\u001b[0;31mAttributeError\u001b[0m: 'Student' object has no attribute 'hello'"
          ]
        }
      ]
    },
    {
      "cell_type": "markdown",
      "metadata": {
        "id": "iciCMFOQ1j17"
      },
      "source": [
        "###super()로 기반 클래스 초기화"
      ]
    },
    {
      "cell_type": "code",
      "metadata": {
        "id": "_aBIKhPy02QV"
      },
      "source": [
        "class Person:\n",
        "  def __init__(self):\n",
        "    self.hello = '안녕하세요'\n",
        "    print('Person.__init__')\n",
        "class Student(Person):\n",
        "  def __init__(self):            \n",
        "    super().__init__()\n",
        "    self.school = '파이썬'\n",
        "    print('Student.__init__')"
      ],
      "execution_count": 8,
      "outputs": []
    },
    {
      "cell_type": "code",
      "metadata": {
        "colab": {
          "base_uri": "https://localhost:8080/",
          "height": 71
        },
        "id": "B9A4er6c08h_",
        "outputId": "7d36d5f2-e3d1-4d46-c7a7-3b9ac174ca10"
      },
      "source": [
        "james = Student()\n",
        "james.hello"
      ],
      "execution_count": 9,
      "outputs": [
        {
          "output_type": "stream",
          "text": [
            "Person.__init__\n",
            "Student.__init__\n"
          ],
          "name": "stdout"
        },
        {
          "output_type": "execute_result",
          "data": {
            "application/vnd.google.colaboratory.intrinsic+json": {
              "type": "string"
            },
            "text/plain": [
              "'안녕하세요'"
            ]
          },
          "metadata": {
            "tags": []
          },
          "execution_count": 9
        }
      ]
    },
    {
      "cell_type": "code",
      "metadata": {
        "id": "wK5iOacK0_Wy"
      },
      "source": [
        "class Person:\n",
        "  def __init__(self):\n",
        "    self.hello = '안녕하세요'\n",
        "    print('Person.__init__')\n",
        "class Student(Person):\n",
        "  pass"
      ],
      "execution_count": 10,
      "outputs": []
    },
    {
      "cell_type": "code",
      "metadata": {
        "colab": {
          "base_uri": "https://localhost:8080/",
          "height": 53
        },
        "id": "6K6sB29J1h3Q",
        "outputId": "8ccdf684-aade-4d79-92df-c108e40a6ceb"
      },
      "source": [
        "maria =Student()\n",
        "maria.hello"
      ],
      "execution_count": 11,
      "outputs": [
        {
          "output_type": "stream",
          "text": [
            "Person.__init__\n"
          ],
          "name": "stdout"
        },
        {
          "output_type": "execute_result",
          "data": {
            "application/vnd.google.colaboratory.intrinsic+json": {
              "type": "string"
            },
            "text/plain": [
              "'안녕하세요'"
            ]
          },
          "metadata": {
            "tags": []
          },
          "execution_count": 11
        }
      ]
    },
    {
      "cell_type": "markdown",
      "metadata": {
        "id": "L9y8FZda13fZ"
      },
      "source": [
        "##36.4 Method Overriding"
      ]
    },
    {
      "cell_type": "code",
      "metadata": {
        "id": "BZqbN49l1qlA"
      },
      "source": [
        "class Person:\n",
        "  def greeting(self):\n",
        "    print('안녕하세요?')\n",
        "\n",
        "class Student(Person):\n",
        "  def greeting(self):\n",
        "    print('안녕하세요? 저는 파이썬 학생입니다.')"
      ],
      "execution_count": 12,
      "outputs": []
    },
    {
      "cell_type": "code",
      "metadata": {
        "colab": {
          "base_uri": "https://localhost:8080/"
        },
        "id": "YEPUHCjs2jIO",
        "outputId": "3c12016d-d945-4689-8ef5-ff8332abe9c0"
      },
      "source": [
        "james = Student()\n",
        "james.greeting()"
      ],
      "execution_count": 13,
      "outputs": [
        {
          "output_type": "stream",
          "text": [
            "안녕하세요? 저는 파이썬 학생입니다.\n"
          ],
          "name": "stdout"
        }
      ]
    },
    {
      "cell_type": "code",
      "metadata": {
        "id": "yCFrQOrn2mun"
      },
      "source": [
        "class Person:    # 모든 class 는 object라는 class의 상속을 받는다.(최상위 조상)\n",
        "  def greeting(self):\n",
        "    print('안녕하세요?')\n",
        "\n",
        "class Student(Person):\n",
        "  def greeting(self):\n",
        "    super().greeting()       # super는 바로 위 상속에 적용된다.\n",
        "    print('안녕하세요? 저는 파이썬 학생입니다.')"
      ],
      "execution_count": 14,
      "outputs": []
    },
    {
      "cell_type": "code",
      "metadata": {
        "colab": {
          "base_uri": "https://localhost:8080/"
        },
        "id": "F-ebF7JS3fCI",
        "outputId": "1675986a-0b89-4b6c-c8e6-18d7ab2c777c"
      },
      "source": [
        "maria = Student()\n",
        "maria.greeting()"
      ],
      "execution_count": 15,
      "outputs": [
        {
          "output_type": "stream",
          "text": [
            "안녕하세요?\n",
            "안녕하세요? 저는 파이썬 학생입니다.\n"
          ],
          "name": "stdout"
        }
      ]
    },
    {
      "cell_type": "code",
      "metadata": {
        "id": "utEelxja3ji-"
      },
      "source": [
        "## 다중 상속은 피하자! "
      ],
      "execution_count": null,
      "outputs": []
    },
    {
      "cell_type": "markdown",
      "metadata": {
        "id": "XFTR66uV6jqY"
      },
      "source": [
        "## 36.6 추상 클래스 - Interface"
      ]
    },
    {
      "cell_type": "code",
      "metadata": {
        "id": "WoLZ6Vub6njT"
      },
      "source": [
        "# 모듈을 import 해준다\n",
        "from abc import *\n",
        "\n",
        "class StudentBase(metaclass=ABCMeta):\n",
        "  @abstractmethod                 #decorator\n",
        "  def study(self):\n",
        "    pass\n",
        "  @abstractmethod\n",
        "  def go_to_school(self):\n",
        "    pass"
      ],
      "execution_count": 17,
      "outputs": []
    },
    {
      "cell_type": "code",
      "metadata": {
        "id": "8fb7KxHn-_NP"
      },
      "source": [
        "class Student(StudentBase):\n",
        "  def study(self):\n",
        "    print('공부하기')"
      ],
      "execution_count": 18,
      "outputs": []
    },
    {
      "cell_type": "code",
      "metadata": {
        "colab": {
          "base_uri": "https://localhost:8080/",
          "height": 190
        },
        "id": "SWqIXKeR_GaW",
        "outputId": "1aeb05f8-c1cc-42ea-c0db-ea4ccd1a165c"
      },
      "source": [
        "james = Student()\n",
        "james.study"
      ],
      "execution_count": 19,
      "outputs": [
        {
          "output_type": "error",
          "ename": "TypeError",
          "evalue": "ignored",
          "traceback": [
            "\u001b[0;31m---------------------------------------------------------------------------\u001b[0m",
            "\u001b[0;31mTypeError\u001b[0m                                 Traceback (most recent call last)",
            "\u001b[0;32m<ipython-input-19-58a8e6eb2e3d>\u001b[0m in \u001b[0;36m<module>\u001b[0;34m()\u001b[0m\n\u001b[0;32m----> 1\u001b[0;31m \u001b[0mjames\u001b[0m \u001b[0;34m=\u001b[0m \u001b[0mStudent\u001b[0m\u001b[0;34m(\u001b[0m\u001b[0;34m)\u001b[0m\u001b[0;34m\u001b[0m\u001b[0;34m\u001b[0m\u001b[0m\n\u001b[0m\u001b[1;32m      2\u001b[0m \u001b[0mjames\u001b[0m\u001b[0;34m.\u001b[0m\u001b[0mstudy\u001b[0m\u001b[0;34m\u001b[0m\u001b[0;34m\u001b[0m\u001b[0m\n",
            "\u001b[0;31mTypeError\u001b[0m: Can't instantiate abstract class Student with abstract methods go_to_school"
          ]
        }
      ]
    },
    {
      "cell_type": "code",
      "metadata": {
        "id": "Wlal-RlP_Ld3"
      },
      "source": [
        "class Student(StudentBase):\n",
        "  def study(self):\n",
        "    print('공부하기')\n",
        "  def go_to_school(self):\n",
        "    print('학교가기')"
      ],
      "execution_count": 20,
      "outputs": []
    },
    {
      "cell_type": "code",
      "metadata": {
        "colab": {
          "base_uri": "https://localhost:8080/"
        },
        "id": "vk4Fk2mR_dNn",
        "outputId": "0e37ca14-f6db-45fc-ece5-da4fc853b4f3"
      },
      "source": [
        "james = Student()\n",
        "james.study()"
      ],
      "execution_count": 22,
      "outputs": [
        {
          "output_type": "stream",
          "text": [
            "공부하기\n"
          ],
          "name": "stdout"
        }
      ]
    },
    {
      "cell_type": "code",
      "metadata": {
        "id": "p22uXEy8_kmV"
      },
      "source": [
        ""
      ],
      "execution_count": null,
      "outputs": []
    }
  ]
}