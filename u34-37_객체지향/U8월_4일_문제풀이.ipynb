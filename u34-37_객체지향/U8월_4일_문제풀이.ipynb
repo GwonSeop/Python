{
  "nbformat": 4,
  "nbformat_minor": 0,
  "metadata": {
    "colab": {
      "name": "U8월 4일 문제풀이.ipynb",
      "provenance": [],
      "collapsed_sections": []
    },
    "kernelspec": {
      "name": "python3",
      "display_name": "Python 3"
    },
    "language_info": {
      "name": "python"
    }
  },
  "cells": [
    {
      "cell_type": "markdown",
      "metadata": {
        "id": "zjKrjq1OEAsa"
      },
      "source": [
        "##32-1 심사문제\n"
      ]
    },
    {
      "cell_type": "code",
      "metadata": {
        "colab": {
          "base_uri": "https://localhost:8080/"
        },
        "id": "m8lQbB0xD7FY",
        "outputId": "15455871-03c5-473c-c3d5-9a2f913c0e72"
      },
      "source": [
        "files = input().split()\n",
        "list(map(lambda x : f\"{int(x.split('.')[0]):03d}.{x.split('.')[1]}\", files))"
      ],
      "execution_count": 54,
      "outputs": [
        {
          "output_type": "stream",
          "text": [
            "1.jpg 10.png 11.png 2.jpg 3.png\n"
          ],
          "name": "stdout"
        },
        {
          "output_type": "execute_result",
          "data": {
            "text/plain": [
              "['001.jpg', '010.png', '011.png', '002.jpg', '003.png']"
            ]
          },
          "metadata": {
            "tags": []
          },
          "execution_count": 54
        }
      ]
    },
    {
      "cell_type": "markdown",
      "metadata": {
        "id": "iXbHEYNwTFRv"
      },
      "source": [
        "33-1 심사문제"
      ]
    },
    {
      "cell_type": "code",
      "metadata": {
        "colab": {
          "base_uri": "https://localhost:8080/"
        },
        "id": "XZtMhCDhMHN9",
        "outputId": "89643346-b144-4f27-bd91-42dfca3733cd"
      },
      "source": [
        "def countdown(n):\n",
        "  i = n+1\n",
        "  def count():\n",
        "    nonlocal i\n",
        "    i -= 1\n",
        "    return i\n",
        "  return count\n",
        "\n",
        "n = int(input())\n",
        " \n",
        "c = countdown(n)\n",
        "for i in range(n):\n",
        "    print(c(), end=' ')"
      ],
      "execution_count": 60,
      "outputs": [
        {
          "output_type": "stream",
          "text": [
            "10\n",
            "10 9 8 7 6 5 4 3 2 1 "
          ],
          "name": "stdout"
        }
      ]
    },
    {
      "cell_type": "markdown",
      "metadata": {
        "id": "eiqVe26jZDoB"
      },
      "source": [
        "34-1 심사문제"
      ]
    },
    {
      "cell_type": "code",
      "metadata": {
        "colab": {
          "base_uri": "https://localhost:8080/"
        },
        "id": "4VkZmH0EZFn6",
        "outputId": "5941d88b-8be2-44c2-8dec-45717ea56ce4"
      },
      "source": [
        "class Annie:\n",
        "  def __init__(self, health, mana, ability_power):\n",
        "    self.health = health\n",
        "    self.mana = mana\n",
        "    self.ability_power = ability_power\n",
        "  def tibbers(self):\n",
        "    print(f'티버: 피해량 {self.ability_power * 0.65 + 400}')\n",
        "health, mana, ability_power = map(float, input().split())\n",
        " \n",
        "x = Annie(health=health, mana=mana, ability_power=ability_power)\n",
        "x.tibbers()"
      ],
      "execution_count": 65,
      "outputs": [
        {
          "output_type": "stream",
          "text": [
            "511.68 334.0 298\n",
            "티버: 피해량 593.7\n"
          ],
          "name": "stdout"
        }
      ]
    },
    {
      "cell_type": "markdown",
      "metadata": {
        "id": "qpvxavZBcxXJ"
      },
      "source": [
        "35-1 심사문제"
      ]
    },
    {
      "cell_type": "code",
      "metadata": {
        "colab": {
          "base_uri": "https://localhost:8080/"
        },
        "id": "HU5jZ7vJbpg7",
        "outputId": "35606e2a-dba7-4587-e5dd-17a5eeef3be0"
      },
      "source": [
        "class Time:\n",
        "    def __init__(self, hour, minute, second):\n",
        "        self.hour = hour\n",
        "        self.minute = minute\n",
        "        self.second = second\n",
        "    @classmethod\n",
        "    def from_string(cls,time_string):\n",
        "      hour, minute, second = map(int, time_string.split(':'))\n",
        "      time = cls(hour, minute, second)\n",
        "      return time\n",
        "    @staticmethod\n",
        "    def is_time_valid(time_string):\n",
        "      hour, minute, second = map(int, time_string.split(':'))\n",
        "      return hour <= 24 and minute <=59 and second <=60\n",
        "\n",
        "\n",
        "time_string = input()\n",
        " \n",
        "if Time.is_time_valid(time_string):\n",
        "    t = Time.from_string(time_string)\n",
        "    print(t.hour, t.minute, t.second)\n",
        "else:\n",
        "    print('잘못된 시간 형식입니다.')"
      ],
      "execution_count": 69,
      "outputs": [
        {
          "output_type": "stream",
          "text": [
            "12:62:43\n",
            "잘못된 시간 형식입니다.\n"
          ],
          "name": "stdout"
        }
      ]
    },
    {
      "cell_type": "markdown",
      "metadata": {
        "id": "4E78w7ENg0wv"
      },
      "source": [
        "36-1 심사문제"
      ]
    },
    {
      "cell_type": "code",
      "metadata": {
        "colab": {
          "base_uri": "https://localhost:8080/"
        },
        "id": "4HdaDcDldbC5",
        "outputId": "f5655037-4063-43f4-c0e9-9de330205ecf"
      },
      "source": [
        "class Animal:\n",
        "    def eat(self):\n",
        "        print('먹다')\n",
        " \n",
        "class Wing:\n",
        "    def flap(self):\n",
        "        print('파닥거리다')\n",
        "class Bird(Animal, Wing):\n",
        "    def fly(self):\n",
        "        print('날다')\n",
        "\n",
        "b = Bird()\n",
        "b.eat()\n",
        "b.flap()\n",
        "b.fly()\n",
        "print(issubclass(Bird, Animal))\n",
        "print(issubclass(Bird, Wing))\n"
      ],
      "execution_count": 70,
      "outputs": [
        {
          "output_type": "stream",
          "text": [
            "먹다\n",
            "파닥거리다\n",
            "날다\n",
            "True\n",
            "True\n"
          ],
          "name": "stdout"
        }
      ]
    }
  ]
}