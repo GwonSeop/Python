{
  "nbformat": 4,
  "nbformat_minor": 0,
  "metadata": {
    "colab": {
      "name": "U38_예외처리.ipynb",
      "provenance": [],
      "collapsed_sections": []
    },
    "kernelspec": {
      "name": "python3",
      "display_name": "Python 3"
    },
    "language_info": {
      "name": "python"
    }
  },
  "cells": [
    {
      "cell_type": "markdown",
      "metadata": {
        "id": "1-BsHG0OsKMA"
      },
      "source": [
        "# Unit 38. 예외 처리"
      ]
    },
    {
      "cell_type": "markdown",
      "metadata": {
        "id": "Hoyyj4lOtJzq"
      },
      "source": [
        "## 38.1 try - except"
      ]
    },
    {
      "cell_type": "code",
      "metadata": {
        "colab": {
          "base_uri": "https://localhost:8080/"
        },
        "id": "CbKC8tYgsCdR",
        "outputId": "6c79d982-db0d-4095-f5cb-521afff21fa3"
      },
      "source": [
        "a =[1,2,3]\n",
        "try:\n",
        "  a[4]\n",
        "except:\n",
        "  print('예외 발생')"
      ],
      "execution_count": 2,
      "outputs": [
        {
          "output_type": "stream",
          "text": [
            "예외 발생\n"
          ],
          "name": "stdout"
        }
      ]
    },
    {
      "cell_type": "code",
      "metadata": {
        "colab": {
          "base_uri": "https://localhost:8080/",
          "height": 172
        },
        "id": "1A8juYRUst9L",
        "outputId": "f366eac0-2401-4727-ae52-3d15274b5036"
      },
      "source": [
        "int('10d')"
      ],
      "execution_count": 4,
      "outputs": [
        {
          "output_type": "error",
          "ename": "ValueError",
          "evalue": "ignored",
          "traceback": [
            "\u001b[0;31m---------------------------------------------------------------------------\u001b[0m",
            "\u001b[0;31mValueError\u001b[0m                                Traceback (most recent call last)",
            "\u001b[0;32m<ipython-input-4-331fb23f7ae1>\u001b[0m in \u001b[0;36m<module>\u001b[0;34m()\u001b[0m\n\u001b[0;32m----> 1\u001b[0;31m \u001b[0mint\u001b[0m\u001b[0;34m(\u001b[0m\u001b[0;34m'10d'\u001b[0m\u001b[0;34m)\u001b[0m\u001b[0;34m\u001b[0m\u001b[0;34m\u001b[0m\u001b[0m\n\u001b[0m",
            "\u001b[0;31mValueError\u001b[0m: invalid literal for int() with base 10: '10d'"
          ]
        }
      ]
    },
    {
      "cell_type": "code",
      "metadata": {
        "colab": {
          "base_uri": "https://localhost:8080/"
        },
        "id": "5lGe70IiulmT",
        "outputId": "2f50ad4f-6aa0-4c89-b13a-a40105053661"
      },
      "source": [
        "try:\n",
        "  int('10d')\n",
        "except ZeroDivisionError:\n",
        "  print('0으로 나눌 수 없습니다.')\n",
        "except IndexError:\n",
        "  print('Index Error 발생')\n",
        "except ValueError:\n",
        "  print('Value Error 발생')"
      ],
      "execution_count": 5,
      "outputs": [
        {
          "output_type": "stream",
          "text": [
            "Value Error 발생\n"
          ],
          "name": "stdout"
        }
      ]
    },
    {
      "cell_type": "markdown",
      "metadata": {
        "id": "kb0JW-tCw9O6"
      },
      "source": [
        "### 예외의 에러 메시지 받아오기"
      ]
    },
    {
      "cell_type": "code",
      "metadata": {
        "colab": {
          "base_uri": "https://localhost:8080/"
        },
        "id": "pb1w9vVIw9y7",
        "outputId": "01123f9e-a417-483f-ac02-bdd631fd5a8c"
      },
      "source": [
        "try:\n",
        "  int('10d')\n",
        "except Exception as e:   # alias \n",
        "  print(e)               # Exception 객체의 __str__() method\n"
      ],
      "execution_count": 9,
      "outputs": [
        {
          "output_type": "stream",
          "text": [
            "<class 'Exception'>\n"
          ],
          "name": "stdout"
        }
      ]
    },
    {
      "cell_type": "markdown",
      "metadata": {
        "id": "afANpTQsxhBF"
      },
      "source": [
        "## 38.2 else - finally"
      ]
    },
    {
      "cell_type": "code",
      "metadata": {
        "colab": {
          "base_uri": "https://localhost:8080/"
        },
        "id": "WHmuI9NLxMxI",
        "outputId": "4d52f7d7-65b8-4a13-d9d3-13eaa6ffe928"
      },
      "source": [
        "try:\n",
        "  x = int(input('나눌 숫자를 입력 > '))\n",
        "  y = 10 / x\n",
        "except Exception as e:\n",
        "  print(e)\n",
        "else:\n",
        "  print(y)"
      ],
      "execution_count": 12,
      "outputs": [
        {
          "output_type": "stream",
          "text": [
            "나눌 숫자를 입력 > j\n",
            "invalid literal for int() with base 10: 'j'\n"
          ],
          "name": "stdout"
        }
      ]
    },
    {
      "cell_type": "code",
      "metadata": {
        "colab": {
          "base_uri": "https://localhost:8080/"
        },
        "id": "ZuIBY8Gt1-df",
        "outputId": "bc97b2e1-60ce-437f-e73e-f40a84f6ec01"
      },
      "source": [
        "# 예외와 상관없이 항상 실행\n",
        "try:\n",
        "  x = int(input('나눌 숫자를 입력 > '))\n",
        "  y = 10 / x\n",
        "except Exception as e:\n",
        "  print(e)\n",
        "else:\n",
        "  print(y)\n",
        "finally:\n",
        "  print('코드 실행 종료')"
      ],
      "execution_count": 14,
      "outputs": [
        {
          "output_type": "stream",
          "text": [
            "나눌 숫자를 입력 > ㅗ\n",
            "invalid literal for int() with base 10: 'ㅗ'\n",
            "코드 실행 종료\n"
          ],
          "name": "stdout"
        }
      ]
    },
    {
      "cell_type": "markdown",
      "metadata": {
        "id": "5Om0kNhT3aNN"
      },
      "source": [
        "## 38.3 예외 발생시키기"
      ]
    },
    {
      "cell_type": "code",
      "metadata": {
        "colab": {
          "base_uri": "https://localhost:8080/"
        },
        "id": "n6IlSkjI3dQo",
        "outputId": "df3929ae-6b09-44ca-cbb9-ebd85c2a5191"
      },
      "source": [
        "import random\n",
        "try:\n",
        "  x = random.randint(1,10)\n",
        "  print(x)\n",
        "  if x % 3 != 0:\n",
        "    raise Exception('3의 배수가 아닙니다.')\n",
        "except Exception as e:\n",
        "  print('예외 발생', e)\n",
        "\n"
      ],
      "execution_count": 29,
      "outputs": [
        {
          "output_type": "stream",
          "text": [
            "6\n"
          ],
          "name": "stdout"
        }
      ]
    },
    {
      "cell_type": "code",
      "metadata": {
        "id": "mzS65uUn5Z0n"
      },
      "source": [
        "def mulitple11(x):\n",
        "  if x % 11 != 0:\n",
        "    raise Exception('11의 배수가 아닙니다.')\n",
        "  print(x)\n"
      ],
      "execution_count": 35,
      "outputs": []
    },
    {
      "cell_type": "code",
      "metadata": {
        "colab": {
          "base_uri": "https://localhost:8080/"
        },
        "id": "mUZC1c5d6Nq4",
        "outputId": "de628867-177e-40ce-81e7-b881e0c07a3d"
      },
      "source": [
        "try:\n",
        "  mulitple11(100)\n",
        "except Exception as e:\n",
        "  print('예외 발생 -', e)"
      ],
      "execution_count": 36,
      "outputs": [
        {
          "output_type": "stream",
          "text": [
            "예외 발생 - 11의 배수가 아닙니다.\n"
          ],
          "name": "stdout"
        }
      ]
    },
    {
      "cell_type": "code",
      "metadata": {
        "id": "RrHIz2Dd6QbG"
      },
      "source": [
        "try:\n",
        "  for():\n",
        "    for():\n",
        "      for():\n",
        "        if 조건:\n",
        "          raise Exception()        #한번에 루프탈출\n",
        "except:\n",
        "  ;\n"
      ],
      "execution_count": null,
      "outputs": []
    },
    {
      "cell_type": "markdown",
      "metadata": {
        "id": "leGODym17lT6"
      },
      "source": [
        "## 38.4 예외 만들기"
      ]
    },
    {
      "cell_type": "code",
      "metadata": {
        "id": "aghidIaA7oY6"
      },
      "source": [
        "# Exeption 객체를 상속받아 객체를 만들면 됨"
      ],
      "execution_count": null,
      "outputs": []
    }
  ]
}