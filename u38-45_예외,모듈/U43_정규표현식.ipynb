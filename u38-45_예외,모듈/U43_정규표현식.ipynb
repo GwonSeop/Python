{
  "nbformat": 4,
  "nbformat_minor": 0,
  "metadata": {
    "colab": {
      "name": "U43_정규표현식.ipynb",
      "provenance": [],
      "collapsed_sections": []
    },
    "kernelspec": {
      "name": "python3",
      "display_name": "Python 3"
    },
    "language_info": {
      "name": "python"
    }
  },
  "cells": [
    {
      "cell_type": "markdown",
      "metadata": {
        "id": "k2gFfT_r-_we"
      },
      "source": [
        "# Unit 43. 정규 표현식"
      ]
    },
    {
      "cell_type": "markdown",
      "metadata": {
        "id": "Rh98WUJe_GJu"
      },
      "source": [
        "### 문자열 판단"
      ]
    },
    {
      "cell_type": "code",
      "metadata": {
        "colab": {
          "base_uri": "https://localhost:8080/"
        },
        "id": "BVC8jykE8LBt",
        "outputId": "6d571828-2d6d-4545-bf91-b2afc31e13ed"
      },
      "source": [
        "import re\n",
        "re.match('Hello', 'Hello, world!')       #패턴, 문자열\n",
        "# match('시작할때 나오는','사용하려는 문자')"
      ],
      "execution_count": 1,
      "outputs": [
        {
          "output_type": "execute_result",
          "data": {
            "text/plain": [
              "<re.Match object; span=(0, 5), match='Hello'>"
            ]
          },
          "metadata": {
            "tags": []
          },
          "execution_count": 1
        }
      ]
    },
    {
      "cell_type": "code",
      "metadata": {
        "colab": {
          "base_uri": "https://localhost:8080/"
        },
        "id": "8wviUarH_aqu",
        "outputId": "6f1b8ea8-27d2-4446-f91a-00dbcce988c3"
      },
      "source": [
        "z = re.match('world', 'Hello, world!')\n",
        "if z:\n",
        "  print('Found!!')\n",
        "else:\n",
        "  print('Not found.')"
      ],
      "execution_count": 3,
      "outputs": [
        {
          "output_type": "stream",
          "text": [
            "Not found.\n"
          ],
          "name": "stdout"
        }
      ]
    },
    {
      "cell_type": "code",
      "metadata": {
        "colab": {
          "base_uri": "https://localhost:8080/"
        },
        "id": "KpUDmvItC2f1",
        "outputId": "da0b3fed-ecf6-4aa1-8b15-9dc7635e3247"
      },
      "source": [
        "if re.match('world', 'Hello, world!'):     \n",
        "# match()는 문장의 처음에서 찾음 \n",
        "  print('Found!!')\n",
        "else:\n",
        "  print('Not found.')"
      ],
      "execution_count": 5,
      "outputs": [
        {
          "output_type": "stream",
          "text": [
            "Not found.\n"
          ],
          "name": "stdout"
        }
      ]
    },
    {
      "cell_type": "code",
      "metadata": {
        "colab": {
          "base_uri": "https://localhost:8080/"
        },
        "id": "-VBZY6hpDMO1",
        "outputId": "2f455331-c244-4d53-88af-15fa8b51706a"
      },
      "source": [
        "# search()는 문장 전체에서 찾음\n",
        "if re.search('world', 'Hello, world!'):     \n",
        "  print('Found!!')\n",
        "else:\n",
        "  print('Not found.')"
      ],
      "execution_count": 6,
      "outputs": [
        {
          "output_type": "stream",
          "text": [
            "Found!!\n"
          ],
          "name": "stdout"
        }
      ]
    },
    {
      "cell_type": "markdown",
      "metadata": {
        "id": "Ima-McCmDloQ"
      },
      "source": [
        "## 43.2 범위 판단"
      ]
    },
    {
      "cell_type": "code",
      "metadata": {
        "colab": {
          "base_uri": "https://localhost:8080/"
        },
        "id": "upNpzcd6Dg1U",
        "outputId": "5026a721-60b7-4fde-8e9c-8dd2148dd3b0"
      },
      "source": [
        "# 휴대전화 번호형식\n",
        "pattern = '01[0-9]-[0-9]{4}-[0-9]{4}'\n",
        "text = '02-1234-5678'\n",
        "if re.match(pattern, text):\n",
        "  print('올바른 휴대전화번호')\n",
        "else:\n",
        "  print('잘못된 휴대전화번호')"
      ],
      "execution_count": 8,
      "outputs": [
        {
          "output_type": "stream",
          "text": [
            "잘못된 휴대전화번호\n"
          ],
          "name": "stdout"
        }
      ]
    },
    {
      "cell_type": "code",
      "metadata": {
        "colab": {
          "base_uri": "https://localhost:8080/"
        },
        "id": "w7ZvYu2rEqMh",
        "outputId": "9e74f64f-25e7-4484-8669-9b57cd6381e3"
      },
      "source": [
        "# 한글 패턴\n",
        "hangul = '[ㄱ-ㅎ ㅏ=ㅣ가-힣]+'\n",
        "text = 'ㅗtext'\n",
        "if re.search(hangul, text):\n",
        "  print('한글이 있음')\n",
        "else:\n",
        "  print('한글이 없음')"
      ],
      "execution_count": 11,
      "outputs": [
        {
          "output_type": "stream",
          "text": [
            "한글이 없음\n"
          ],
          "name": "stdout"
        }
      ]
    },
    {
      "cell_type": "markdown",
      "metadata": {
        "id": "V50FHHGIJ4VI"
      },
      "source": [
        "### 이메일 주소 검사하기"
      ]
    },
    {
      "cell_type": "code",
      "metadata": {
        "colab": {
          "base_uri": "https://localhost:8080/"
        },
        "id": "MNFp68rAJ0JZ",
        "outputId": "a7d10ee1-9515-44a3-aa19-10faa94e2e54"
      },
      "source": [
        "p = re.compile('^[a-zA-Z0-9+-_.]+@[a-zA-Z0-9-]+\\.[a-zA-Z0-9-.]+$')\n",
        "emails = ['python@mail.example.com', 'python+kr@example.com',              # 올바른 형식\n",
        "          'python-dojang@example.co.kr', 'python_10@example.info',         # 올바른 형식\n",
        "          'python.dojang@e-xample.com',                                    # 올바른 형식\n",
        "          '@example.com', 'python@example', 'python@example-com']          # 잘못된 형식]\n",
        "for email in emails:\n",
        "  print(p.match(email) != True, end=' ')          "
      ],
      "execution_count": 24,
      "outputs": [
        {
          "output_type": "stream",
          "text": [
            "True True True True True True True True "
          ],
          "name": "stdout"
        }
      ]
    },
    {
      "cell_type": "markdown",
      "metadata": {
        "id": "cpBOuYlDGGQx"
      },
      "source": [
        "##43.4 문자열 바꾸기"
      ]
    },
    {
      "cell_type": "code",
      "metadata": {
        "colab": {
          "base_uri": "https://localhost:8080/",
          "height": 35
        },
        "id": "fea0hRqFGJMa",
        "outputId": "52579925-a7a9-4380-9d5d-e6fb483e6ebf"
      },
      "source": [
        "# re.sub('패턴', '바꿀 문자열', '문자열')\n",
        "re.sub('apple|orange','fruit','apple box orange tree')"
      ],
      "execution_count": 12,
      "outputs": [
        {
          "output_type": "execute_result",
          "data": {
            "application/vnd.google.colaboratory.intrinsic+json": {
              "type": "string"
            },
            "text/plain": [
              "'fruit box fruit tree'"
            ]
          },
          "metadata": {
            "tags": []
          },
          "execution_count": 12
        }
      ]
    },
    {
      "cell_type": "code",
      "metadata": {
        "colab": {
          "base_uri": "https://localhost:8080/",
          "height": 35
        },
        "id": "op3gFyohFu5T",
        "outputId": "dffb2a54-b5ea-41b1-90a2-9f8f6c5a210b"
      },
      "source": [
        "re.sub('[0-9]+','n','1 2 Fizz 4 Buzz Fizz 7 8 Fizz Buzz 11 12')"
      ],
      "execution_count": 14,
      "outputs": [
        {
          "output_type": "execute_result",
          "data": {
            "application/vnd.google.colaboratory.intrinsic+json": {
              "type": "string"
            },
            "text/plain": [
              "'n n Fizz n Buzz Fizz n n Fizz Buzz nn nn'"
            ]
          },
          "metadata": {
            "tags": []
          },
          "execution_count": 14
        }
      ]
    },
    {
      "cell_type": "code",
      "metadata": {
        "id": "nmz_1l7gG70M"
      },
      "source": [
        "text = '''특히 cls를 사용하면 메서드 안에서 현재 클래스의 인스턴스를 만들 수도\n",
        " 있습니다. 즉, cls는 클래스이므로 cls()는 Person()과 같습니다. '''\n",
        " "
      ],
      "execution_count": 19,
      "outputs": []
    },
    {
      "cell_type": "code",
      "metadata": {
        "colab": {
          "base_uri": "https://localhost:8080/",
          "height": 53
        },
        "id": "dTON9GmRHooe",
        "outputId": "a3cd94ab-ae27-409e-c50f-06b645edb4e7"
      },
      "source": [
        "not_hangul_blank = '[^ㄱ-ㅎ ㅏ-ㅣ 가-힣 ]'\n",
        "text = re.sub(not_hangul_blank, '',text)\n",
        "text"
      ],
      "execution_count": 20,
      "outputs": [
        {
          "output_type": "execute_result",
          "data": {
            "application/vnd.google.colaboratory.intrinsic+json": {
              "type": "string"
            },
            "text/plain": [
              "'특히 를 사용하면 메서드 안에서 현재 클래스의 인스턴스를 만들 수도 있습니다 즉 는 클래스이므로 는 과 같습니다 '"
            ]
          },
          "metadata": {
            "tags": []
          },
          "execution_count": 20
        }
      ]
    },
    {
      "cell_type": "code",
      "metadata": {
        "colab": {
          "base_uri": "https://localhost:8080/",
          "height": 35
        },
        "id": "45VB12F5H8Cb",
        "outputId": "42845329-2263-4a4e-a89f-fb1a9ea7ce4d"
      },
      "source": [
        "text = '에밀리블린 사랑해,, 사랑스러움의 끝 ㅜㅜ 4DX로 보면 더 재밌을 듯'\n",
        "text = re.sub(not_hangul_blank,'',text)\n",
        "text"
      ],
      "execution_count": 23,
      "outputs": [
        {
          "output_type": "execute_result",
          "data": {
            "application/vnd.google.colaboratory.intrinsic+json": {
              "type": "string"
            },
            "text/plain": [
              "'에밀리블린 사랑해 사랑스러움의 끝 ㅜㅜ 로 보면 더 재밌을 듯'"
            ]
          },
          "metadata": {
            "tags": []
          },
          "execution_count": 23
        }
      ]
    },
    {
      "cell_type": "code",
      "metadata": {
        "id": "SsJjq2ivJOzU"
      },
      "source": [
        ""
      ],
      "execution_count": null,
      "outputs": []
    }
  ]
}