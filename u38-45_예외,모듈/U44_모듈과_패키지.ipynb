{
  "nbformat": 4,
  "nbformat_minor": 0,
  "metadata": {
    "colab": {
      "name": "U44_모듈과 패키지.ipynb",
      "provenance": [],
      "collapsed_sections": []
    },
    "kernelspec": {
      "name": "python3",
      "display_name": "Python 3"
    },
    "language_info": {
      "name": "python"
    }
  },
  "cells": [
    {
      "cell_type": "markdown",
      "metadata": {
        "id": "IljGRQf-fPHI"
      },
      "source": [
        "# Unit 44. 모듈과 패키지"
      ]
    },
    {
      "cell_type": "code",
      "metadata": {
        "colab": {
          "base_uri": "https://localhost:8080/"
        },
        "id": "iYX6529afHaF",
        "outputId": "0b3640e0-fe94-45d7-eeb1-ae3f043842b7"
      },
      "source": [
        "import math\n",
        "math.pi"
      ],
      "execution_count": 2,
      "outputs": [
        {
          "output_type": "execute_result",
          "data": {
            "text/plain": [
              "3.141592653589793"
            ]
          },
          "metadata": {
            "tags": []
          },
          "execution_count": 2
        }
      ]
    },
    {
      "cell_type": "code",
      "metadata": {
        "colab": {
          "base_uri": "https://localhost:8080/"
        },
        "id": "Jvv2vlOUgMtD",
        "outputId": "7adf0cda-e9b1-410f-eaae-823212a87e57"
      },
      "source": [
        "math.sqrt(2), math.log2(2), math.sin(math.pi/2)"
      ],
      "execution_count": 4,
      "outputs": [
        {
          "output_type": "execute_result",
          "data": {
            "text/plain": [
              "(1.4142135623730951, 1.0, 1.0)"
            ]
          },
          "metadata": {
            "tags": []
          },
          "execution_count": 4
        }
      ]
    },
    {
      "cell_type": "code",
      "metadata": {
        "colab": {
          "base_uri": "https://localhost:8080/"
        },
        "id": "KfOhnMXLgRJZ",
        "outputId": "acd3808e-92f4-4e28-f9eb-a13117fd4c8d"
      },
      "source": [
        "# aliasing\n",
        "import math as m\n",
        "m.pi"
      ],
      "execution_count": 5,
      "outputs": [
        {
          "output_type": "execute_result",
          "data": {
            "text/plain": [
              "3.141592653589793"
            ]
          },
          "metadata": {
            "tags": []
          },
          "execution_count": 5
        }
      ]
    },
    {
      "cell_type": "code",
      "metadata": {
        "colab": {
          "base_uri": "https://localhost:8080/"
        },
        "id": "01zKDSzOhlLa",
        "outputId": "11b21ed2-82da-442f-8927-de7310ec29ff"
      },
      "source": [
        "# from을 통해서 함수, 클래스, 전역변수 등을 가져올 수 있음\n",
        "from math import sqrt, pi\n",
        "round(pi,4), round(sqrt(2),4)   #라운드는 소숫점 몇자리까지 정하는 매쏘드"
      ],
      "execution_count": 6,
      "outputs": [
        {
          "output_type": "execute_result",
          "data": {
            "text/plain": [
              "(3.1416, 1.4142)"
            ]
          },
          "metadata": {
            "tags": []
          },
          "execution_count": 6
        }
      ]
    },
    {
      "cell_type": "code",
      "metadata": {
        "colab": {
          "base_uri": "https://localhost:8080/"
        },
        "id": "qRTy_cWqhzEE",
        "outputId": "1022e8a1-37b3-4e69-a23c-77ba401a70e4"
      },
      "source": [
        "# 모든 것을 가져옴\n",
        "from math import *\n",
        "log2(2), sin(pi/2)"
      ],
      "execution_count": 8,
      "outputs": [
        {
          "output_type": "execute_result",
          "data": {
            "text/plain": [
              "(1.0, 1.0)"
            ]
          },
          "metadata": {
            "tags": []
          },
          "execution_count": 8
        }
      ]
    },
    {
      "cell_type": "markdown",
      "metadata": {
        "id": "caa4nv1Xg33h"
      },
      "source": [
        "## 44.2 import 패키지"
      ]
    },
    {
      "cell_type": "code",
      "metadata": {
        "colab": {
          "base_uri": "https://localhost:8080/"
        },
        "id": "P_yj2eEzi79E",
        "outputId": "a07529e6-792f-4236-a6dd-9b769f316613"
      },
      "source": [
        "import urllib.request\n",
        "res = urllib.request.urlopen('http://www.google.co.kr')\n",
        "res.status"
      ],
      "execution_count": 10,
      "outputs": [
        {
          "output_type": "execute_result",
          "data": {
            "text/plain": [
              "200"
            ]
          },
          "metadata": {
            "tags": []
          },
          "execution_count": 10
        }
      ]
    },
    {
      "cell_type": "code",
      "metadata": {
        "colab": {
          "base_uri": "https://localhost:8080/"
        },
        "id": "1cC1MKJxjM9R",
        "outputId": "46481010-c954-493b-92cf-0930bd7c4477"
      },
      "source": [
        "from urllib.request import urlopen\n",
        "res = urlopen('http://www.google.co.kr')\n",
        "res.status"
      ],
      "execution_count": 11,
      "outputs": [
        {
          "output_type": "execute_result",
          "data": {
            "text/plain": [
              "200"
            ]
          },
          "metadata": {
            "tags": []
          },
          "execution_count": 11
        }
      ]
    },
    {
      "cell_type": "code",
      "metadata": {
        "id": "8grX9iL2jkeB"
      },
      "source": [
        "import"
      ],
      "execution_count": null,
      "outputs": []
    }
  ]
}