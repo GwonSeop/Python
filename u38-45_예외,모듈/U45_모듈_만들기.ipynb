{
  "nbformat": 4,
  "nbformat_minor": 0,
  "metadata": {
    "colab": {
      "name": "U45.모듈 만들기.ipynb",
      "provenance": [],
      "collapsed_sections": []
    },
    "kernelspec": {
      "name": "python3",
      "display_name": "Python 3"
    },
    "language_info": {
      "name": "python"
    }
  },
  "cells": [
    {
      "cell_type": "code",
      "metadata": {
        "id": "VwhcO2KisVEr"
      },
      "source": [
        ""
      ],
      "execution_count": null,
      "outputs": []
    },
    {
      "cell_type": "markdown",
      "metadata": {
        "id": "3Rrc5AuUtDdE"
      },
      "source": [
        "#45 모듈 만들기"
      ]
    },
    {
      "cell_type": "markdown",
      "metadata": {
        "id": "U8TV6Fd_tHes"
      },
      "source": [
        "## 45.1 모듈 만들기\n"
      ]
    },
    {
      "cell_type": "code",
      "metadata": {
        "colab": {
          "base_uri": "https://localhost:8080/"
        },
        "id": "flgObFnltK7W",
        "outputId": "69a13f08-496c-4852-8809-6c4e035906bc"
      },
      "source": [
        "# .py로 만들어진 모듈을 사용할 수 있다.\n",
        "import u45_square2 as sq\n",
        "\n",
        "print(sq.base)\n",
        "print(sq.square(10))"
      ],
      "execution_count": 1,
      "outputs": [
        {
          "output_type": "stream",
          "text": [
            "2\n",
            "1024\n"
          ],
          "name": "stdout"
        }
      ]
    },
    {
      "cell_type": "code",
      "metadata": {
        "colab": {
          "base_uri": "https://localhost:8080/"
        },
        "id": "B-dQJ5C-tTG3",
        "outputId": "b2c1d10d-1276-4674-a85a-bae6d0930572"
      },
      "source": [
        "from u45_person import Person\n",
        "\n",
        "maria = Person('마리아',25,'서울')\n",
        "maria.greeting()"
      ],
      "execution_count": 9,
      "outputs": [
        {
          "output_type": "stream",
          "text": [
            "안녕하세요? 저는 마리아입니다.\n"
          ],
          "name": "stdout"
        }
      ]
    },
    {
      "cell_type": "code",
      "metadata": {
        "colab": {
          "base_uri": "https://localhost:8080/"
        },
        "id": "5Yt0TT-41C6P",
        "outputId": "fd07f177-32ea-4967-fcd3-c8c1ee216737"
      },
      "source": [
        "# list\n",
        "# ! -Shell escape를 통해서 ls -l __pycache__ 명령\n",
        "!ls -l __pycache__"
      ],
      "execution_count": 7,
      "outputs": [
        {
          "output_type": "stream",
          "text": [
            "total 0\n"
          ],
          "name": "stdout"
        }
      ]
    },
    {
      "cell_type": "code",
      "metadata": {
        "id": "dRedsMzOw86Q",
        "colab": {
          "base_uri": "https://localhost:8080/"
        },
        "outputId": "393a99e6-8ef8-43f3-b458-3aa0609aea8e"
      },
      "source": [
        "# 모듈을 새로 수정했을 때 사용\n",
        "!rm __pycache__/*"
      ],
      "execution_count": 10,
      "outputs": [
        {
          "output_type": "stream",
          "text": [
            "rm: cannot remove '__pycache__/*': No such file or directory\n"
          ],
          "name": "stdout"
        }
      ]
    },
    {
      "cell_type": "code",
      "metadata": {
        "colab": {
          "base_uri": "https://localhost:8080/"
        },
        "id": "IveWqNcQ0uA0",
        "outputId": "11461dfe-0041-492d-9ea7-7083e86177d9"
      },
      "source": [
        "!ls -l __pycache__"
      ],
      "execution_count": 6,
      "outputs": [
        {
          "output_type": "stream",
          "text": [
            "total 0\n"
          ],
          "name": "stdout"
        }
      ]
    },
    {
      "cell_type": "markdown",
      "metadata": {
        "id": "NoGUs9tK2MVL"
      },
      "source": [
        "## 45.2 모듈과 시작점\n"
      ]
    },
    {
      "cell_type": "code",
      "metadata": {
        "colab": {
          "base_uri": "https://localhost:8080/"
        },
        "id": "dTQYpZcv0-aX",
        "outputId": "33300857-f8b3-4d09-b9cc-5f223979546c"
      },
      "source": [
        "!python u45_square2.py # 직접 실행"
      ],
      "execution_count": 2,
      "outputs": [
        {
          "output_type": "stream",
          "text": [
            "2\n",
            "1024\n"
          ],
          "name": "stdout"
        }
      ]
    },
    {
      "cell_type": "code",
      "metadata": {
        "colab": {
          "base_uri": "https://localhost:8080/"
        },
        "id": "362p7aAP2UCc",
        "outputId": "d6ce8c11-af0f-41e0-cb4e-e49550cc875b"
      },
      "source": [
        "a = [1,2,3]\n",
        "dir(a)"
      ],
      "execution_count": 3,
      "outputs": [
        {
          "output_type": "execute_result",
          "data": {
            "text/plain": [
              "['__add__',\n",
              " '__class__',\n",
              " '__contains__',\n",
              " '__delattr__',\n",
              " '__delitem__',\n",
              " '__dir__',\n",
              " '__doc__',\n",
              " '__eq__',\n",
              " '__format__',\n",
              " '__ge__',\n",
              " '__getattribute__',\n",
              " '__getitem__',\n",
              " '__gt__',\n",
              " '__hash__',\n",
              " '__iadd__',\n",
              " '__imul__',\n",
              " '__init__',\n",
              " '__init_subclass__',\n",
              " '__iter__',\n",
              " '__le__',\n",
              " '__len__',\n",
              " '__lt__',\n",
              " '__mul__',\n",
              " '__ne__',\n",
              " '__new__',\n",
              " '__reduce__',\n",
              " '__reduce_ex__',\n",
              " '__repr__',\n",
              " '__reversed__',\n",
              " '__rmul__',\n",
              " '__setattr__',\n",
              " '__setitem__',\n",
              " '__sizeof__',\n",
              " '__str__',\n",
              " '__subclasshook__',\n",
              " 'append',\n",
              " 'clear',\n",
              " 'copy',\n",
              " 'count',\n",
              " 'extend',\n",
              " 'index',\n",
              " 'insert',\n",
              " 'pop',\n",
              " 'remove',\n",
              " 'reverse',\n",
              " 'sort']"
            ]
          },
          "metadata": {
            "tags": []
          },
          "execution_count": 3
        }
      ]
    },
    {
      "cell_type": "code",
      "metadata": {
        "colab": {
          "base_uri": "https://localhost:8080/"
        },
        "id": "P1uK-TQ73Go2",
        "outputId": "063c88c7-6682-440e-f201-d395a707b6ae"
      },
      "source": [
        "import u45_hello"
      ],
      "execution_count": 4,
      "outputs": [
        {
          "output_type": "stream",
          "text": [
            "hello 모듈 시작\n",
            "hello.py __name__ u45_hello\n",
            "hello 모듈 끝\n"
          ],
          "name": "stdout"
        }
      ]
    },
    {
      "cell_type": "code",
      "metadata": {
        "colab": {
          "base_uri": "https://localhost:8080/"
        },
        "id": "s90QBKvy-28O",
        "outputId": "618761de-d936-47df-bb5d-810332e1b2c5"
      },
      "source": [
        "!python u45_hello.py"
      ],
      "execution_count": 5,
      "outputs": [
        {
          "output_type": "stream",
          "text": [
            "hello 모듈 시작\n",
            "hello.py __name__ __main__\n",
            "hello 모듈 끝\n"
          ],
          "name": "stdout"
        }
      ]
    },
    {
      "cell_type": "markdown",
      "metadata": {
        "id": "soop5qkcAXIS"
      },
      "source": [
        "### Account 클래스를 bank 디렉토리 밑에 util.py라는 이름으로 사용"
      ]
    },
    {
      "cell_type": "code",
      "metadata": {
        "id": "wvKwJsYO_BNL"
      },
      "source": [
        "!mkdir bank"
      ],
      "execution_count": 6,
      "outputs": []
    },
    {
      "cell_type": "code",
      "metadata": {
        "colab": {
          "base_uri": "https://localhost:8080/"
        },
        "id": "uvrHEq3nArWO",
        "outputId": "2500c534-7a93-4d6a-f8bc-90fb9667c7a8"
      },
      "source": [
        "!ls -l"
      ],
      "execution_count": 8,
      "outputs": [
        {
          "output_type": "stream",
          "text": [
            "total 24\n",
            "drwxr-xr-x 2 root root 4096 Aug  5 06:31 bank\n",
            "drwxr-xr-x 2 root root 4096 Aug  5 06:23 __pycache__\n",
            "drwxr-xr-x 1 root root 4096 Aug  5 05:21 sample_data\n",
            "-rw-r--r-- 1 root root   95 Aug  5 06:23 u45_hello.py\n",
            "-rw-r--r-- 1 root root  223 Aug  5 05:24 u45_person.py\n",
            "-rw-r--r-- 1 root root  121 Aug  5 05:44 u45_square2.py\n"
          ],
          "name": "stdout"
        }
      ]
    },
    {
      "cell_type": "code",
      "metadata": {
        "id": "l3cL3jqjAxV1"
      },
      "source": [
        "from bank.u45_util import Account"
      ],
      "execution_count": 11,
      "outputs": []
    },
    {
      "cell_type": "code",
      "metadata": {
        "colab": {
          "base_uri": "https://localhost:8080/"
        },
        "id": "rfnPjzEUBuaC",
        "outputId": "b5b0605f-4a70-48f2-a41e-6ef8a1a2a700"
      },
      "source": [
        "!ls -l bank"
      ],
      "execution_count": 12,
      "outputs": [
        {
          "output_type": "stream",
          "text": [
            "total 8\n",
            "drwxr-xr-x 2 root root 4096 Aug  5 06:41 __pycache__\n",
            "-rw-r--r-- 1 root root  706 Aug  5 06:38 u45_util.py\n"
          ],
          "name": "stdout"
        }
      ]
    },
    {
      "cell_type": "code",
      "metadata": {
        "colab": {
          "base_uri": "https://localhost:8080/"
        },
        "id": "Ndu8oejiC2Ih",
        "outputId": "db09e0e3-7770-4f61-bf03-01f14f8dff79"
      },
      "source": [
        "acc = Account('123456','제임스', 100000)\n",
        "print(acc)"
      ],
      "execution_count": 13,
      "outputs": [
        {
          "output_type": "stream",
          "text": [
            "계좌번호 : 123456, name : 제임스, 잔액 :   100,000\n"
          ],
          "name": "stdout"
        }
      ]
    },
    {
      "cell_type": "code",
      "metadata": {
        "id": "5PKWXHUpC7lK"
      },
      "source": [
        ""
      ],
      "execution_count": null,
      "outputs": []
    }
  ]
}