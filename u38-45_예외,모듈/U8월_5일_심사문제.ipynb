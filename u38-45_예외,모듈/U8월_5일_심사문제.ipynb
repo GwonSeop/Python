{
  "nbformat": 4,
  "nbformat_minor": 0,
  "metadata": {
    "colab": {
      "name": "U8월 5일 심사문제.ipynb",
      "provenance": []
    },
    "kernelspec": {
      "name": "python3",
      "display_name": "Python 3"
    },
    "language_info": {
      "name": "python"
    }
  },
  "cells": [
    {
      "cell_type": "markdown",
      "metadata": {
        "id": "0cXLjgQ7LsP5"
      },
      "source": [
        "37-1 심사문제"
      ]
    },
    {
      "cell_type": "code",
      "metadata": {
        "colab": {
          "base_uri": "https://localhost:8080/"
        },
        "id": "UPUQ441qMH8E",
        "outputId": "e270a6c2-12e7-4318-ddca-f6ff7453e8ed"
      },
      "source": [
        "import math\n",
        " \n",
        "class Point2D:\n",
        "    def __init__(self, x=0, y=0):\n",
        "        self.x = x\n",
        "        self.y = y\n",
        " \n",
        "length = 0.0\n",
        "p = [Point2D(), Point2D(), Point2D(), Point2D()]\n",
        "p[0].x, p[0].y, p[1].x, p[1].y, p[2].x, p[2].y, p[3].x, p[3].y = map(int, input().split())\n",
        "for i in range(3):\n",
        "  a = math.sqrt((p[i].x - p[i+1].x) ** 2 + (p[i].y - p[i+1].y) ** 2)\n",
        "  length += a\n",
        "print(length)\n"
      ],
      "execution_count": 6,
      "outputs": [
        {
          "output_type": "stream",
          "text": [
            "10 10 20 20 30 30 40 40\n",
            "42.42640687119285\n"
          ],
          "name": "stdout"
        }
      ]
    },
    {
      "cell_type": "markdown",
      "metadata": {
        "id": "IGpvNAllRoVv"
      },
      "source": [
        "38-1 심사문제"
      ]
    },
    {
      "cell_type": "code",
      "metadata": {
        "colab": {
          "base_uri": "https://localhost:8080/"
        },
        "id": "9K0f0RCNM7Iy",
        "outputId": "1e0c7e05-6174-4528-fb64-9330474da5c2"
      },
      "source": [
        "class NotPalindromeError(Exception):\n",
        "  def __init__(self):\n",
        "    super().__init__('회문이 아닙니다.')\n",
        "def palindrome(x):\n",
        "  if x != x[::-1]:\n",
        "    raise NotPalindromeError\n",
        "  print(x)\n",
        "try:\n",
        "    word = input()\n",
        "    palindrome(word)\n",
        "except NotPalindromeError as e:\n",
        "    print(e)"
      ],
      "execution_count": 45,
      "outputs": [
        {
          "output_type": "stream",
          "text": [
            "asdad\n",
            "회문이 아닙니다.\n"
          ],
          "name": "stdout"
        }
      ]
    },
    {
      "cell_type": "markdown",
      "metadata": {
        "id": "D-R99SJ1b59W"
      },
      "source": [
        "43-1"
      ]
    },
    {
      "cell_type": "code",
      "metadata": {
        "colab": {
          "base_uri": "https://localhost:8080/"
        },
        "id": "IBtRH-s4UZEe",
        "outputId": "1eca2508-80ba-48b5-a41b-dcdb9a4eecb5"
      },
      "source": [
        "import re\n",
        "x = input()\n",
        "if re.match('https?://+[a-zA-Z0-9-]+\\.[a-zA-Z0-9-.]+/[a-zA-Z0-9-_/.?=]*', x):\n",
        "  print(True)\n",
        "else:\n",
        "  print(False)\n"
      ],
      "execution_count": 60,
      "outputs": [
        {
          "output_type": "stream",
          "text": [
            "https://example/hello/world.html\n",
            "False\n"
          ],
          "name": "stdout"
        }
      ]
    },
    {
      "cell_type": "code",
      "metadata": {
        "id": "lqi2ozoxfytd"
      },
      "source": [
        ""
      ],
      "execution_count": null,
      "outputs": []
    }
  ]
}